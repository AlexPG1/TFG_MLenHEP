{
 "cells": [
  {
   "cell_type": "markdown",
   "id": "bcf90354-d8d2-4766-811a-c126822593b2",
   "metadata": {
    "jp-MarkdownHeadingCollapsed": true,
    "tags": []
   },
   "source": [
    "# **Rèplica primera sessió - càrrega de dades**"
   ]
  },
  {
   "cell_type": "code",
   "execution_count": null,
   "id": "da11321b-ff73-4c4b-b14c-e77447fabca8",
   "metadata": {},
   "outputs": [],
   "source": [
    "# Atajos útils:\n",
    "# Ctrl + / --> comentar (en el numeric pad!)\n",
    "# Ctrl + ç --> comentar tb"
   ]
  },
  {
   "cell_type": "markdown",
   "id": "3e7947b1-5c66-49f7-bfa0-4c5bdea5db17",
   "metadata": {},
   "source": [
    "Primerament instal·lem un parell de ferramentes útils"
   ]
  },
  {
   "cell_type": "code",
   "execution_count": null,
   "id": "180a51d4-052c-4e0c-9558-45da072d7442",
   "metadata": {
    "tags": []
   },
   "outputs": [],
   "source": [
    "pip install -r requirements.txt\n",
    "pip install lckr-jupyterlab-variableinspector"
   ]
  },
  {
   "cell_type": "markdown",
   "id": "15a31874-60b5-48d5-bef2-2ceb164e1303",
   "metadata": {},
   "source": [
    "Repliquem el mecanisme de càlcul de temps d'execució"
   ]
  },
  {
   "cell_type": "code",
   "execution_count": null,
   "id": "5a9a0346-e518-46c1-a3d1-41a182e3e14b",
   "metadata": {},
   "outputs": [],
   "source": [
    "# Examen d'eficiència\n",
    "startTime = time.time()\n",
    "alltr = pd.read_csv(r\"D:\\OneDrive\\Universitat\\5. Quart'\\TFG\\RstudioPython\\Dades\\Normal\\all_train.csv\")\n",
    "endTime = time.time()\n",
    "print(endTime-startTime)\n",
    "\n",
    "# Tarda 63 segons! La meitat que el segon mecanisme en R."
   ]
  },
  {
   "cell_type": "code",
   "execution_count": null,
   "id": "2e02d4d6-6f49-42fc-a0bf-f50a7dc81c9e",
   "metadata": {
    "tags": []
   },
   "outputs": [],
   "source": [
    "# f1000a = open(r\"D:/OneDrive/Universitat/5. Quart'/TFG/RstudioPython/Dades/NoNormalTrue/xttbar_m1000_aug17.txt\", mode ='r')\n",
    "# f1000b = open(r\"D:/OneDrive/Universitat/5. Quart'/TFG/RstudioPython/Dades/NoNormalTrue/xttbar_m1000_aug4.txt\", mode ='r')\n",
    "# readme = open(r\"D:/OneDrive/Universitat/5. Quart'/TFG/RstudioPython/Dades/NoNormalTrue/xttbar_m1000_aug4.txt\")\n",
    "# lineslist = readme.readlines()\n",
    "# cols, rows = (int(val) for val in lines_list[0].split())"
   ]
  },
  {
   "cell_type": "code",
   "execution_count": null,
   "id": "8278f4e4-f6f3-4a91-8bfc-725847726ae1",
   "metadata": {
    "tags": []
   },
   "outputs": [],
   "source": [
    "# Seleccionem únicament les dades signal/background\n",
    "milTrSignal = alltr.loc[(alltr[\"mass\"] == 1000) & (alltr[\"# label\"] == 1)]\n",
    "milTrBackground = alltr.loc[(alltr[\"mass\"] == 1000) & (alltr[\"# label\"] == 0)]\n",
    "# adult_names = titanic.loc[titanic[\"Age\"] > 35, \"Name\"]\n",
    "\n",
    "# Error detectat: & té major prioritat que ==, així que cal emprar parèntesis!"
   ]
  },
  {
   "cell_type": "code",
   "execution_count": null,
   "id": "23e59662-f1f7-411d-ba71-27af0adbf9f7",
   "metadata": {
    "tags": []
   },
   "outputs": [],
   "source": [
    "del(allTrBackground, allTrSignal) # Mètode per eliminar variables"
   ]
  },
  {
   "cell_type": "markdown",
   "id": "59db1549-6d3e-4f02-bc0b-9218251d5390",
   "metadata": {
    "tags": []
   },
   "source": [
    "## Càrrega de dades final"
   ]
  },
  {
   "cell_type": "code",
   "execution_count": null,
   "id": "ee738d1e-9cf5-402b-812c-83a523638ab2",
   "metadata": {},
   "outputs": [],
   "source": [
    "# Cel·la definitiva - càrrega de dades\n",
    "import pandas as pd\n",
    "import numpy as np\n",
    "import time\n",
    "\n",
    "alltr = pd.read_csv(r\"D:\\OneDrive\\Universitat\\5. Quart'\\TFG\\RstudioPython\\Dades\\Normal\\all_train.csv\")\n",
    "miltr = pd.read_csv(r\"D:\\OneDrive\\Universitat\\5. Quart'\\TFG\\RstudioPython\\Dades\\Normal\\1000_train.csv\")"
   ]
  },
  {
   "cell_type": "code",
   "execution_count": null,
   "id": "9891d24b-b273-4650-9196-3e9253353781",
   "metadata": {
    "tags": []
   },
   "outputs": [],
   "source": [
    "# Trunquem les dades, seleccionem únicament 10 000. A més, la separem en la informació coneguda i la que pretenem predir.\n",
    "Xdata = np.array(miltr.loc[:,[\"f0\",\"f1\",\"f2\",\"f3\",\"f4\",\"f5\",\"f6\",\"f7\",\"f8\",\"f9\",\"f10\",\"f11\",\"f12\",\"f13\",\"f14\",\"f15\",\"f16\",\"f17\",\"f18\",\"f19\",\"f20\",\"f21\"]])\n",
    "# Ydata = np.array(miltr.loc[:,\"# label\"])\n",
    "Ydata = np.array(miltr.index)[1:10001]\n",
    "Xdata = Xdata[0:10000,:]"
   ]
  },
  {
   "cell_type": "code",
   "execution_count": null,
   "id": "66d5dfe2-5743-4bc4-982a-10657320833f",
   "metadata": {
    "tags": []
   },
   "outputs": [],
   "source": [
    "print(Xdata)"
   ]
  },
  {
   "cell_type": "code",
   "execution_count": null,
   "id": "dbba32ff-b584-4db1-81c0-ad0cc06170ea",
   "metadata": {
    "tags": []
   },
   "outputs": [],
   "source": [
    "print(miltr)"
   ]
  },
  {
   "cell_type": "markdown",
   "id": "92fe06bf-7984-4fcc-858e-0c3805f21ef3",
   "metadata": {
    "tags": []
   },
   "source": [
    "# **Segona sessió: normalització, matrius de correlació i decision trees**"
   ]
  },
  {
   "cell_type": "markdown",
   "id": "dae57014-dc51-4da0-9341-faea5d40724d",
   "metadata": {
    "jp-MarkdownHeadingCollapsed": true,
    "tags": []
   },
   "source": [
    "## Càrrega de dades (tr i tst)"
   ]
  },
  {
   "cell_type": "code",
   "execution_count": null,
   "id": "17b1f546-a955-4923-bcec-6ec9fbf4ccfe",
   "metadata": {},
   "outputs": [],
   "source": [
    "import pandas as pd\n",
    "import numpy as np\n",
    "import time\n",
    "\n",
    "miltr = pd.read_csv(r\"D:\\OneDrive\\Universitat\\5. Quint\\TFG\\RstudioPython\\Dades\\Normal\\1000_train.csv\")\n",
    "miltst = pd.read_csv(r\"D:\\OneDrive\\Universitat\\5. Quint\\TFG\\RstudioPython\\Dades\\Normal\\1000_test.csv\")\n",
    "alltr = pd.read_csv(r\"D:\\OneDrive\\Universitat\\5. Quint\\TFG\\RstudioPython\\Dades\\Normal\\all_train.csv\")\n",
    "alltst = pd.read_csv(r\"D:\\OneDrive\\Universitat\\5. Quint\\TFG\\RstudioPython\\Dades\\Normal\\all_test.csv\")\n",
    "\n",
    "# del(alltr,alltst)\n",
    "# del(miltr, miltst)"
   ]
  },
  {
   "cell_type": "markdown",
   "id": "edcacb35-3b76-4b18-b881-a342340d0d3a",
   "metadata": {
    "jp-MarkdownHeadingCollapsed": true,
    "tags": []
   },
   "source": [
    "## Matrius de correlació"
   ]
  },
  {
   "cell_type": "markdown",
   "id": "9562e9b8-654a-4759-bbb3-78cdb50b58cd",
   "metadata": {},
   "source": [
    "Preprocesem les dades: seleccionem solament signal (`# label == 1`) i variables HL i pTs"
   ]
  },
  {
   "cell_type": "code",
   "execution_count": 23,
   "id": "3618e0e1-b0dc-49c4-b283-0ddda0f5471a",
   "metadata": {
    "tags": []
   },
   "outputs": [],
   "source": [
    "milTrSignal = miltr.loc[miltr.index == 1]\n",
    "milTrSignal = miltr.loc[:,[\"# label\",\"f6\",\"f10\",\"f14\",\"f18\",\"f21\",\"f22\",\"f23\",\"f24\",\"f25\"]]\n",
    "milTrSignal.columns = [\"Lept_pt\",\"j1_pt\",\"j2_pt\",\"j3_pt\",\"j4_pt\",\"m_jj\",\"m_jjj\",\"m_lv\",\"m_jlv\",\"m_wwbb\"]"
   ]
  },
  {
   "cell_type": "markdown",
   "id": "feea95c6-ad4d-437b-8f12-9862ba8c5821",
   "metadata": {},
   "source": [
    "Representem la matriu"
   ]
  },
  {
   "cell_type": "code",
   "execution_count": 33,
   "id": "74a4beea-9569-414d-bfdd-4d8afd999df4",
   "metadata": {
    "tags": []
   },
   "outputs": [
    {
     "data": {
      "image/png": "[encoded data removed]",
      "text/plain": [
       "<Figure size 1000x1000 with 1 Axes>"
      ]
     },
     "metadata": {},
     "output_type": "display_data"
    }
   ],
   "source": [
    "import matplotlib.pyplot as plt\n",
    "\n",
    "# plt.matshow(milTrSignal.corr())\n",
    "# plt.show()\n",
    "f = plt.figure(figsize=(10, 10))\n",
    "plt.matshow(milTrSignal.corr(), fignum=f.number)\n",
    "\n",
    "plt.xticks(range(milTrSignal.select_dtypes(['number']).shape[1]), milTrSignal.select_dtypes(['number']).columns, fontsize=14, rotation=45)\n",
    "plt.yticks(range(milTrSignal.select_dtypes(['number']).shape[1]), milTrSignal.select_dtypes(['number']).columns, fontsize=14)\n",
    "\n",
    "# ax=plt.gca() #get the current axes\n",
    "# PCM=ax.get_children()[2]\n",
    "# cb = plt.colorbar(PCM,ax=ax)\n",
    "# cb.ax.tick_params(labelsize=14)\n",
    "\n",
    "plt.title('Correlation Matrix', fontsize=16);"
   ]
  },
  {
   "cell_type": "code",
   "execution_count": 34,
   "id": "e1d9f035-322d-4cc1-9efe-d0e7680408dd",
   "metadata": {
    "tags": []
   },
   "outputs": [
    {
     "data": {
      "text/html": [
       "<style type=\"text/css\">\n",
       "#T_01cc2_row0_col0, #T_01cc2_row1_col1, #T_01cc2_row2_col2, #T_01cc2_row3_col3, #T_01cc2_row4_col4, #T_01cc2_row5_col5, #T_01cc2_row6_col6, #T_01cc2_row7_col7, #T_01cc2_row8_col8, #T_01cc2_row9_col9 {\n",
       "  background-color: #b40426;\n",
       "  color: #f1f1f1;\n",
       "}\n",
       "#T_01cc2_row0_col1, #T_01cc2_row0_col2, #T_01cc2_row0_col3, #T_01cc2_row0_col4, #T_01cc2_row1_col0, #T_01cc2_row1_col5, #T_01cc2_row1_col6, #T_01cc2_row1_col7, #T_01cc2_row1_col8, #T_01cc2_row1_col9, #T_01cc2_row2_col0, #T_01cc2_row2_col5, #T_01cc2_row2_col6, #T_01cc2_row2_col7, #T_01cc2_row2_col8, #T_01cc2_row2_col9, #T_01cc2_row3_col0, #T_01cc2_row3_col5, #T_01cc2_row3_col6, #T_01cc2_row3_col7, #T_01cc2_row3_col8, #T_01cc2_row3_col9, #T_01cc2_row4_col0, #T_01cc2_row4_col5, #T_01cc2_row4_col6, #T_01cc2_row4_col7, #T_01cc2_row4_col8, #T_01cc2_row4_col9, #T_01cc2_row5_col1, #T_01cc2_row5_col2, #T_01cc2_row5_col3, #T_01cc2_row5_col4, #T_01cc2_row6_col1, #T_01cc2_row6_col2, #T_01cc2_row6_col3, #T_01cc2_row6_col4, #T_01cc2_row7_col1, #T_01cc2_row7_col2, #T_01cc2_row7_col3, #T_01cc2_row7_col4, #T_01cc2_row8_col1, #T_01cc2_row8_col2, #T_01cc2_row8_col3, #T_01cc2_row8_col4, #T_01cc2_row9_col1, #T_01cc2_row9_col2, #T_01cc2_row9_col3, #T_01cc2_row9_col4 {\n",
       "  background-color: #3b4cc0;\n",
       "  color: #f1f1f1;\n",
       "}\n",
       "#T_01cc2_row0_col5, #T_01cc2_row5_col0 {\n",
       "  background-color: #5673e0;\n",
       "  color: #f1f1f1;\n",
       "}\n",
       "#T_01cc2_row0_col6, #T_01cc2_row6_col0 {\n",
       "  background-color: #5e7de7;\n",
       "  color: #f1f1f1;\n",
       "}\n",
       "#T_01cc2_row0_col7, #T_01cc2_row7_col0 {\n",
       "  background-color: #9bbcff;\n",
       "  color: #000000;\n",
       "}\n",
       "#T_01cc2_row0_col8, #T_01cc2_row8_col0 {\n",
       "  background-color: #8fb1fe;\n",
       "  color: #000000;\n",
       "}\n",
       "#T_01cc2_row0_col9, #T_01cc2_row1_col2, #T_01cc2_row2_col1, #T_01cc2_row9_col0 {\n",
       "  background-color: #a5c3fe;\n",
       "  color: #000000;\n",
       "}\n",
       "#T_01cc2_row1_col3, #T_01cc2_row3_col1 {\n",
       "  background-color: #aac7fd;\n",
       "  color: #000000;\n",
       "}\n",
       "#T_01cc2_row1_col4, #T_01cc2_row4_col1 {\n",
       "  background-color: #9ebeff;\n",
       "  color: #000000;\n",
       "}\n",
       "#T_01cc2_row2_col3, #T_01cc2_row3_col2 {\n",
       "  background-color: #92b4fe;\n",
       "  color: #000000;\n",
       "}\n",
       "#T_01cc2_row2_col4, #T_01cc2_row4_col2 {\n",
       "  background-color: #88abfd;\n",
       "  color: #000000;\n",
       "}\n",
       "#T_01cc2_row3_col4, #T_01cc2_row4_col3 {\n",
       "  background-color: #81a4fb;\n",
       "  color: #f1f1f1;\n",
       "}\n",
       "#T_01cc2_row5_col6, #T_01cc2_row6_col5 {\n",
       "  background-color: #f39577;\n",
       "  color: #000000;\n",
       "}\n",
       "#T_01cc2_row5_col7, #T_01cc2_row7_col5 {\n",
       "  background-color: #465ecf;\n",
       "  color: #f1f1f1;\n",
       "}\n",
       "#T_01cc2_row5_col8, #T_01cc2_row8_col5 {\n",
       "  background-color: #6687ed;\n",
       "  color: #f1f1f1;\n",
       "}\n",
       "#T_01cc2_row5_col9, #T_01cc2_row9_col5 {\n",
       "  background-color: #96b7ff;\n",
       "  color: #000000;\n",
       "}\n",
       "#T_01cc2_row6_col7, #T_01cc2_row7_col6 {\n",
       "  background-color: #4c66d6;\n",
       "  color: #f1f1f1;\n",
       "}\n",
       "#T_01cc2_row6_col8, #T_01cc2_row8_col6 {\n",
       "  background-color: #90b2fe;\n",
       "  color: #000000;\n",
       "}\n",
       "#T_01cc2_row6_col9, #T_01cc2_row9_col6 {\n",
       "  background-color: #cad8ef;\n",
       "  color: #000000;\n",
       "}\n",
       "#T_01cc2_row7_col8, #T_01cc2_row8_col7 {\n",
       "  background-color: #7093f3;\n",
       "  color: #f1f1f1;\n",
       "}\n",
       "#T_01cc2_row7_col9, #T_01cc2_row9_col7 {\n",
       "  background-color: #6384eb;\n",
       "  color: #f1f1f1;\n",
       "}\n",
       "#T_01cc2_row8_col9, #T_01cc2_row9_col8 {\n",
       "  background-color: #dbdcde;\n",
       "  color: #000000;\n",
       "}\n",
       "</style>\n",
       "<table id=\"T_01cc2\">\n",
       "  <thead>\n",
       "    <tr>\n",
       "      <th class=\"blank level0\" >&nbsp;</th>\n",
       "      <th id=\"T_01cc2_level0_col0\" class=\"col_heading level0 col0\" >Lept_pt</th>\n",
       "      <th id=\"T_01cc2_level0_col1\" class=\"col_heading level0 col1\" >j1_pt</th>\n",
       "      <th id=\"T_01cc2_level0_col2\" class=\"col_heading level0 col2\" >j2_pt</th>\n",
       "      <th id=\"T_01cc2_level0_col3\" class=\"col_heading level0 col3\" >j3_pt</th>\n",
       "      <th id=\"T_01cc2_level0_col4\" class=\"col_heading level0 col4\" >j4_pt</th>\n",
       "      <th id=\"T_01cc2_level0_col5\" class=\"col_heading level0 col5\" >m_jj</th>\n",
       "      <th id=\"T_01cc2_level0_col6\" class=\"col_heading level0 col6\" >m_jjj</th>\n",
       "      <th id=\"T_01cc2_level0_col7\" class=\"col_heading level0 col7\" >m_lv</th>\n",
       "      <th id=\"T_01cc2_level0_col8\" class=\"col_heading level0 col8\" >m_jlv</th>\n",
       "      <th id=\"T_01cc2_level0_col9\" class=\"col_heading level0 col9\" >m_wwbb</th>\n",
       "    </tr>\n",
       "  </thead>\n",
       "  <tbody>\n",
       "    <tr>\n",
       "      <th id=\"T_01cc2_level0_row0\" class=\"row_heading level0 row0\" >Lept_pt</th>\n",
       "      <td id=\"T_01cc2_row0_col0\" class=\"data row0 col0\" >1.000000</td>\n",
       "      <td id=\"T_01cc2_row0_col1\" class=\"data row0 col1\" >-0.000065</td>\n",
       "      <td id=\"T_01cc2_row0_col2\" class=\"data row0 col2\" >0.000439</td>\n",
       "      <td id=\"T_01cc2_row0_col3\" class=\"data row0 col3\" >-0.000164</td>\n",
       "      <td id=\"T_01cc2_row0_col4\" class=\"data row0 col4\" >0.000665</td>\n",
       "      <td id=\"T_01cc2_row0_col5\" class=\"data row0 col5\" >0.090895</td>\n",
       "      <td id=\"T_01cc2_row0_col6\" class=\"data row0 col6\" >0.115301</td>\n",
       "      <td id=\"T_01cc2_row0_col7\" class=\"data row0 col7\" >0.289434</td>\n",
       "      <td id=\"T_01cc2_row0_col8\" class=\"data row0 col8\" >0.253861</td>\n",
       "      <td id=\"T_01cc2_row0_col9\" class=\"data row0 col9\" >0.319434</td>\n",
       "    </tr>\n",
       "    <tr>\n",
       "      <th id=\"T_01cc2_level0_row1\" class=\"row_heading level0 row1\" >j1_pt</th>\n",
       "      <td id=\"T_01cc2_row1_col0\" class=\"data row1 col0\" >-0.000065</td>\n",
       "      <td id=\"T_01cc2_row1_col1\" class=\"data row1 col1\" >1.000000</td>\n",
       "      <td id=\"T_01cc2_row1_col2\" class=\"data row1 col2\" >0.317722</td>\n",
       "      <td id=\"T_01cc2_row1_col3\" class=\"data row1 col3\" >0.332589</td>\n",
       "      <td id=\"T_01cc2_row1_col4\" class=\"data row1 col4\" >0.299979</td>\n",
       "      <td id=\"T_01cc2_row1_col5\" class=\"data row1 col5\" >0.000429</td>\n",
       "      <td id=\"T_01cc2_row1_col6\" class=\"data row1 col6\" >0.000596</td>\n",
       "      <td id=\"T_01cc2_row1_col7\" class=\"data row1 col7\" >-0.000782</td>\n",
       "      <td id=\"T_01cc2_row1_col8\" class=\"data row1 col8\" >-0.000133</td>\n",
       "      <td id=\"T_01cc2_row1_col9\" class=\"data row1 col9\" >0.000458</td>\n",
       "    </tr>\n",
       "    <tr>\n",
       "      <th id=\"T_01cc2_level0_row2\" class=\"row_heading level0 row2\" >j2_pt</th>\n",
       "      <td id=\"T_01cc2_row2_col0\" class=\"data row2 col0\" >0.000439</td>\n",
       "      <td id=\"T_01cc2_row2_col1\" class=\"data row2 col1\" >0.317722</td>\n",
       "      <td id=\"T_01cc2_row2_col2\" class=\"data row2 col2\" >1.000000</td>\n",
       "      <td id=\"T_01cc2_row2_col3\" class=\"data row2 col3\" >0.262361</td>\n",
       "      <td id=\"T_01cc2_row2_col4\" class=\"data row2 col4\" >0.236009</td>\n",
       "      <td id=\"T_01cc2_row2_col5\" class=\"data row2 col5\" >0.000290</td>\n",
       "      <td id=\"T_01cc2_row2_col6\" class=\"data row2 col6\" >0.000139</td>\n",
       "      <td id=\"T_01cc2_row2_col7\" class=\"data row2 col7\" >-0.000703</td>\n",
       "      <td id=\"T_01cc2_row2_col8\" class=\"data row2 col8\" >-0.000137</td>\n",
       "      <td id=\"T_01cc2_row2_col9\" class=\"data row2 col9\" >0.000417</td>\n",
       "    </tr>\n",
       "    <tr>\n",
       "      <th id=\"T_01cc2_level0_row3\" class=\"row_heading level0 row3\" >j3_pt</th>\n",
       "      <td id=\"T_01cc2_row3_col0\" class=\"data row3 col0\" >-0.000164</td>\n",
       "      <td id=\"T_01cc2_row3_col1\" class=\"data row3 col1\" >0.332589</td>\n",
       "      <td id=\"T_01cc2_row3_col2\" class=\"data row3 col2\" >0.262361</td>\n",
       "      <td id=\"T_01cc2_row3_col3\" class=\"data row3 col3\" >1.000000</td>\n",
       "      <td id=\"T_01cc2_row3_col4\" class=\"data row3 col4\" >0.218003</td>\n",
       "      <td id=\"T_01cc2_row3_col5\" class=\"data row3 col5\" >0.000233</td>\n",
       "      <td id=\"T_01cc2_row3_col6\" class=\"data row3 col6\" >0.000538</td>\n",
       "      <td id=\"T_01cc2_row3_col7\" class=\"data row3 col7\" >-0.000221</td>\n",
       "      <td id=\"T_01cc2_row3_col8\" class=\"data row3 col8\" >0.000119</td>\n",
       "      <td id=\"T_01cc2_row3_col9\" class=\"data row3 col9\" >0.000584</td>\n",
       "    </tr>\n",
       "    <tr>\n",
       "      <th id=\"T_01cc2_level0_row4\" class=\"row_heading level0 row4\" >j4_pt</th>\n",
       "      <td id=\"T_01cc2_row4_col0\" class=\"data row4 col0\" >0.000665</td>\n",
       "      <td id=\"T_01cc2_row4_col1\" class=\"data row4 col1\" >0.299979</td>\n",
       "      <td id=\"T_01cc2_row4_col2\" class=\"data row4 col2\" >0.236009</td>\n",
       "      <td id=\"T_01cc2_row4_col3\" class=\"data row4 col3\" >0.218003</td>\n",
       "      <td id=\"T_01cc2_row4_col4\" class=\"data row4 col4\" >1.000000</td>\n",
       "      <td id=\"T_01cc2_row4_col5\" class=\"data row4 col5\" >-0.000263</td>\n",
       "      <td id=\"T_01cc2_row4_col6\" class=\"data row4 col6\" >-0.000567</td>\n",
       "      <td id=\"T_01cc2_row4_col7\" class=\"data row4 col7\" >-0.000150</td>\n",
       "      <td id=\"T_01cc2_row4_col8\" class=\"data row4 col8\" >0.000383</td>\n",
       "      <td id=\"T_01cc2_row4_col9\" class=\"data row4 col9\" >-0.000066</td>\n",
       "    </tr>\n",
       "    <tr>\n",
       "      <th id=\"T_01cc2_level0_row5\" class=\"row_heading level0 row5\" >m_jj</th>\n",
       "      <td id=\"T_01cc2_row5_col0\" class=\"data row5 col0\" >0.090895</td>\n",
       "      <td id=\"T_01cc2_row5_col1\" class=\"data row5 col1\" >0.000429</td>\n",
       "      <td id=\"T_01cc2_row5_col2\" class=\"data row5 col2\" >0.000290</td>\n",
       "      <td id=\"T_01cc2_row5_col3\" class=\"data row5 col3\" >0.000233</td>\n",
       "      <td id=\"T_01cc2_row5_col4\" class=\"data row5 col4\" >-0.000263</td>\n",
       "      <td id=\"T_01cc2_row5_col5\" class=\"data row5 col5\" >1.000000</td>\n",
       "      <td id=\"T_01cc2_row5_col6\" class=\"data row5 col6\" >0.759044</td>\n",
       "      <td id=\"T_01cc2_row5_col7\" class=\"data row5 col7\" >0.039548</td>\n",
       "      <td id=\"T_01cc2_row5_col8\" class=\"data row5 col8\" >0.139457</td>\n",
       "      <td id=\"T_01cc2_row5_col9\" class=\"data row5 col9\" >0.276138</td>\n",
       "    </tr>\n",
       "    <tr>\n",
       "      <th id=\"T_01cc2_level0_row6\" class=\"row_heading level0 row6\" >m_jjj</th>\n",
       "      <td id=\"T_01cc2_row6_col0\" class=\"data row6 col0\" >0.115301</td>\n",
       "      <td id=\"T_01cc2_row6_col1\" class=\"data row6 col1\" >0.000596</td>\n",
       "      <td id=\"T_01cc2_row6_col2\" class=\"data row6 col2\" >0.000139</td>\n",
       "      <td id=\"T_01cc2_row6_col3\" class=\"data row6 col3\" >0.000538</td>\n",
       "      <td id=\"T_01cc2_row6_col4\" class=\"data row6 col4\" >-0.000567</td>\n",
       "      <td id=\"T_01cc2_row6_col5\" class=\"data row6 col5\" >0.759044</td>\n",
       "      <td id=\"T_01cc2_row6_col6\" class=\"data row6 col6\" >1.000000</td>\n",
       "      <td id=\"T_01cc2_row6_col7\" class=\"data row6 col7\" >0.060612</td>\n",
       "      <td id=\"T_01cc2_row6_col8\" class=\"data row6 col8\" >0.258423</td>\n",
       "      <td id=\"T_01cc2_row6_col9\" class=\"data row6 col9\" >0.432481</td>\n",
       "    </tr>\n",
       "    <tr>\n",
       "      <th id=\"T_01cc2_level0_row7\" class=\"row_heading level0 row7\" >m_lv</th>\n",
       "      <td id=\"T_01cc2_row7_col0\" class=\"data row7 col0\" >0.289434</td>\n",
       "      <td id=\"T_01cc2_row7_col1\" class=\"data row7 col1\" >-0.000782</td>\n",
       "      <td id=\"T_01cc2_row7_col2\" class=\"data row7 col2\" >-0.000703</td>\n",
       "      <td id=\"T_01cc2_row7_col3\" class=\"data row7 col3\" >-0.000221</td>\n",
       "      <td id=\"T_01cc2_row7_col4\" class=\"data row7 col4\" >-0.000150</td>\n",
       "      <td id=\"T_01cc2_row7_col5\" class=\"data row7 col5\" >0.039548</td>\n",
       "      <td id=\"T_01cc2_row7_col6\" class=\"data row7 col6\" >0.060612</td>\n",
       "      <td id=\"T_01cc2_row7_col7\" class=\"data row7 col7\" >1.000000</td>\n",
       "      <td id=\"T_01cc2_row7_col8\" class=\"data row7 col8\" >0.169085</td>\n",
       "      <td id=\"T_01cc2_row7_col9\" class=\"data row7 col9\" >0.131144</td>\n",
       "    </tr>\n",
       "    <tr>\n",
       "      <th id=\"T_01cc2_level0_row8\" class=\"row_heading level0 row8\" >m_jlv</th>\n",
       "      <td id=\"T_01cc2_row8_col0\" class=\"data row8 col0\" >0.253861</td>\n",
       "      <td id=\"T_01cc2_row8_col1\" class=\"data row8 col1\" >-0.000133</td>\n",
       "      <td id=\"T_01cc2_row8_col2\" class=\"data row8 col2\" >-0.000137</td>\n",
       "      <td id=\"T_01cc2_row8_col3\" class=\"data row8 col3\" >0.000119</td>\n",
       "      <td id=\"T_01cc2_row8_col4\" class=\"data row8 col4\" >0.000383</td>\n",
       "      <td id=\"T_01cc2_row8_col5\" class=\"data row8 col5\" >0.139457</td>\n",
       "      <td id=\"T_01cc2_row8_col6\" class=\"data row8 col6\" >0.258423</td>\n",
       "      <td id=\"T_01cc2_row8_col7\" class=\"data row8 col7\" >0.169085</td>\n",
       "      <td id=\"T_01cc2_row8_col8\" class=\"data row8 col8\" >1.000000</td>\n",
       "      <td id=\"T_01cc2_row8_col9\" class=\"data row8 col9\" >0.493482</td>\n",
       "    </tr>\n",
       "    <tr>\n",
       "      <th id=\"T_01cc2_level0_row9\" class=\"row_heading level0 row9\" >m_wwbb</th>\n",
       "      <td id=\"T_01cc2_row9_col0\" class=\"data row9 col0\" >0.319434</td>\n",
       "      <td id=\"T_01cc2_row9_col1\" class=\"data row9 col1\" >0.000458</td>\n",
       "      <td id=\"T_01cc2_row9_col2\" class=\"data row9 col2\" >0.000417</td>\n",
       "      <td id=\"T_01cc2_row9_col3\" class=\"data row9 col3\" >0.000584</td>\n",
       "      <td id=\"T_01cc2_row9_col4\" class=\"data row9 col4\" >-0.000066</td>\n",
       "      <td id=\"T_01cc2_row9_col5\" class=\"data row9 col5\" >0.276138</td>\n",
       "      <td id=\"T_01cc2_row9_col6\" class=\"data row9 col6\" >0.432481</td>\n",
       "      <td id=\"T_01cc2_row9_col7\" class=\"data row9 col7\" >0.131144</td>\n",
       "      <td id=\"T_01cc2_row9_col8\" class=\"data row9 col8\" >0.493482</td>\n",
       "      <td id=\"T_01cc2_row9_col9\" class=\"data row9 col9\" >1.000000</td>\n",
       "    </tr>\n",
       "  </tbody>\n",
       "</table>\n"
      ],
      "text/plain": [
       "<pandas.io.formats.style.Styler at 0x1b466089d50>"
      ]
     },
     "execution_count": 34,
     "metadata": {},
     "output_type": "execute_result"
    }
   ],
   "source": [
    "df = pd.DataFrame(milTrSignal)\n",
    "corr = milTrSignal.corr()\n",
    "corr.style.background_gradient(cmap='coolwarm')"
   ]
  },
  {
   "cell_type": "markdown",
   "id": "7689ead2-451f-4f5d-80ed-25b5a4cea32e",
   "metadata": {
    "jp-MarkdownHeadingCollapsed": true,
    "tags": []
   },
   "source": [
    "## Repliquem decision trees"
   ]
  },
  {
   "cell_type": "markdown",
   "id": "7542d4e0-77f3-4699-8c41-45c3b0ccd8b4",
   "metadata": {},
   "source": [
    "Estudiem una mica algunes de les funcions que emprarem (`array` [bàsic de numpy], `bincount`, `arange`, `argwhere`, `flatten`)"
   ]
  },
  {
   "cell_type": "code",
   "execution_count": null,
   "id": "beb00df5-ac35-4758-8864-b4bd2fd5ba13",
   "metadata": {
    "tags": []
   },
   "outputs": [],
   "source": [
    "# bincount diguem-ne que fa un histograma de l'array\n",
    "y = np.array([1,2,3,1,2])\n",
    "np.bincount(y)"
   ]
  },
  {
   "cell_type": "code",
   "execution_count": null,
   "id": "bc328092-3df3-47ee-bceb-22bd5b8d1ada",
   "metadata": {
    "tags": []
   },
   "outputs": [],
   "source": [
    "# np.argwhere(condition) troba els elements que compleixen la condició\n",
    "# .flatten ho transforma en vector, en comptes de llista de llistes\n",
    "x = np.arange(5)\n",
    "np.argwhere(x<3).flatten()"
   ]
  },
  {
   "cell_type": "code",
   "execution_count": null,
   "id": "582251d6-ad5b-4102-b583-05c859ea1b4a",
   "metadata": {},
   "outputs": [],
   "source": [
    "# Algoritme per a Decision Trees basat en https://www.youtube.com/watch?v=NxEHSAfFlK8&list=PLcWfeUsAys2k_xub3mHks85sBHZvg24Jd&index=5\n",
    "# Un parell d'ajusts, en la línia 94, afegisc un pas addicional per compatibilitzar bincounts amb les dades (float). No estic segur de si és adequat.\n",
    "\n",
    "\n",
    "# L'asterisc força a passar value explícitament quan es cree un node: Node(value = blabla)\n",
    "import numpy as np\n",
    "from collections import Counter\n",
    "\n",
    "class Node():\n",
    "    def __init__(self, feature=None, threshold=None, left=None, right=None,*,value=None):\n",
    "        self.feature = feature\n",
    "        self.threshold = threshold\n",
    "        self.left = left\n",
    "        self.right = right\n",
    "        self.value = value\n",
    "        \n",
    "    def is_leaf_node(self):\n",
    "        return self.value is not None # Si existeix un valor, aleshores hi ha al menys un fill, per tant no és --> false\n",
    "        \n",
    "\n",
    "class DecisionTree:\n",
    "    def __init__(self, min_samples_split=2, max_depth=100, n_features=None):\n",
    "        self.min_samples_split=min_samples_split\n",
    "        self.max_depth=max_depth\n",
    "        self.n_features=n_features\n",
    "        self.root=None\n",
    "\n",
    "    def fit(self, X, y):\n",
    "        self.n_features = X.shape[1] if not self.n_features else min(X.shape[1], self.n_features)\n",
    "        self.root = self._grow_tree(X,y)\n",
    "        \n",
    "    def _grow_tree(self, X, y, depth = 0):\n",
    "        n_samples, n_feats = X.shape\n",
    "        n_labels = len(np.unique(y))\n",
    "        \n",
    "        # Check the stopping criteria\n",
    "        if (depth>=self.max_depth or n_labels == 1 or n_samples < self.min_samples_split):\n",
    "            leaf_value = self._most_common_label(y)\n",
    "            return Node(value=leaf_value)\n",
    "        # Si tenim el màxim de profunditat, si tenim un node pur o arribem al mínim de mostres, no crearem més\n",
    "        \n",
    "        feat_idx = np.random.choice(n_feats, self.n_features, replace = False)\n",
    "        \n",
    "        # Find the best split\n",
    "        best_feature, best_thresh = self._best_split(X, y, feat_idx) # Lloc on incloem la part aleatòria dels DT\n",
    "        \n",
    "        # Create child nodes\n",
    "        left_idxs, right_idxs = self._split(X[:,best_feature], best_thresh)\n",
    "        left = self._grow_tree(X[left_idxs,:],y[left_idxs], depth+1)\n",
    "        right = self._grow_tree(X[right_idxs,:],y[right_idxs], depth+1)\n",
    "        return Node(best_feature, best_thresh, left, right)\n",
    "        \n",
    "        \n",
    "    def _best_split(self, X, y, feat_idxs):\n",
    "        best_gain = -1\n",
    "        split_idx, split_threshold = None, None\n",
    "        \n",
    "        for feat_idx in feat_idxs:\n",
    "            X_column = X[:, feat_idx]\n",
    "            thresholds = np.unique(X_column)\n",
    "            \n",
    "            for thr in thresholds:\n",
    "                # Calculate Information gain\n",
    "                gain = self._information_gain(y, X_column, thr)\n",
    "                \n",
    "                if gain > best_gain:\n",
    "                    best_gain = gain\n",
    "                    split_idx = feat_idx\n",
    "                    split_threshold = thr\n",
    "        \n",
    "        return split_idx, split_threshold\n",
    "    \n",
    "    def _information_gain(self, y, X_column, threshold):\n",
    "        # Parent entropy\n",
    "        parent_entropy = self._entropy(y)\n",
    "        \n",
    "        # Create children\n",
    "        left_idxs, right_idxs = self._split(X_column, threshold)\n",
    "        \n",
    "        if(len(left_idxs) == 0 or len(right_idxs) == 0):\n",
    "           return 0\n",
    "        \n",
    "        # Calculate weighted avg. entropy of children\n",
    "        n = len(y)\n",
    "        n_l, n_r = len(left_idxs), len(right_idxs)\n",
    "        e_l, e_r = self._entropy(y[left_idxs]),self._entropy(y[right_idxs])\n",
    "        child_entropy = (n_l/n) * e_l + (n_r/n) * e_r    \n",
    "           \n",
    "        # Calculate IG\n",
    "        information_gain = parent_entropy - child_entropy\n",
    "        return information_gain\n",
    "        \n",
    "    def _entropy(self, y):\n",
    "        uniq, inverse = np.unique(y, return_inverse=True) # Afegit per mi per poder fer el mateix amb floats en comptes d'int\n",
    "        hist = np.bincount(inverse)\n",
    "        ps = hist / len(y)\n",
    "        return -np.sum([p*np.log(p) for p in ps if p > 0])\n",
    "   \n",
    "    def _split(self, X_column, split_thresh):\n",
    "        left_idxs = np.argwhere(X_column <= split_thresh).flatten()\n",
    "        right_idxs = np.argwhere(X_column > split_thresh).flatten()\n",
    "        return left_idxs, right_idxs\n",
    "        \n",
    "        \n",
    "    def _most_common_label(self, y):\n",
    "        counter = Counter(y)\n",
    "        value = counter.most_common(1)[0][0] # Mirar en Logistic Regression\n",
    "        return value\n",
    "                        \n",
    "\n",
    "    def predict(self,X):\n",
    "        return np.array([self._traverse_tree(x, self.root) for x in X])\n",
    "    \n",
    "    def _traverse_tree(self, x, node):\n",
    "        if node.is_leaf_node():\n",
    "           return node.value\n",
    "           \n",
    "        if x[node.feature] <= node.threshold:\n",
    "           return self._traverse_tree(x, node.left)\n",
    "        return self._traverse_tree(x, node.right)\n",
    "\n"
   ]
  },
  {
   "cell_type": "markdown",
   "id": "4a99f854-eb23-4a65-a261-2417eabfc286",
   "metadata": {},
   "source": [
    "Emprem aquest DT *artesanal* amb els datasets proposats al vídeo."
   ]
  },
  {
   "cell_type": "code",
   "execution_count": null,
   "id": "a06e2a41-33f0-4e4a-a25c-6bea38f19345",
   "metadata": {
    "tags": []
   },
   "outputs": [],
   "source": [
    "from sklearn import datasets\n",
    "from sklearn.model_selection import train_test_split\n",
    "import numpy as np\n",
    "\n",
    "# from DecisionTree import DecisionTree\n",
    "\n",
    "data = datasets.load_breast_cancer()\n",
    "X, y = data.data, data.target\n",
    "\n",
    "X_train, X_test, y_train, y_test = train_test_split(\n",
    "    X, y, test_size=0.2, random_state = 1234\n",
    ")\n",
    "\n",
    "clf = DecisionTree()\n",
    "clf.fit(X_train, y_train)\n",
    "predictions = clf.predict(X_test)\n",
    "\n",
    "def accuracy(y_test, y_pred):\n",
    "    return np.sum(y_test == y_pred) / len(y_test)\n",
    "    \n",
    "acc = accuracy(y_test, predictions)\n",
    "print(acc)\n",
    "\n",
    "# Jugar amb més max_depth, diferents paràmetres"
   ]
  },
  {
   "cell_type": "code",
   "execution_count": null,
   "id": "22b950b1-6ea2-450e-aeca-8355b93743b9",
   "metadata": {
    "tags": []
   },
   "outputs": [],
   "source": [
    "print(Xdata)"
   ]
  },
  {
   "cell_type": "markdown",
   "id": "663eefbd-f4e3-4cc0-932f-6a9d2fda3133",
   "metadata": {},
   "source": [
    "Intentem emprar aquest DT amb els nostres datasets. Seleccionem les columnes LL per a Xdata i els índexs per al Ydata"
   ]
  },
  {
   "cell_type": "code",
   "execution_count": null,
   "id": "e17af2f5-af4d-430a-835a-b5c94a111d1e",
   "metadata": {
    "tags": []
   },
   "outputs": [],
   "source": [
    "# Prova 1: trunquem les dades, seleccionem únicamen 10 000\n",
    "Xdata = np.array(miltr.loc[:,[\"f0\",\"f1\",\"f2\",\"f3\",\"f4\",\"f5\",\"f6\",\"f7\",\"f8\",\"f9\",\"f10\",\"f11\",\"f12\",\"f13\",\"f14\",\"f15\",\"f16\",\"f17\",\"f18\",\"f19\",\"f20\",\"f21\"]])\n",
    "# Ydata = np.array(miltr.loc[:,\"# label\"])\n",
    "Ydata = np.array(miltr.index)[1:10001]\n",
    "Xdata = Xdata[0:10000,:]"
   ]
  },
  {
   "cell_type": "code",
   "execution_count": null,
   "id": "82af4e00-ac73-4ac8-a9db-43d3110467d2",
   "metadata": {
    "tags": []
   },
   "outputs": [],
   "source": [
    "# Prova 2: no fem split en test i train,  \n",
    "Xdata = np.array(miltr.loc[:,[\"f0\",\"f1\",\"f2\",\"f3\",\"f4\",\"f5\",\"f6\",\"f7\",\"f8\",\"f9\",\"f10\",\"f11\",\"f12\",\"f13\",\"f14\",\"f15\",\"f16\",\"f17\",\"f18\",\"f19\",\"f20\",\"f21\"]])\n",
    "# Ydata = np.array(miltr.loc[:,\"# label\"])\n",
    "Ydata = np.array(miltr.index)[0:50000]\n",
    "Xdata = Xdata[0:50000,:]"
   ]
  },
  {
   "cell_type": "code",
   "execution_count": null,
   "id": "e858f2f7-943f-4b0a-aadd-beb2d0347558",
   "metadata": {
    "tags": []
   },
   "outputs": [],
   "source": [
    "from sklearn.model_selection import train_test_split\n",
    "import numpy as np\n",
    "\n",
    "startTime = time.time()\n",
    "\n",
    "X, y = Xdata, Ydata\n",
    "\n",
    "X_train, X_test, y_train, y_test = train_test_split(\n",
    "    X, y, test_size=1, random_state = 1234\n",
    ")\n",
    "\n",
    "clf = DecisionTree(min_samples_split = 500, max_depth=4)\n",
    "clf.fit(X_train, y_train)\n",
    "predictions = clf.predict(X_test)\n",
    "\n",
    "def accuracy(y_test, y_pred):\n",
    "    return np.sum(y_test == y_pred) / len(y_test)\n",
    "    \n",
    "acc = accuracy(y_test, predictions)\n",
    "print(acc)\n",
    "\n",
    "endTime = time.time()\n",
    "print(endTime-startTime)\n",
    "\n",
    "# Prova 1 amb 10.000 dades, None, None --> precisió de 1.0, temps d'execució ~ 15 minuts\n",
    "# Prova 2 amb 100.000 dades, min_samples_split = 500, max_depth=4 --> precisió de ; temps d'execució > 4 hores, descartat"
   ]
  },
  {
   "cell_type": "code",
   "execution_count": null,
   "id": "602cb8ff-6b71-4201-82ae-07919f785f86",
   "metadata": {},
   "outputs": [],
   "source": [
    "print(clf.fit)"
   ]
  },
  {
   "cell_type": "markdown",
   "id": "9fca4259-0060-4da5-add8-eec62a1de7ec",
   "metadata": {
    "jp-MarkdownHeadingCollapsed": true,
    "tags": []
   },
   "source": [
    "## Ferramentes sklearn"
   ]
  },
  {
   "cell_type": "markdown",
   "id": "33e14920-1440-4859-bb2b-6492fb08cd01",
   "metadata": {},
   "source": [
    "Una vegada hem replicat el codi bàsic d'un DT i hem interioritzat el procediment, emprem la llibreria sklearn, amb algoritmes més\n",
    "testats i optimitzats, entenc.\n",
    "El mètode anterior és ilustratiu, però inviable en termes de temps d'execució."
   ]
  },
  {
   "cell_type": "code",
   "execution_count": null,
   "id": "ec447480-9cac-4da8-86d4-3403e07059ed",
   "metadata": {
    "tags": []
   },
   "outputs": [],
   "source": [
    "# Prova 3: amb tots els esdeveniments\n",
    "Ydata = np.array(miltr.index)\n",
    "Xdata = np.array(miltr.loc[:,[\"f0\",\"f1\",\"f2\",\"f3\",\"f4\",\"f5\",\"f6\",\"f7\",\"f8\",\"f9\",\"f10\",\"f11\",\"f12\",\"f13\",\"f14\",\"f15\",\"f16\",\"f17\",\"f18\",\"f19\",\"f20\",\"f21\"]])"
   ]
  },
  {
   "cell_type": "code",
   "execution_count": null,
   "id": "c4218918-1a8c-49a5-bc04-9ef037f92055",
   "metadata": {},
   "outputs": [],
   "source": [
    "from sklearn import tree\n",
    "import matplotlib.pyplot as plt\n",
    "startTime = time.time()\n",
    "\n",
    "clf = tree.DecisionTreeClassifier(max_depth = 5)\n",
    "clf = clf.fit(Xdata, Ydata)\n",
    "\n",
    "# tree.plot_tree(clf)\n",
    "\n",
    "endTime = time.time()\n",
    "print(endTime-startTime) \n",
    "\n",
    "# Prova 2: 13 segons!?!?!\n",
    "# Prova 3 (tots els esdeveniments, max_depth = 5): 174 segons?\n",
    "\n",
    "\n",
    "# El plot del tree és un infern quan té massa depth, obviar."
   ]
  },
  {
   "cell_type": "code",
   "execution_count": null,
   "id": "a6eb2084-6956-432b-8253-72348596b6ad",
   "metadata": {
    "tags": []
   },
   "outputs": [],
   "source": [
    "tree.plot_tree(clf)"
   ]
  },
  {
   "cell_type": "markdown",
   "id": "f89f1408-597c-4db5-b55c-f54b2de9643c",
   "metadata": {
    "tags": []
   },
   "source": [
    "Carreguem ara també les dades test per avaluar el Tree"
   ]
  },
  {
   "cell_type": "code",
   "execution_count": null,
   "id": "0f11f8ec-634d-4016-8bf0-7261f7e243a9",
   "metadata": {
    "tags": []
   },
   "outputs": [],
   "source": [
    "miltst = pd.read_csv(r\"D:\\OneDrive\\Universitat\\5. Quart'\\TFG\\RstudioPython\\Dades\\Normal\\1000_test.csv\")"
   ]
  },
  {
   "cell_type": "code",
   "execution_count": null,
   "id": "0282130f-9060-453d-99bb-ede49d4e8482",
   "metadata": {
    "tags": []
   },
   "outputs": [],
   "source": [
    "Ytst = np.array(miltst.iloc[:,0])\n",
    "Xtst = np.array(miltst.loc[:,[\"# label\",\"f0\",\"f1\",\"f2\",\"f3\",\"f4\",\"f5\",\"f6\",\"f7\",\"f8\",\"f9\",\"f10\",\"f11\",\"f12\",\"f13\",\"f14\",\"f15\",\"f16\",\"f17\",\"f18\",\"f19\",\"f20\"]])"
   ]
  },
  {
   "cell_type": "code",
   "execution_count": null,
   "id": "1a525d37-2bca-461e-8e66-5be73f94e222",
   "metadata": {
    "tags": []
   },
   "outputs": [],
   "source": [
    "# print(miltst)\n",
    "# print(Xtst)\n",
    "# print(Ytst)"
   ]
  },
  {
   "cell_type": "markdown",
   "id": "e8f93f70-2414-4ee7-a5f8-6789293c5658",
   "metadata": {},
   "source": [
    "`score` sembla que calcula la precisió mitjana (https://github.com/scikit-learn/scikit-learn/blob/093e0cf14/sklearn/base.py#L680) "
   ]
  },
  {
   "cell_type": "code",
   "execution_count": null,
   "id": "acf47708-efff-4aa3-b5cc-1d14a8cc4f43",
   "metadata": {
    "tags": []
   },
   "outputs": [],
   "source": [
    "acc = clf.score(Xtst, Ytst)\n",
    "print(acc)"
   ]
  },
  {
   "cell_type": "markdown",
   "id": "32c36961-a20a-42aa-a77e-38745d489f1a",
   "metadata": {},
   "source": [
    "Ara, unifiquem totes les parts de l'avaluació:\n",
    "\n",
    "0. Càrrega de dades\n",
    "1. Preparació de les dades i selecció de variables\n",
    "2. Càlcul del DT\n",
    "3. Avaluació del DT"
   ]
  },
  {
   "cell_type": "code",
   "execution_count": null,
   "id": "0884ec5e-e468-459a-82a3-ae7ff6f46a47",
   "metadata": {
    "tags": []
   },
   "outputs": [],
   "source": [
    "Ydata = np.array(alltr.iloc[:,[0]])\n",
    "\n",
    "print(Ydata)"
   ]
  },
  {
   "cell_type": "code",
   "execution_count": null,
   "id": "d91d10db-aa8a-4cae-bbae-17879b875a3c",
   "metadata": {
    "tags": []
   },
   "outputs": [],
   "source": [
    "print(alltr)"
   ]
  },
  {
   "cell_type": "code",
   "execution_count": null,
   "id": "6003d43e-f2d9-4e5a-9655-a1c6fe003bb2",
   "metadata": {
    "tags": []
   },
   "outputs": [],
   "source": [
    "from sklearn import tree\n",
    "import matplotlib.pyplot as plt"
   ]
  },
  {
   "cell_type": "code",
   "execution_count": null,
   "id": "18df63ff-0878-4981-b709-5f8984b5893e",
   "metadata": {
    "tags": []
   },
   "outputs": [],
   "source": [
    "# Part 1: definim Ydata, Ytst per a tots i Xdata, Xtst per a cada cas \n",
    "# Ydata = np.array(miltr.index)\n",
    "# Ytst = np.array(miltst.iloc[:,0])\n",
    "\n",
    "Ydata = np.array(alltr.iloc[:,[0]])\n",
    "Ytst = np.array(alltst.iloc[:,0])\n",
    "\n",
    "\n",
    "# a) LL \n",
    "# Xdata = np.array(miltr.loc[:,[\"# label\",\"f0\",\"f1\",\"f2\",\"f3\",\"f4\",\"f5\",\"f6\",\"f7\",\"f8\",\"f9\",\"f10\",\"f11\",\"f12\",\n",
    "#                               \"f13\",\"f14\",\"f15\",\"f16\",\"f17\",\"f18\",\"f19\",\"f20\"]])\n",
    "# Xtst = np.array(miltst.loc[:,[\"# label\",\"f0\",\"f1\",\"f2\",\"f3\",\"f4\",\"f5\",\"f6\",\"f7\",\"f8\",\"f9\",\"f10\",\"f11\",\"f12\"\n",
    "#                               ,\"f13\",\"f14\",\"f15\",\"f16\",\"f17\",\"f18\",\"f19\",\"f20\"]])\n",
    "\n",
    "# b) LL + HL \n",
    "# Xdata = np.array(miltr.loc[:,[\"# label\",\"f0\",\"f1\",\"f2\",\"f3\",\"f4\",\"f5\",\"f6\",\"f7\",\"f8\",\"f9\",\"f10\",\"f11\",\"f12\",\n",
    "#                               \"f13\",\"f14\",\"f15\",\"f16\",\"f17\",\"f18\",\"f19\",\"f20\",\"f21\",\"f22\",\"f23\",\"f24\",\"f25\"]])\n",
    "# Xtst = np.array(miltst.loc[:,[\"# label\",\"f0\",\"f1\",\"f2\",\"f3\",\"f4\",\"f5\",\"f6\",\"f7\",\"f8\",\"f9\",\"f10\",\"f11\",\"f12\",\n",
    "#                               \"f13\",\"f14\",\"f15\",\"f16\",\"f17\",\"f18\",\"f19\",\"f20\",\"f21\",\"f22\",\"f23\",\"f24\",\"f25\"]])\n",
    "\n",
    "# c) Selecció 1: f6 + HL\n",
    "# Xdata = np.array(miltr.iloc[:,[\"f6\",\"f21\",\"f22\",\"f23\",\"f24\",\"f25\"]])\n",
    "# Xtst = np.array(miltst.iloc[:,[\"f6\",\"f21\",\"f22\",\"f23\",\"f24\",\"f25\"]])\n",
    "\n",
    "# d) Selecció 2\n",
    "# Xdata = np.array(miltr.iloc[:,[0,3,6,26]])\n",
    "# Xtst = np.array(miltst.iloc[:,[1,4,7,27]])\n",
    "\n",
    "\n",
    "# e) Alltr: d + mass\n",
    "# Xdata = np.array(alltr.iloc[:,[1,4,7,27,28]])\n",
    "# Xtst = np.array(alltst.iloc[:,[1,4,7,27,28]])\n",
    "\n",
    "# f) Alltr: LL \n",
    "# Xdata = np.array(alltr.loc[:,[\"f0\",\"f1\",\"f2\",\"f3\",\"f4\",\"f5\",\"f6\",\"f7\",\"f8\",\"f9\",\"f10\",\"f11\",\"f12\",\n",
    "#                               \"f13\",\"f14\",\"f15\",\"f16\",\"f17\",\"f18\",\"f19\",\"f20\",\"f21\"]])\n",
    "# Xtst = np.array(alltst.loc[:,[\"f0\",\"f1\",\"f2\",\"f3\",\"f4\",\"f5\",\"f6\",\"f7\",\"f8\",\"f9\",\"f10\",\"f11\",\"f12\"\n",
    "#                               ,\"f13\",\"f14\",\"f15\",\"f16\",\"f17\",\"f18\",\"f19\",\"f20\",\"f21\"]])\n",
    "\n",
    "# g) Alltr: LL + HL \n",
    "# Xdata = np.array(alltr.loc[:,[\"f0\",\"f1\",\"f2\",\"f3\",\"f4\",\"f5\",\"f6\",\"f7\",\"f8\",\"f9\",\"f10\",\"f11\",\"f12\",\n",
    "#                               \"f13\",\"f14\",\"f15\",\"f16\",\"f17\",\"f18\",\"f19\",\"f20\",\"f21\",\"f22\",\"f23\",\"f24\",\"f25\",\"f26\",\"mass\"]])\n",
    "# Xtst = np.array(alltst.loc[:,[\"f0\",\"f1\",\"f2\",\"f3\",\"f4\",\"f5\",\"f6\",\"f7\",\"f8\",\"f9\",\"f10\",\"f11\",\"f12\",\n",
    "#                               \"f13\",\"f14\",\"f15\",\"f16\",\"f17\",\"f18\",\"f19\",\"f20\",\"f21\",\"f22\",\"f23\",\"f24\",\"f25\",\"f26\",\"mass\"]])\n",
    "\n",
    "# h) Alltr: 3 5 6 26 27\n",
    "# Xdata = np.array(alltr.iloc[:,[3,5,6,26,27]])\n",
    "# Xtst = np.array(alltst.iloc[:,[3,5,6,26,27]])\n",
    "\n",
    "# i) Alltr: 0 26 27\n",
    "Xdata = np.array(alltr.loc[:,[\"f0\",\"f26\",\"mass\"]])\n",
    "Xtst = np.array(alltst.loc[:,[\"f0\",\"f26\",\"mass\"]])\n",
    "\n",
    "\n",
    "\n",
    "# Part 2: Càlcul DT\n",
    "from sklearn import tree\n",
    "import matplotlib.pyplot as plt\n",
    "startTime = time.time()\n",
    "\n",
    "clf = tree.DecisionTreeClassifier(max_depth = 4)\n",
    "clf = clf.fit(Xdata, Ydata)\n",
    "\n",
    "temps = time.time() - startTime\n",
    "\n",
    "print(temps)\n",
    "\n",
    "\n",
    "# Part 3: Avaluació DT\n",
    "acc = clf.score(Xtst, Ytst)\n",
    "print(acc)"
   ]
  },
  {
   "cell_type": "markdown",
   "id": "ef0bf4f8-6beb-426a-8037-1523e268b4f5",
   "metadata": {
    "jp-MarkdownHeadingCollapsed": true,
    "tags": []
   },
   "source": [
    "### Precisions "
   ]
  },
  {
   "cell_type": "markdown",
   "id": "f72043d5-b431-4103-902e-b7fc728ffdf6",
   "metadata": {},
   "source": [
    "- miltr LL, max_depth = 5, miltst:         0.54265\n",
    "\n",
    "- miltr LL+HL, max_depth = 5, miltst:      0.68485 (temps = 202 s)\n",
    "- miltr LL+HL, max_depth = 8, miltst:      0.65410 (temps = 350 s)\n",
    "- miltr LL+HL, max_depth = 4, miltst:      0.72376 (temps = 157 s)\n",
    "- miltr LL+HL, max_depth = 3, miltst:      0.74780 (temps = 115 s) !!\n",
    "- miltr LL+HL, max_depth = 2, miltst:      0.57717 (temps =  75 s)\n",
    "\n",
    "- miltr selecció 1, max_depth = 2, miltst: 0.66136 (temps = 20 s)\n",
    "- miltr selecció 1, max_depth = 3, miltst: 0.66163 (temps = 29 s)\n",
    "- miltr selecció 1, max_depth = 4, miltst: 0.66231 (temps = 39 s)\n",
    "\n",
    "- miltr selecció 2, max_depth = 3, miltst: 0.90009 (temps = 21 s) !! Seleccione aquestes variables pq són les que empra en t = 115 \n",
    "- miltr selecció 2, max_depth = 4, miltst: 0.90504 (temps = 28 s)\n",
    "- miltr selecció 2, max_depth = 2, miltst: 0.89052 (temps = 14 s)\n",
    "- miltr selecció 2, max_depth = 5, miltst: 0.90687 (temps = 36 s)\n",
    "- miltr selecció 2, max_depth = 6, miltst: 0.90724 (temps = 43 s)\n",
    "\n",
    "\n",
    "- alltr d + mass, max_depth = 3, alltst:   0.80764 (temps = 22 s)\n",
    "- alltr d + mass, max_depth = 4, alltst:   0.82198 (temps = 31 s)\n",
    "- alltr d + mass, max_depth = 2, alltst:   0.80764 (temps = 22 s)\n",
    "- alltr d + mass, max_depth = 5, alltst:   0.83335 (temps = 35 s)\n",
    "\n",
    "- alltr LL, max_depth = 8, alltst:         0.81532 (temps = 288 s)\n",
    "- alltr LL + HL, max_depth = 8, alltst:    0.84975 (temps = 360 s)\n",
    "- alltr h, max_depth = 2, alltst:          0.76904 (temps =  16 s)\n",
    "- alltr h, max_depth = 4, alltst:          0.77089 (temps =  31 s)\n",
    "- alltr i, max_depth = 4, alltst:          0.79936 (temps =  17 s)\n",
    "\n",
    "Per calcular l'error de les precisions, potser es podria plantejar dividir la mostra de test i després fer la desviació de la precisió? Quin rigor tindria?"
   ]
  },
  {
   "cell_type": "code",
   "execution_count": null,
   "id": "59fec389-dd04-480e-b691-0fc058e8305a",
   "metadata": {
    "tags": []
   },
   "outputs": [],
   "source": [
    "tree.plot_tree(clf)"
   ]
  },
  {
   "cell_type": "code",
   "execution_count": null,
   "id": "e9b36e7c-66c8-411b-8d30-f88e74e1116a",
   "metadata": {
    "tags": []
   },
   "outputs": [],
   "source": [
    "# print(Xdata)\n",
    "# print(Ydata)\n",
    "# print(Xtst)\n",
    "# print(miltr)\n",
    "# print(miltst)\n",
    "\n",
    "# Xdata = np.array(miltr.iloc[:,[0,3,6,26]])\n",
    "# Xtst = np.array(miltst.iloc[:,[1,4,7,27]])"
   ]
  },
  {
   "cell_type": "markdown",
   "id": "c313a42b-f6fa-4996-8af2-94035f0671a4",
   "metadata": {
    "jp-MarkdownHeadingCollapsed": true,
    "tags": []
   },
   "source": [
    "## Càlcul i avaluació completa amb accuracy + kappa + F1-score"
   ]
  },
  {
   "cell_type": "code",
   "execution_count": null,
   "id": "b47134d7-7b33-44c3-977e-8664c5f5fcc4",
   "metadata": {
    "tags": []
   },
   "outputs": [],
   "source": [
    "import math\n",
    "# Comprovació del mecanisme per a calcular\n",
    "# temp = np.array(alltr.loc[:,[\"f25\",\"f26\"]])\n",
    "# temp[:,0] = temp[:,0]/temp[:,1]"
   ]
  },
  {
   "cell_type": "code",
   "execution_count": null,
   "id": "c993cc7d-e359-4c24-9d97-5e0e3249660b",
   "metadata": {
    "tags": []
   },
   "outputs": [],
   "source": [
    "# Part 1: definim Ydata, Ytst per a tots i Xdata, Xtst per a cada cas \n",
    "startTime = time.time()\n",
    "\n",
    "# Ydata = np.array(miltr.index)\n",
    "# Ytst = np.array(miltst.iloc[:,0])\n",
    "\n",
    "Ydata = np.array(alltr.iloc[:,[0]])\n",
    "Ytst = np.array(alltst.iloc[:,0])\n",
    "\n",
    "# d) Selecció 2\n",
    "# Xdata = np.array(miltr.iloc[:,[0,3,6,26]])\n",
    "# Xtst = np.array(miltst.iloc[:,[1,4,7,27]])\n",
    "# label = \"d\"\n",
    "\n",
    "# j) Alltr: 0 25 26 27\n",
    "# Xdata = np.array(alltr.loc[:,[\"f0\",\"f25\",\"f26\",\"mass\"]])\n",
    "# Xtst = np.array(alltst.loc[:,[\"f0\",\"f25\",\"f26\",\"mass\"]])\n",
    "# label = \"j\"\n",
    "\n",
    "# k) Alltr: HL + # label  --> Solament selecciona el mateix que j, almenys fins a depth = 5\n",
    "# Xdata = np.array(alltr.loc[:,[\"f0\",\"f22\",\"f23\",\"f24\",\"f25\",\"f26\",\"mass\"]])\n",
    "# Xtst = np.array(alltst.loc[:,[\"f0\",\"f22\",\"f23\",\"f24\",\"f25\",\"f26\",\"mass\"]])\n",
    "# label = \"k\"\n",
    "\n",
    "# l) Altres variables? Masses invariants pseudonormalitzades?\n",
    "# Xdata = np.array(alltr.loc[:,[\"f0\",\"f25\",\"f26\",\"mass\"]])\n",
    "# Xtst = np.array(alltst.loc[:,[\"f0\",\"f25\",\"f26\",\"mass\"]])\n",
    "# Xdata[:,2] = Xdata[:,2] / Xdata[:,3]\n",
    "# Xdata[:,1] = Xdata[:,1] / Xdata[:,3]\n",
    "# Xtst[:,2] = Xtst[:,2] / Xtst[:,3]\n",
    "# Xtst[:,1] = Xtst[:,1] / Xtst[:,3]\n",
    "# label = \"l\"\n",
    "\n",
    "# m) Altres variables? Masses invariants pseudonormalitzades?\n",
    "Xdata = np.array(alltr.loc[:,[\"f0\",\"f25\",\"f26\",\"mass\"]])\n",
    "Xtst = np.array(alltst.loc[:,[\"f0\",\"f25\",\"f26\",\"mass\"]])\n",
    "Xdata[:,2] = Xdata[:,2] / np.log(Xdata[:,3])\n",
    "Xdata[:,1] = Xdata[:,1] / np.log(Xdata[:,3])\n",
    "Xtst[:,2] = Xtst[:,2] / np.log(Xtst[:,3])\n",
    "Xtst[:,1] = Xtst[:,1] / np.log(Xtst[:,3])\n",
    "label = \"m\"\n",
    "# Sembla que millora molt lleugerament!?\n",
    "\n",
    "\n",
    "\n",
    "# Part 2: Càlcul DT\n",
    "\n",
    "# from sklearn import tree\n",
    "# from sklearn import metrics\n",
    "# import matplotlib.pyplot as plt\n",
    "\n",
    "clf = tree.DecisionTreeClassifier(max_depth = 5)\n",
    "clf = clf.fit(Xdata, Ydata)\n",
    "\n",
    "\n",
    "# Part 3: Avaluació DT\n",
    "Ypred = clf.predict(Xtst)\n",
    "acc = clf.score(Xtst, Ytst)\n",
    "kappa = metrics.cohen_kappa_score(Ypred,Ytst)\n",
    "F1S = metrics.f1_score(Ytst,Ypred)\n",
    "\n",
    "temps = time.time() - startTime\n",
    "\n",
    "# print(\"DT amb profunditat %i.\\nPrecisió = %f; kappa = %f; F1-Score = %f.\\nTemps d'execució = %i segons\" \n",
    "#       % (clf.get_depth(),acc,kappa,F1S,temps)) # Format agradable\n",
    "\n",
    "print(\"| %s | %i | %f | %f | %f | %i |\" % (label,clf.get_depth(),acc,kappa,F1S,temps)) # Format per copiar i pegar a la taula\n"
   ]
  },
  {
   "cell_type": "markdown",
   "id": "9d9a7198-bb7e-43c5-83da-aa8ba83285f4",
   "metadata": {
    "jp-MarkdownHeadingCollapsed": true,
    "tags": []
   },
   "source": [
    "## Taula amb els diferents resultats"
   ]
  },
  {
   "cell_type": "markdown",
   "id": "a863e6e6-09ee-4403-925d-103eb3a2f782",
   "metadata": {},
   "source": [
    "| labels | Max_depth |  Acc  | Kappa | F1-S | Temps (s) |\n",
    "|:------:|:---------:|:-----:|:-----:|:----:|-------|\n",
    "| *Proves amb miltr* |\n",
    "| d | 2 | 0.890521 | 0.781038 | 0.887665 | 19 |\n",
    "| d | 3 | 0.900094 | 0.800189 | 0.900821 | 25 |\n",
    "| d | 4 | 0.905037 | 0.810078 | 0.907020 | 33 |\n",
    "| d | 5 | 0.906873 | 0.813750 | 0.908726 | 41 |\n",
    "| d | 6 | 0.907243 | 0.814490 | 0.909205 | 48 |\n",
    "| *Proves amb alltr* |\n",
    "| j | 2 | 0.769049 | 0.538069 | 0.751082 | 17 |\n",
    "| j | 3 | 0.780025 | 0.560112 | 0.811145 | 22 |\n",
    "| j | 4 | 0.799363 | 0.598737 | 0.805066 | 28 |\n",
    "| j | 5 | 0.814112 | 0.628248 | 0.827549 | 35 |\n",
    "| j | 6 | 0.816163 | 0.632358 | 0.832628 | 41 |\n",
    "| k | 2 | 0.769049 | 0.538069 | 0.751082 | 25 |\n",
    "| k | 5 | 0.814112 | 0.628248 | 0.827549 | 58 |\n",
    "| l | 5 | 0.669295 | 0.338461 | 0.571760 | 26 |\n",
    "| m | 5 | 0.814721 | 0.629476 | 0.832802 | 39 |\n",
    "\n",
    "\n",
    "\n",
    "Dubtes 02/11:\n",
    "- Com avalue per a diferents masses? Al paper s'empra un únic resultat i s'avalua amb diferents masses per fer la taula 1?\n",
    "- Sembla que l'entrenament amb miltr és més efectiu però potser pq no cal que tinga en compte la massa."
   ]
  },
  {
   "cell_type": "code",
   "execution_count": null,
   "id": "365731b0-72f0-490d-b3c4-d26944036573",
   "metadata": {},
   "outputs": [],
   "source": []
  },
  {
   "cell_type": "markdown",
   "id": "0ddcf58c-f9b2-489d-acde-6af6e87f9d40",
   "metadata": {
    "tags": []
   },
   "source": [
    "## RandomForest i AdaBoost"
   ]
  },
  {
   "cell_type": "markdown",
   "id": "6d95c04a-c4bf-4d8f-9a5a-90e27ca47026",
   "metadata": {
    "jp-MarkdownHeadingCollapsed": true,
    "tags": []
   },
   "source": [
    "### Repliquem Random Forest"
   ]
  },
  {
   "cell_type": "code",
   "execution_count": null,
   "id": "e3e725e6-b8e9-403f-88cd-e0620412a8fe",
   "metadata": {
    "tags": []
   },
   "outputs": [],
   "source": [
    "# Reemprem\n",
    "import numpy as np\n",
    "from collections import Counter\n",
    "\n",
    "class Node():\n",
    "    def __init__(self, feature=None, threshold=None, left=None, right=None,*,value=None):\n",
    "        self.feature = feature\n",
    "        self.threshold = threshold\n",
    "        self.left = left\n",
    "        self.right = right\n",
    "        self.value = value\n",
    "        \n",
    "    def is_leaf_node(self):\n",
    "        return self.value is not None # Si existeix un valor, aleshores hi ha al menys un fill, per tant no és --> false\n",
    "        \n",
    "\n",
    "class DecisionTree:\n",
    "    def __init__(self, min_samples_split=2, max_depth=100, n_features=None):\n",
    "        self.min_samples_split=min_samples_split\n",
    "        self.max_depth=max_depth\n",
    "        self.n_features=n_features\n",
    "        self.root=None\n",
    "\n",
    "    def fit(self, X, y):\n",
    "        self.n_features = X.shape[1] if not self.n_features else min(X.shape[1], self.n_features)\n",
    "        self.root = self._grow_tree(X,y)\n",
    "        \n",
    "    def _grow_tree(self, X, y, depth = 0):\n",
    "        n_samples, n_feats = X.shape\n",
    "        n_labels = len(np.unique(y))\n",
    "        \n",
    "        # Check the stopping criteria\n",
    "        if (depth>=self.max_depth or n_labels == 1 or n_samples < self.min_samples_split):\n",
    "            leaf_value = self._most_common_label(y)\n",
    "            return Node(value=leaf_value)\n",
    "        # Si tenim el màxim de profunditat, si tenim un node pur o arribem al mínim de mostres, no crearem més\n",
    "        \n",
    "        feat_idx = np.random.choice(n_feats, self.n_features, replace = False)\n",
    "        \n",
    "        # Find the best split\n",
    "        best_feature, best_thresh = self._best_split(X, y, feat_idx) # Lloc on incloem la part aleatòria dels DT\n",
    "        \n",
    "        # Create child nodes\n",
    "        left_idxs, right_idxs = self._split(X[:,best_feature], best_thresh)\n",
    "        left = self._grow_tree(X[left_idxs,:],y[left_idxs], depth+1)\n",
    "        right = self._grow_tree(X[right_idxs,:],y[right_idxs], depth+1)\n",
    "        return Node(best_feature, best_thresh, left, right)\n",
    "        \n",
    "        \n",
    "    def _best_split(self, X, y, feat_idxs):\n",
    "        best_gain = -1\n",
    "        split_idx, split_threshold = None, None\n",
    "        \n",
    "        for feat_idx in feat_idxs:\n",
    "            X_column = X[:, feat_idx]\n",
    "            thresholds = np.unique(X_column)\n",
    "            \n",
    "            for thr in thresholds:\n",
    "                # Calculate Information gain\n",
    "                gain = self._information_gain(y, X_column, thr)\n",
    "                \n",
    "                if gain > best_gain:\n",
    "                    best_gain = gain\n",
    "                    split_idx = feat_idx\n",
    "                    split_threshold = thr\n",
    "        \n",
    "        return split_idx, split_threshold\n",
    "    \n",
    "    def _information_gain(self, y, X_column, threshold):\n",
    "        # Parent entropy\n",
    "        parent_entropy = self._entropy(y)\n",
    "        \n",
    "        # Create children\n",
    "        left_idxs, right_idxs = self._split(X_column, threshold)\n",
    "        \n",
    "        if(len(left_idxs) == 0 or len(right_idxs) == 0):\n",
    "           return 0\n",
    "        \n",
    "        # Calculate weighted avg. entropy of children\n",
    "        n = len(y)\n",
    "        n_l, n_r = len(left_idxs), len(right_idxs)\n",
    "        e_l, e_r = self._entropy(y[left_idxs]),self._entropy(y[right_idxs])\n",
    "        child_entropy = (n_l/n) * e_l + (n_r/n) * e_r    \n",
    "           \n",
    "        # Calculate IG\n",
    "        information_gain = parent_entropy - child_entropy\n",
    "        return information_gain\n",
    "        \n",
    "    def _entropy(self, y):\n",
    "        uniq, inverse = np.unique(y, return_inverse=True) # Afegit per mi per poder fer el mateix amb floats en comptes d'int\n",
    "        hist = np.bincount(inverse)\n",
    "        ps = hist / len(y)\n",
    "        return -np.sum([p*np.log(p) for p in ps if p > 0])\n",
    "   \n",
    "    def _split(self, X_column, split_thresh):\n",
    "        left_idxs = np.argwhere(X_column <= split_thresh).flatten()\n",
    "        right_idxs = np.argwhere(X_column > split_thresh).flatten()\n",
    "        return left_idxs, right_idxs\n",
    "        \n",
    "        \n",
    "    def _most_common_label(self, y):\n",
    "        counter = Counter(y)\n",
    "        value = counter.most_common(1)[0][0] # Mirar en Logistic Regression\n",
    "        return value\n",
    "                        \n",
    "\n",
    "    def predict(self,X):\n",
    "        return np.array([self._traverse_tree(x, self.root) for x in X])\n",
    "    \n",
    "    def _traverse_tree(self, x, node):\n",
    "        if node.is_leaf_node():\n",
    "           return node.value\n",
    "           \n",
    "        if x[node.feature] <= node.threshold:\n",
    "           return self._traverse_tree(x, node.left)\n",
    "        return self._traverse_tree(x, node.right)\n",
    "\n"
   ]
  },
  {
   "cell_type": "code",
   "execution_count": null,
   "id": "8a0cf983-6625-4953-82ce-331d9b72710c",
   "metadata": {
    "tags": []
   },
   "outputs": [],
   "source": [
    "# from DecisionTree import DecisionTree\n",
    "import numpy as np\n",
    "from collections import Counter\n",
    "class RandomForest:\n",
    "    def __init__(self,n_trees=10,max_depth=10,min_samples_split=2,n_feature=None):\n",
    "        self.n_trees = n_trees\n",
    "        self.max_depth = max_depth\n",
    "        self.min_samples_split = min_samples_split\n",
    "        self.n_features = n_feature\n",
    "        self.trees= []\n",
    "    \n",
    "    def fit(self, X, y):\n",
    "        self.trees = []\n",
    "        for _ in range(self.n_trees):\n",
    "            tree = DecisionTree(max_depth = self.max_depth,\n",
    "                         min_samples_split = self.min_samples_split,\n",
    "                         n_features = self.n_features)\n",
    "            X_sample, y_sample = self._bootstrap_samples(X,y)\n",
    "            tree.fit(X_sample, y_sample)\n",
    "            self.trees.append(tree)\n",
    "\n",
    "            \n",
    "    def _bootstrap_samples(self,X,y):\n",
    "        n_samples = X.shape[0]\n",
    "        idxs = np.random.choice(n_samples,n_samples, replace = True)\n",
    "        return X[idxs], y[idxs]\n",
    "    \n",
    "    def _most_common_label(self,y):\n",
    "        counter = Counter(y)\n",
    "        most_common = counter.most_common(1)[0][0]\n",
    "        \n",
    "    def predict(self, X):\n",
    "        predictions = np.array([tree.predict(X) for tree in self.trees]) \n",
    "        # amb açò, tindríem una llista de n llistes, on cada llista és el conjunt de prediccions del n-èsim tree\n",
    "        # volem tindre una llista de n llistes, on la llista n conté les prediccions de cada tree per a l'esdeveniment n-èsim\n",
    "        tree_preds = np.swapaxes(predictions,0,1) # Aquesta funció de np fa precisament açò!\n",
    "        predictions = np.array([self._most_common_label(pred) for pred in tree_preds])\n",
    "        return predictions\n",
    "    \n",
    "# Prou senzill pq es basa en DT"
   ]
  },
  {
   "cell_type": "code",
   "execution_count": null,
   "id": "300152a3-1fd6-4c93-bf21-16ccafe46083",
   "metadata": {
    "tags": []
   },
   "outputs": [],
   "source": [
    "from sklearn import datasets\n",
    "from sklearn.model_selection import train_test_split\n",
    "import numpy as np\n",
    "# from RandomForest import RandomForest\n",
    "\n",
    "data = datasets.load_breast_cancer()\n",
    "X = data.data\n",
    "y = data.target\n",
    "\n",
    "X_train, X_test, y_train, y_test = train_test_split(\n",
    "    X, y, test_size = 0.2, random_state = 1234\n",
    ")\n",
    "\n",
    "def accuracy(y_true,y_pred):\n",
    "    accuracy = np.sum(y_true == y_pred) / len(y_true)\n",
    "    return accuracy\n",
    "\n",
    "clf = RandomForest()\n",
    "clf.fit(X_train,y_train)\n",
    "predictions = clf.predict(X_test)\n",
    "acc = accuracy(y_test,predictions)\n",
    "print(acc)"
   ]
  },
  {
   "cell_type": "code",
   "execution_count": null,
   "id": "508767c7-6e60-48f5-899b-8ec66d60928d",
   "metadata": {
    "tags": []
   },
   "outputs": [],
   "source": [
    "del(acc, predictions, clf, data, X, y, X_train, X_test, y_train, y_test)"
   ]
  },
  {
   "cell_type": "markdown",
   "id": "c6a54aa5-8aba-45a9-a211-5b47e4e297e9",
   "metadata": {
    "tags": []
   },
   "source": [
    "### Noves llibreries?"
   ]
  },
  {
   "cell_type": "code",
   "execution_count": null,
   "id": "9e026344-a15f-43eb-9984-8da7994cedd3",
   "metadata": {
    "tags": []
   },
   "outputs": [],
   "source": [
    "import sys\n",
    "print(sys.version)"
   ]
  },
  {
   "cell_type": "code",
   "execution_count": null,
   "id": "046b2fd8-b0c1-4cf3-87fc-6fbddada6d1b",
   "metadata": {
    "tags": []
   },
   "outputs": [],
   "source": [
    "conda update jupyterlab"
   ]
  },
  {
   "cell_type": "code",
   "execution_count": null,
   "id": "0b5775f2-a46c-4c60-add3-9083ec847ea2",
   "metadata": {
    "tags": []
   },
   "outputs": [],
   "source": [
    "# Instal·lem altres paquets (prerequisits)\n",
    "# install -c anaconda python-graphviz\n",
    "# install -c anaconda pydot\n",
    "\n",
    "import sys\n",
    "!conda install --yes --prefix {sys.prefix} python-graphviz"
   ]
  },
  {
   "cell_type": "markdown",
   "id": "10430fc1-8827-485c-b57f-2d2f2c279e9b",
   "metadata": {
    "tags": []
   },
   "source": [
    "### Random Forest - sklearn"
   ]
  },
  {
   "cell_type": "code",
   "execution_count": 36,
   "id": "50e50536-50d1-4664-b324-6e63ab41386b",
   "metadata": {
    "tags": []
   },
   "outputs": [
    {
     "ename": "ModuleNotFoundError",
     "evalue": "No module named 'graphviz'",
     "output_type": "error",
     "traceback": [
      "\u001b[1;31m---------------------------------------------------------------------------\u001b[0m",
      "\u001b[1;31mModuleNotFoundError\u001b[0m                       Traceback (most recent call last)",
      "Cell \u001b[1;32mIn[36], line 16\u001b[0m\n\u001b[0;32m     14\u001b[0m \u001b[38;5;28;01mfrom\u001b[39;00m \u001b[38;5;21;01msklearn\u001b[39;00m\u001b[38;5;21;01m.\u001b[39;00m\u001b[38;5;21;01mtree\u001b[39;00m \u001b[38;5;28;01mimport\u001b[39;00m export_graphviz\n\u001b[0;32m     15\u001b[0m \u001b[38;5;28;01mfrom\u001b[39;00m \u001b[38;5;21;01mIPython\u001b[39;00m\u001b[38;5;21;01m.\u001b[39;00m\u001b[38;5;21;01mdisplay\u001b[39;00m \u001b[38;5;28;01mimport\u001b[39;00m Image\n\u001b[1;32m---> 16\u001b[0m \u001b[38;5;28;01mimport\u001b[39;00m \u001b[38;5;21;01mgraphviz\u001b[39;00m\n",
      "\u001b[1;31mModuleNotFoundError\u001b[0m: No module named 'graphviz'"
     ]
    }
   ],
   "source": [
    "# Càrrega de llibreries\n",
    "# https://www.datacamp.com/tutorial/random-forests-classifier-python\n",
    "# Data Processing\n",
    "import pandas as pd\n",
    "import numpy as np\n",
    "\n",
    "# Modelling\n",
    "from sklearn.ensemble import RandomForestClassifier\n",
    "from sklearn.metrics import accuracy_score, confusion_matrix, precision_score, recall_score, ConfusionMatrixDisplay\n",
    "from sklearn.model_selection import RandomizedSearchCV, train_test_split\n",
    "from scipy.stats import randint\n",
    "\n",
    "# Tree Visualisation\n",
    "from sklearn.tree import export_graphviz\n",
    "from IPython.display import Image\n",
    "import graphviz"
   ]
  },
  {
   "cell_type": "code",
   "execution_count": null,
   "id": "3c468741-6b57-4a12-806a-f36108d8dc91",
   "metadata": {
    "tags": []
   },
   "outputs": [],
   "source": [
    "# Part 1: definim Ydata, Ytst per a tots i Xdata, Xtst per a cada cas \n",
    "startTime = time.time()\n",
    "\n",
    "# Ydata = np.array(miltr.index)\n",
    "# Ytst = np.array(miltst.iloc[:,0])\n",
    "\n",
    "Ydata = np.array(alltr.iloc[:,0])\n",
    "Ytst = np.array(alltst.iloc[:,0])\n",
    "\n",
    "# d) Selecció 2\n",
    "# Xdata = np.array(miltr.iloc[:,[0,3,6,26]])\n",
    "# Xtst = np.array(miltst.iloc[:,[1,4,7,27]])\n",
    "# label = \"d\"\n",
    "\n",
    "# j) Alltr: 0 25 26 27\n",
    "Xdata = np.array(alltr.loc[:,[\"f0\",\"f25\",\"f26\",\"mass\"]])\n",
    "Xtst = np.array(alltst.loc[:,[\"f0\",\"f25\",\"f26\",\"mass\"]])\n",
    "label = \"j\"\n",
    "\n",
    "\n",
    "# Part 2: càlcul RF\n",
    "rf = RandomForestClassifier()\n",
    "rf.fit(Xdata, Ydata)\n",
    "\n",
    "       \n",
    "# Part 3: avaluació RF\n",
    "Ypred = rf.predict(Xtst)\n",
    "acc = accuracy_score(Ytst,Ypred)\n",
    "temps = time.time() - startTime\n",
    "\n",
    "print(\"Accuracy = %f. Temps d'execució: %i segons\", acc, temps)"
   ]
  },
  {
   "cell_type": "code",
   "execution_count": null,
   "id": "8f4a6d71-c29c-4507-8192-5bded8e55452",
   "metadata": {},
   "outputs": [],
   "source": []
  },
  {
   "cell_type": "code",
   "execution_count": null,
   "id": "b75277e7-0fd9-49b5-8d45-40d27843a2a2",
   "metadata": {
    "tags": []
   },
   "outputs": [],
   "source": [
    "import matplotlib.pyplot as plt\n",
    "histo = np.zeros(1000)\n",
    "for i in range(1000):\n",
    "    histo[i-1] = np.random.rand()\n",
    "    \n",
    "plt.hist(histo,2)\n",
    "plt.show()\n"
   ]
  },
  {
   "cell_type": "code",
   "execution_count": null,
   "id": "842f5360-ae5b-4804-bc8f-735d73664599",
   "metadata": {},
   "outputs": [],
   "source": []
  }
 ],
 "metadata": {
  "kernelspec": {
   "display_name": "Python 3 (ipykernel)",
   "language": "python",
   "name": "python3"
  },
  "language_info": {
   "codemirror_mode": {
    "name": "ipython",
    "version": 3
   },
   "file_extension": ".py",
   "mimetype": "text/x-python",
   "name": "python",
   "nbconvert_exporter": "python",
   "pygments_lexer": "ipython3",
   "version": "3.11.6"
  }
 },
 "nbformat": 4,
 "nbformat_minor": 5
}
