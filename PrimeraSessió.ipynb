{
 "cells": [
  {
   "cell_type": "markdown",
   "id": "bcf90354-d8d2-4766-811a-c126822593b2",
   "metadata": {
    "jp-MarkdownHeadingCollapsed": true,
    "tags": []
   },
   "source": [
    "# **Rèplica primera sessió - càrrega de dades**"
   ]
  },
  {
   "cell_type": "code",
   "execution_count": null,
   "id": "da11321b-ff73-4c4b-b14c-e77447fabca8",
   "metadata": {},
   "outputs": [],
   "source": [
    "# Atajos útils:\n",
    "# Ctrl + / --> comentar (en el numeric pad!)\n",
    "# Ctrl + ç --> comentar tb"
   ]
  },
  {
   "cell_type": "markdown",
   "id": "3e7947b1-5c66-49f7-bfa0-4c5bdea5db17",
   "metadata": {},
   "source": [
    "Primerament instal·lem un parell de ferramentes útils"
   ]
  },
  {
   "cell_type": "code",
   "execution_count": null,
   "id": "180a51d4-052c-4e0c-9558-45da072d7442",
   "metadata": {
    "tags": []
   },
   "outputs": [],
   "source": [
    "pip install -r requirements.txt\n",
    "pip install lckr-jupyterlab-variableinspector"
   ]
  },
  {
   "cell_type": "markdown",
   "id": "15a31874-60b5-48d5-bef2-2ceb164e1303",
   "metadata": {},
   "source": [
    "Repliquem el mecanisme de càlcul de temps d'execució"
   ]
  },
  {
   "cell_type": "code",
   "execution_count": null,
   "id": "5a9a0346-e518-46c1-a3d1-41a182e3e14b",
   "metadata": {},
   "outputs": [],
   "source": [
    "# Examen d'eficiència\n",
    "startTime = time.time()\n",
    "alltr = pd.read_csv(r\"D:\\OneDrive\\Universitat\\5. Quart'\\TFG\\RstudioPython\\Dades\\Normal\\all_train.csv\")\n",
    "endTime = time.time()\n",
    "print(endTime-startTime)\n",
    "\n",
    "# Tarda 63 segons! La meitat que el segon mecanisme en R."
   ]
  },
  {
   "cell_type": "code",
   "execution_count": null,
   "id": "2e02d4d6-6f49-42fc-a0bf-f50a7dc81c9e",
   "metadata": {
    "tags": []
   },
   "outputs": [],
   "source": [
    "# f1000a = open(r\"D:/OneDrive/Universitat/5. Quart'/TFG/RstudioPython/Dades/NoNormalTrue/xttbar_m1000_aug17.txt\", mode ='r')\n",
    "# f1000b = open(r\"D:/OneDrive/Universitat/5. Quart'/TFG/RstudioPython/Dades/NoNormalTrue/xttbar_m1000_aug4.txt\", mode ='r')\n",
    "# readme = open(r\"D:/OneDrive/Universitat/5. Quart'/TFG/RstudioPython/Dades/NoNormalTrue/xttbar_m1000_aug4.txt\")\n",
    "# lineslist = readme.readlines()\n",
    "# cols, rows = (int(val) for val in lines_list[0].split())"
   ]
  },
  {
   "cell_type": "code",
   "execution_count": null,
   "id": "8278f4e4-f6f3-4a91-8bfc-725847726ae1",
   "metadata": {
    "tags": []
   },
   "outputs": [],
   "source": [
    "# Seleccionem únicament les dades signal/background\n",
    "milTrSignal = alltr.loc[(alltr[\"mass\"] == 1000) & (alltr[\"# label\"] == 1)]\n",
    "milTrBackground = alltr.loc[(alltr[\"mass\"] == 1000) & (alltr[\"# label\"] == 0)]\n",
    "# adult_names = titanic.loc[titanic[\"Age\"] > 35, \"Name\"]\n",
    "\n",
    "# Error detectat: & té major prioritat que ==, així que cal emprar parèntesis!"
   ]
  },
  {
   "cell_type": "code",
   "execution_count": null,
   "id": "23e59662-f1f7-411d-ba71-27af0adbf9f7",
   "metadata": {
    "tags": []
   },
   "outputs": [],
   "source": [
    "del(allTrBackground, allTrSignal) # Mètode per eliminar variables"
   ]
  },
  {
   "cell_type": "markdown",
   "id": "59db1549-6d3e-4f02-bc0b-9218251d5390",
   "metadata": {
    "tags": []
   },
   "source": [
    "## Càrrega de dades final"
   ]
  },
  {
   "cell_type": "code",
   "execution_count": null,
   "id": "ee738d1e-9cf5-402b-812c-83a523638ab2",
   "metadata": {},
   "outputs": [],
   "source": [
    "# Cel·la definitiva - càrrega de dades\n",
    "import pandas as pd\n",
    "import numpy as np\n",
    "import time\n",
    "\n",
    "alltr = pd.read_csv(r\"D:\\OneDrive\\Universitat\\5. Quart'\\TFG\\RstudioPython\\Dades\\Normal\\all_train.csv\")\n",
    "miltr = pd.read_csv(r\"D:\\OneDrive\\Universitat\\5. Quart'\\TFG\\RstudioPython\\Dades\\Normal\\1000_train.csv\")"
   ]
  },
  {
   "cell_type": "code",
   "execution_count": null,
   "id": "9891d24b-b273-4650-9196-3e9253353781",
   "metadata": {
    "tags": []
   },
   "outputs": [],
   "source": [
    "# Trunquem les dades, seleccionem únicament 10 000. A més, la separem en la informació coneguda i la que pretenem predir.\n",
    "Xdata = np.array(miltr.loc[:,[\"f0\",\"f1\",\"f2\",\"f3\",\"f4\",\"f5\",\"f6\",\"f7\",\"f8\",\"f9\",\"f10\",\"f11\",\"f12\",\"f13\",\"f14\",\"f15\",\"f16\",\"f17\",\"f18\",\"f19\",\"f20\",\"f21\"]])\n",
    "# Ydata = np.array(miltr.loc[:,\"# label\"])\n",
    "Ydata = np.array(miltr.index)[1:10001]\n",
    "Xdata = Xdata[0:10000,:]"
   ]
  },
  {
   "cell_type": "code",
   "execution_count": null,
   "id": "66d5dfe2-5743-4bc4-982a-10657320833f",
   "metadata": {
    "tags": []
   },
   "outputs": [],
   "source": [
    "print(Xdata)"
   ]
  },
  {
   "cell_type": "code",
   "execution_count": null,
   "id": "dbba32ff-b584-4db1-81c0-ad0cc06170ea",
   "metadata": {
    "tags": []
   },
   "outputs": [],
   "source": [
    "print(miltr)"
   ]
  },
  {
   "cell_type": "markdown",
   "id": "92fe06bf-7984-4fcc-858e-0c3805f21ef3",
   "metadata": {
    "tags": []
   },
   "source": [
    "# **Segona sessió: normalització, matrius de correlació i decision trees**"
   ]
  },
  {
   "cell_type": "markdown",
   "id": "dae57014-dc51-4da0-9341-faea5d40724d",
   "metadata": {
    "jp-MarkdownHeadingCollapsed": true,
    "tags": []
   },
   "source": [
    "## Càrrega de dades (tr i tst)"
   ]
  },
  {
   "cell_type": "code",
   "execution_count": null,
   "id": "17b1f546-a955-4923-bcec-6ec9fbf4ccfe",
   "metadata": {},
   "outputs": [],
   "source": [
    "import pandas as pd\n",
    "import numpy as np\n",
    "import time\n",
    "\n",
    "miltr = pd.read_csv(r\"D:\\OneDrive\\Universitat\\5. Quint\\TFG\\RstudioPython\\Dades\\Normal\\1000_train.csv\")\n",
    "miltst = pd.read_csv(r\"D:\\OneDrive\\Universitat\\5. Quint\\TFG\\RstudioPython\\Dades\\Normal\\1000_test.csv\")\n",
    "alltr = pd.read_csv(r\"D:\\OneDrive\\Universitat\\5. Quint\\TFG\\RstudioPython\\Dades\\Normal\\all_train.csv\")\n",
    "alltst = pd.read_csv(r\"D:\\OneDrive\\Universitat\\5. Quint\\TFG\\RstudioPython\\Dades\\Normal\\all_test.csv\")\n",
    "\n",
    "# del(alltr,alltst)\n",
    "# del(miltr, miltst)\n",
    "\n",
    "# Per poder emetre un so quan acaba d'executar una cel·la\n",
    "from IPython.display import Audio\n",
    "sound_file = \"C:/Users/alexp/Downloads/beep.wav\"\n",
    "Audio(sound_file, autoplay=True)"
   ]
  },
  {
   "cell_type": "markdown",
   "id": "edcacb35-3b76-4b18-b881-a342340d0d3a",
   "metadata": {
    "jp-MarkdownHeadingCollapsed": true,
    "tags": []
   },
   "source": [
    "## Matrius de correlació"
   ]
  },
  {
   "cell_type": "markdown",
   "id": "9562e9b8-654a-4759-bbb3-78cdb50b58cd",
   "metadata": {},
   "source": [
    "Preprocesem les dades: seleccionem solament signal (`# label == 1`) i variables HL i pTs"
   ]
  },
  {
   "cell_type": "code",
   "execution_count": 23,
   "id": "3618e0e1-b0dc-49c4-b283-0ddda0f5471a",
   "metadata": {
    "tags": []
   },
   "outputs": [],
   "source": [
    "milTrSignal = miltr.loc[miltr.index == 1]\n",
    "milTrSignal = miltr.loc[:,[\"# label\",\"f6\",\"f10\",\"f14\",\"f18\",\"f21\",\"f22\",\"f23\",\"f24\",\"f25\"]]\n",
    "milTrSignal.columns = [\"Lept_pt\",\"j1_pt\",\"j2_pt\",\"j3_pt\",\"j4_pt\",\"m_jj\",\"m_jjj\",\"m_lv\",\"m_jlv\",\"m_wwbb\"]"
   ]
  },
  {
   "cell_type": "markdown",
   "id": "feea95c6-ad4d-437b-8f12-9862ba8c5821",
   "metadata": {},
   "source": [
    "Representem la matriu"
   ]
  },
  {
   "cell_type": "code",
   "execution_count": 33,
   "id": "74a4beea-9569-414d-bfdd-4d8afd999df4",
   "metadata": {
    "tags": []
   },
   "outputs": [
    {
     "data": {
      "image/png": "[encoded data removed]",
      "text/plain": [
       "<Figure size 1000x1000 with 1 Axes>"
      ]
     },
     "metadata": {},
     "output_type": "display_data"
    }
   ],
   "source": [
    "import matplotlib.pyplot as plt\n",
    "\n",
    "# plt.matshow(milTrSignal.corr())\n",
    "# plt.show()\n",
    "f = plt.figure(figsize=(10, 10))\n",
    "plt.matshow(milTrSignal.corr(), fignum=f.number)\n",
    "\n",
    "plt.xticks(range(milTrSignal.select_dtypes(['number']).shape[1]), milTrSignal.select_dtypes(['number']).columns, fontsize=14, rotation=45)\n",
    "plt.yticks(range(milTrSignal.select_dtypes(['number']).shape[1]), milTrSignal.select_dtypes(['number']).columns, fontsize=14)\n",
    "\n",
    "# ax=plt.gca() #get the current axes\n",
    "# PCM=ax.get_children()[2]\n",
    "# cb = plt.colorbar(PCM,ax=ax)\n",
    "# cb.ax.tick_params(labelsize=14)\n",
    "\n",
    "plt.title('Correlation Matrix', fontsize=16);"
   ]
  },
  {
   "cell_type": "code",
   "execution_count": 34,
   "id": "e1d9f035-322d-4cc1-9efe-d0e7680408dd",
   "metadata": {
    "tags": []
   },
   "outputs": [
    {
     "data": {
      "text/html": [
       "<style type=\"text/css\">\n",
       "#T_01cc2_row0_col0, #T_01cc2_row1_col1, #T_01cc2_row2_col2, #T_01cc2_row3_col3, #T_01cc2_row4_col4, #T_01cc2_row5_col5, #T_01cc2_row6_col6, #T_01cc2_row7_col7, #T_01cc2_row8_col8, #T_01cc2_row9_col9 {\n",
       "  background-color: #b40426;\n",
       "  color: #f1f1f1;\n",
       "}\n",
       "#T_01cc2_row0_col1, #T_01cc2_row0_col2, #T_01cc2_row0_col3, #T_01cc2_row0_col4, #T_01cc2_row1_col0, #T_01cc2_row1_col5, #T_01cc2_row1_col6, #T_01cc2_row1_col7, #T_01cc2_row1_col8, #T_01cc2_row1_col9, #T_01cc2_row2_col0, #T_01cc2_row2_col5, #T_01cc2_row2_col6, #T_01cc2_row2_col7, #T_01cc2_row2_col8, #T_01cc2_row2_col9, #T_01cc2_row3_col0, #T_01cc2_row3_col5, #T_01cc2_row3_col6, #T_01cc2_row3_col7, #T_01cc2_row3_col8, #T_01cc2_row3_col9, #T_01cc2_row4_col0, #T_01cc2_row4_col5, #T_01cc2_row4_col6, #T_01cc2_row4_col7, #T_01cc2_row4_col8, #T_01cc2_row4_col9, #T_01cc2_row5_col1, #T_01cc2_row5_col2, #T_01cc2_row5_col3, #T_01cc2_row5_col4, #T_01cc2_row6_col1, #T_01cc2_row6_col2, #T_01cc2_row6_col3, #T_01cc2_row6_col4, #T_01cc2_row7_col1, #T_01cc2_row7_col2, #T_01cc2_row7_col3, #T_01cc2_row7_col4, #T_01cc2_row8_col1, #T_01cc2_row8_col2, #T_01cc2_row8_col3, #T_01cc2_row8_col4, #T_01cc2_row9_col1, #T_01cc2_row9_col2, #T_01cc2_row9_col3, #T_01cc2_row9_col4 {\n",
       "  background-color: #3b4cc0;\n",
       "  color: #f1f1f1;\n",
       "}\n",
       "#T_01cc2_row0_col5, #T_01cc2_row5_col0 {\n",
       "  background-color: #5673e0;\n",
       "  color: #f1f1f1;\n",
       "}\n",
       "#T_01cc2_row0_col6, #T_01cc2_row6_col0 {\n",
       "  background-color: #5e7de7;\n",
       "  color: #f1f1f1;\n",
       "}\n",
       "#T_01cc2_row0_col7, #T_01cc2_row7_col0 {\n",
       "  background-color: #9bbcff;\n",
       "  color: #000000;\n",
       "}\n",
       "#T_01cc2_row0_col8, #T_01cc2_row8_col0 {\n",
       "  background-color: #8fb1fe;\n",
       "  color: #000000;\n",
       "}\n",
       "#T_01cc2_row0_col9, #T_01cc2_row1_col2, #T_01cc2_row2_col1, #T_01cc2_row9_col0 {\n",
       "  background-color: #a5c3fe;\n",
       "  color: #000000;\n",
       "}\n",
       "#T_01cc2_row1_col3, #T_01cc2_row3_col1 {\n",
       "  background-color: #aac7fd;\n",
       "  color: #000000;\n",
       "}\n",
       "#T_01cc2_row1_col4, #T_01cc2_row4_col1 {\n",
       "  background-color: #9ebeff;\n",
       "  color: #000000;\n",
       "}\n",
       "#T_01cc2_row2_col3, #T_01cc2_row3_col2 {\n",
       "  background-color: #92b4fe;\n",
       "  color: #000000;\n",
       "}\n",
       "#T_01cc2_row2_col4, #T_01cc2_row4_col2 {\n",
       "  background-color: #88abfd;\n",
       "  color: #000000;\n",
       "}\n",
       "#T_01cc2_row3_col4, #T_01cc2_row4_col3 {\n",
       "  background-color: #81a4fb;\n",
       "  color: #f1f1f1;\n",
       "}\n",
       "#T_01cc2_row5_col6, #T_01cc2_row6_col5 {\n",
       "  background-color: #f39577;\n",
       "  color: #000000;\n",
       "}\n",
       "#T_01cc2_row5_col7, #T_01cc2_row7_col5 {\n",
       "  background-color: #465ecf;\n",
       "  color: #f1f1f1;\n",
       "}\n",
       "#T_01cc2_row5_col8, #T_01cc2_row8_col5 {\n",
       "  background-color: #6687ed;\n",
       "  color: #f1f1f1;\n",
       "}\n",
       "#T_01cc2_row5_col9, #T_01cc2_row9_col5 {\n",
       "  background-color: #96b7ff;\n",
       "  color: #000000;\n",
       "}\n",
       "#T_01cc2_row6_col7, #T_01cc2_row7_col6 {\n",
       "  background-color: #4c66d6;\n",
       "  color: #f1f1f1;\n",
       "}\n",
       "#T_01cc2_row6_col8, #T_01cc2_row8_col6 {\n",
       "  background-color: #90b2fe;\n",
       "  color: #000000;\n",
       "}\n",
       "#T_01cc2_row6_col9, #T_01cc2_row9_col6 {\n",
       "  background-color: #cad8ef;\n",
       "  color: #000000;\n",
       "}\n",
       "#T_01cc2_row7_col8, #T_01cc2_row8_col7 {\n",
       "  background-color: #7093f3;\n",
       "  color: #f1f1f1;\n",
       "}\n",
       "#T_01cc2_row7_col9, #T_01cc2_row9_col7 {\n",
       "  background-color: #6384eb;\n",
       "  color: #f1f1f1;\n",
       "}\n",
       "#T_01cc2_row8_col9, #T_01cc2_row9_col8 {\n",
       "  background-color: #dbdcde;\n",
       "  color: #000000;\n",
       "}\n",
       "</style>\n",
       "<table id=\"T_01cc2\">\n",
       "  <thead>\n",
       "    <tr>\n",
       "      <th class=\"blank level0\" >&nbsp;</th>\n",
       "      <th id=\"T_01cc2_level0_col0\" class=\"col_heading level0 col0\" >Lept_pt</th>\n",
       "      <th id=\"T_01cc2_level0_col1\" class=\"col_heading level0 col1\" >j1_pt</th>\n",
       "      <th id=\"T_01cc2_level0_col2\" class=\"col_heading level0 col2\" >j2_pt</th>\n",
       "      <th id=\"T_01cc2_level0_col3\" class=\"col_heading level0 col3\" >j3_pt</th>\n",
       "      <th id=\"T_01cc2_level0_col4\" class=\"col_heading level0 col4\" >j4_pt</th>\n",
       "      <th id=\"T_01cc2_level0_col5\" class=\"col_heading level0 col5\" >m_jj</th>\n",
       "      <th id=\"T_01cc2_level0_col6\" class=\"col_heading level0 col6\" >m_jjj</th>\n",
       "      <th id=\"T_01cc2_level0_col7\" class=\"col_heading level0 col7\" >m_lv</th>\n",
       "      <th id=\"T_01cc2_level0_col8\" class=\"col_heading level0 col8\" >m_jlv</th>\n",
       "      <th id=\"T_01cc2_level0_col9\" class=\"col_heading level0 col9\" >m_wwbb</th>\n",
       "    </tr>\n",
       "  </thead>\n",
       "  <tbody>\n",
       "    <tr>\n",
       "      <th id=\"T_01cc2_level0_row0\" class=\"row_heading level0 row0\" >Lept_pt</th>\n",
       "      <td id=\"T_01cc2_row0_col0\" class=\"data row0 col0\" >1.000000</td>\n",
       "      <td id=\"T_01cc2_row0_col1\" class=\"data row0 col1\" >-0.000065</td>\n",
       "      <td id=\"T_01cc2_row0_col2\" class=\"data row0 col2\" >0.000439</td>\n",
       "      <td id=\"T_01cc2_row0_col3\" class=\"data row0 col3\" >-0.000164</td>\n",
       "      <td id=\"T_01cc2_row0_col4\" class=\"data row0 col4\" >0.000665</td>\n",
       "      <td id=\"T_01cc2_row0_col5\" class=\"data row0 col5\" >0.090895</td>\n",
       "      <td id=\"T_01cc2_row0_col6\" class=\"data row0 col6\" >0.115301</td>\n",
       "      <td id=\"T_01cc2_row0_col7\" class=\"data row0 col7\" >0.289434</td>\n",
       "      <td id=\"T_01cc2_row0_col8\" class=\"data row0 col8\" >0.253861</td>\n",
       "      <td id=\"T_01cc2_row0_col9\" class=\"data row0 col9\" >0.319434</td>\n",
       "    </tr>\n",
       "    <tr>\n",
       "      <th id=\"T_01cc2_level0_row1\" class=\"row_heading level0 row1\" >j1_pt</th>\n",
       "      <td id=\"T_01cc2_row1_col0\" class=\"data row1 col0\" >-0.000065</td>\n",
       "      <td id=\"T_01cc2_row1_col1\" class=\"data row1 col1\" >1.000000</td>\n",
       "      <td id=\"T_01cc2_row1_col2\" class=\"data row1 col2\" >0.317722</td>\n",
       "      <td id=\"T_01cc2_row1_col3\" class=\"data row1 col3\" >0.332589</td>\n",
       "      <td id=\"T_01cc2_row1_col4\" class=\"data row1 col4\" >0.299979</td>\n",
       "      <td id=\"T_01cc2_row1_col5\" class=\"data row1 col5\" >0.000429</td>\n",
       "      <td id=\"T_01cc2_row1_col6\" class=\"data row1 col6\" >0.000596</td>\n",
       "      <td id=\"T_01cc2_row1_col7\" class=\"data row1 col7\" >-0.000782</td>\n",
       "      <td id=\"T_01cc2_row1_col8\" class=\"data row1 col8\" >-0.000133</td>\n",
       "      <td id=\"T_01cc2_row1_col9\" class=\"data row1 col9\" >0.000458</td>\n",
       "    </tr>\n",
       "    <tr>\n",
       "      <th id=\"T_01cc2_level0_row2\" class=\"row_heading level0 row2\" >j2_pt</th>\n",
       "      <td id=\"T_01cc2_row2_col0\" class=\"data row2 col0\" >0.000439</td>\n",
       "      <td id=\"T_01cc2_row2_col1\" class=\"data row2 col1\" >0.317722</td>\n",
       "      <td id=\"T_01cc2_row2_col2\" class=\"data row2 col2\" >1.000000</td>\n",
       "      <td id=\"T_01cc2_row2_col3\" class=\"data row2 col3\" >0.262361</td>\n",
       "      <td id=\"T_01cc2_row2_col4\" class=\"data row2 col4\" >0.236009</td>\n",
       "      <td id=\"T_01cc2_row2_col5\" class=\"data row2 col5\" >0.000290</td>\n",
       "      <td id=\"T_01cc2_row2_col6\" class=\"data row2 col6\" >0.000139</td>\n",
       "      <td id=\"T_01cc2_row2_col7\" class=\"data row2 col7\" >-0.000703</td>\n",
       "      <td id=\"T_01cc2_row2_col8\" class=\"data row2 col8\" >-0.000137</td>\n",
       "      <td id=\"T_01cc2_row2_col9\" class=\"data row2 col9\" >0.000417</td>\n",
       "    </tr>\n",
       "    <tr>\n",
       "      <th id=\"T_01cc2_level0_row3\" class=\"row_heading level0 row3\" >j3_pt</th>\n",
       "      <td id=\"T_01cc2_row3_col0\" class=\"data row3 col0\" >-0.000164</td>\n",
       "      <td id=\"T_01cc2_row3_col1\" class=\"data row3 col1\" >0.332589</td>\n",
       "      <td id=\"T_01cc2_row3_col2\" class=\"data row3 col2\" >0.262361</td>\n",
       "      <td id=\"T_01cc2_row3_col3\" class=\"data row3 col3\" >1.000000</td>\n",
       "      <td id=\"T_01cc2_row3_col4\" class=\"data row3 col4\" >0.218003</td>\n",
       "      <td id=\"T_01cc2_row3_col5\" class=\"data row3 col5\" >0.000233</td>\n",
       "      <td id=\"T_01cc2_row3_col6\" class=\"data row3 col6\" >0.000538</td>\n",
       "      <td id=\"T_01cc2_row3_col7\" class=\"data row3 col7\" >-0.000221</td>\n",
       "      <td id=\"T_01cc2_row3_col8\" class=\"data row3 col8\" >0.000119</td>\n",
       "      <td id=\"T_01cc2_row3_col9\" class=\"data row3 col9\" >0.000584</td>\n",
       "    </tr>\n",
       "    <tr>\n",
       "      <th id=\"T_01cc2_level0_row4\" class=\"row_heading level0 row4\" >j4_pt</th>\n",
       "      <td id=\"T_01cc2_row4_col0\" class=\"data row4 col0\" >0.000665</td>\n",
       "      <td id=\"T_01cc2_row4_col1\" class=\"data row4 col1\" >0.299979</td>\n",
       "      <td id=\"T_01cc2_row4_col2\" class=\"data row4 col2\" >0.236009</td>\n",
       "      <td id=\"T_01cc2_row4_col3\" class=\"data row4 col3\" >0.218003</td>\n",
       "      <td id=\"T_01cc2_row4_col4\" class=\"data row4 col4\" >1.000000</td>\n",
       "      <td id=\"T_01cc2_row4_col5\" class=\"data row4 col5\" >-0.000263</td>\n",
       "      <td id=\"T_01cc2_row4_col6\" class=\"data row4 col6\" >-0.000567</td>\n",
       "      <td id=\"T_01cc2_row4_col7\" class=\"data row4 col7\" >-0.000150</td>\n",
       "      <td id=\"T_01cc2_row4_col8\" class=\"data row4 col8\" >0.000383</td>\n",
       "      <td id=\"T_01cc2_row4_col9\" class=\"data row4 col9\" >-0.000066</td>\n",
       "    </tr>\n",
       "    <tr>\n",
       "      <th id=\"T_01cc2_level0_row5\" class=\"row_heading level0 row5\" >m_jj</th>\n",
       "      <td id=\"T_01cc2_row5_col0\" class=\"data row5 col0\" >0.090895</td>\n",
       "      <td id=\"T_01cc2_row5_col1\" class=\"data row5 col1\" >0.000429</td>\n",
       "      <td id=\"T_01cc2_row5_col2\" class=\"data row5 col2\" >0.000290</td>\n",
       "      <td id=\"T_01cc2_row5_col3\" class=\"data row5 col3\" >0.000233</td>\n",
       "      <td id=\"T_01cc2_row5_col4\" class=\"data row5 col4\" >-0.000263</td>\n",
       "      <td id=\"T_01cc2_row5_col5\" class=\"data row5 col5\" >1.000000</td>\n",
       "      <td id=\"T_01cc2_row5_col6\" class=\"data row5 col6\" >0.759044</td>\n",
       "      <td id=\"T_01cc2_row5_col7\" class=\"data row5 col7\" >0.039548</td>\n",
       "      <td id=\"T_01cc2_row5_col8\" class=\"data row5 col8\" >0.139457</td>\n",
       "      <td id=\"T_01cc2_row5_col9\" class=\"data row5 col9\" >0.276138</td>\n",
       "    </tr>\n",
       "    <tr>\n",
       "      <th id=\"T_01cc2_level0_row6\" class=\"row_heading level0 row6\" >m_jjj</th>\n",
       "      <td id=\"T_01cc2_row6_col0\" class=\"data row6 col0\" >0.115301</td>\n",
       "      <td id=\"T_01cc2_row6_col1\" class=\"data row6 col1\" >0.000596</td>\n",
       "      <td id=\"T_01cc2_row6_col2\" class=\"data row6 col2\" >0.000139</td>\n",
       "      <td id=\"T_01cc2_row6_col3\" class=\"data row6 col3\" >0.000538</td>\n",
       "      <td id=\"T_01cc2_row6_col4\" class=\"data row6 col4\" >-0.000567</td>\n",
       "      <td id=\"T_01cc2_row6_col5\" class=\"data row6 col5\" >0.759044</td>\n",
       "      <td id=\"T_01cc2_row6_col6\" class=\"data row6 col6\" >1.000000</td>\n",
       "      <td id=\"T_01cc2_row6_col7\" class=\"data row6 col7\" >0.060612</td>\n",
       "      <td id=\"T_01cc2_row6_col8\" class=\"data row6 col8\" >0.258423</td>\n",
       "      <td id=\"T_01cc2_row6_col9\" class=\"data row6 col9\" >0.432481</td>\n",
       "    </tr>\n",
       "    <tr>\n",
       "      <th id=\"T_01cc2_level0_row7\" class=\"row_heading level0 row7\" >m_lv</th>\n",
       "      <td id=\"T_01cc2_row7_col0\" class=\"data row7 col0\" >0.289434</td>\n",
       "      <td id=\"T_01cc2_row7_col1\" class=\"data row7 col1\" >-0.000782</td>\n",
       "      <td id=\"T_01cc2_row7_col2\" class=\"data row7 col2\" >-0.000703</td>\n",
       "      <td id=\"T_01cc2_row7_col3\" class=\"data row7 col3\" >-0.000221</td>\n",
       "      <td id=\"T_01cc2_row7_col4\" class=\"data row7 col4\" >-0.000150</td>\n",
       "      <td id=\"T_01cc2_row7_col5\" class=\"data row7 col5\" >0.039548</td>\n",
       "      <td id=\"T_01cc2_row7_col6\" class=\"data row7 col6\" >0.060612</td>\n",
       "      <td id=\"T_01cc2_row7_col7\" class=\"data row7 col7\" >1.000000</td>\n",
       "      <td id=\"T_01cc2_row7_col8\" class=\"data row7 col8\" >0.169085</td>\n",
       "      <td id=\"T_01cc2_row7_col9\" class=\"data row7 col9\" >0.131144</td>\n",
       "    </tr>\n",
       "    <tr>\n",
       "      <th id=\"T_01cc2_level0_row8\" class=\"row_heading level0 row8\" >m_jlv</th>\n",
       "      <td id=\"T_01cc2_row8_col0\" class=\"data row8 col0\" >0.253861</td>\n",
       "      <td id=\"T_01cc2_row8_col1\" class=\"data row8 col1\" >-0.000133</td>\n",
       "      <td id=\"T_01cc2_row8_col2\" class=\"data row8 col2\" >-0.000137</td>\n",
       "      <td id=\"T_01cc2_row8_col3\" class=\"data row8 col3\" >0.000119</td>\n",
       "      <td id=\"T_01cc2_row8_col4\" class=\"data row8 col4\" >0.000383</td>\n",
       "      <td id=\"T_01cc2_row8_col5\" class=\"data row8 col5\" >0.139457</td>\n",
       "      <td id=\"T_01cc2_row8_col6\" class=\"data row8 col6\" >0.258423</td>\n",
       "      <td id=\"T_01cc2_row8_col7\" class=\"data row8 col7\" >0.169085</td>\n",
       "      <td id=\"T_01cc2_row8_col8\" class=\"data row8 col8\" >1.000000</td>\n",
       "      <td id=\"T_01cc2_row8_col9\" class=\"data row8 col9\" >0.493482</td>\n",
       "    </tr>\n",
       "    <tr>\n",
       "      <th id=\"T_01cc2_level0_row9\" class=\"row_heading level0 row9\" >m_wwbb</th>\n",
       "      <td id=\"T_01cc2_row9_col0\" class=\"data row9 col0\" >0.319434</td>\n",
       "      <td id=\"T_01cc2_row9_col1\" class=\"data row9 col1\" >0.000458</td>\n",
       "      <td id=\"T_01cc2_row9_col2\" class=\"data row9 col2\" >0.000417</td>\n",
       "      <td id=\"T_01cc2_row9_col3\" class=\"data row9 col3\" >0.000584</td>\n",
       "      <td id=\"T_01cc2_row9_col4\" class=\"data row9 col4\" >-0.000066</td>\n",
       "      <td id=\"T_01cc2_row9_col5\" class=\"data row9 col5\" >0.276138</td>\n",
       "      <td id=\"T_01cc2_row9_col6\" class=\"data row9 col6\" >0.432481</td>\n",
       "      <td id=\"T_01cc2_row9_col7\" class=\"data row9 col7\" >0.131144</td>\n",
       "      <td id=\"T_01cc2_row9_col8\" class=\"data row9 col8\" >0.493482</td>\n",
       "      <td id=\"T_01cc2_row9_col9\" class=\"data row9 col9\" >1.000000</td>\n",
       "    </tr>\n",
       "  </tbody>\n",
       "</table>\n"
      ],
      "text/plain": [
       "<pandas.io.formats.style.Styler at 0x1b466089d50>"
      ]
     },
     "execution_count": 34,
     "metadata": {},
     "output_type": "execute_result"
    }
   ],
   "source": [
    "df = pd.DataFrame(milTrSignal)\n",
    "corr = milTrSignal.corr()\n",
    "corr.style.background_gradient(cmap='coolwarm')"
   ]
  },
  {
   "cell_type": "markdown",
   "id": "535a4032-78d7-4ce5-aaed-c78f648c48f3",
   "metadata": {
    "jp-MarkdownHeadingCollapsed": true,
    "tags": []
   },
   "source": [
    "## Decision Trees"
   ]
  },
  {
   "cell_type": "markdown",
   "id": "7689ead2-451f-4f5d-80ed-25b5a4cea32e",
   "metadata": {
    "jp-MarkdownHeadingCollapsed": true,
    "tags": []
   },
   "source": [
    "### Repliquem decision trees"
   ]
  },
  {
   "cell_type": "markdown",
   "id": "7542d4e0-77f3-4699-8c41-45c3b0ccd8b4",
   "metadata": {},
   "source": [
    "Estudiem una mica algunes de les funcions que emprarem (`array` [bàsic de numpy], `bincount`, `arange`, `argwhere`, `flatten`)"
   ]
  },
  {
   "cell_type": "code",
   "execution_count": null,
   "id": "beb00df5-ac35-4758-8864-b4bd2fd5ba13",
   "metadata": {
    "tags": []
   },
   "outputs": [],
   "source": [
    "# bincount diguem-ne que fa un histograma de l'array\n",
    "y = np.array([1,2,3,1,2])\n",
    "np.bincount(y)"
   ]
  },
  {
   "cell_type": "code",
   "execution_count": null,
   "id": "bc328092-3df3-47ee-bceb-22bd5b8d1ada",
   "metadata": {
    "tags": []
   },
   "outputs": [],
   "source": [
    "# np.argwhere(condition) troba els elements que compleixen la condició\n",
    "# .flatten ho transforma en vector, en comptes de llista de llistes\n",
    "x = np.arange(5)\n",
    "np.argwhere(x<3).flatten()"
   ]
  },
  {
   "cell_type": "code",
   "execution_count": null,
   "id": "582251d6-ad5b-4102-b583-05c859ea1b4a",
   "metadata": {},
   "outputs": [],
   "source": [
    "# Algoritme per a Decision Trees basat en https://www.youtube.com/watch?v=NxEHSAfFlK8&list=PLcWfeUsAys2k_xub3mHks85sBHZvg24Jd&index=5\n",
    "# Un parell d'ajusts, en la línia 94, afegisc un pas addicional per compatibilitzar bincounts amb les dades (float). No estic segur de si és adequat.\n",
    "\n",
    "\n",
    "# L'asterisc força a passar value explícitament quan es cree un node: Node(value = blabla)\n",
    "import numpy as np\n",
    "from collections import Counter\n",
    "\n",
    "class Node():\n",
    "    def __init__(self, feature=None, threshold=None, left=None, right=None,*,value=None):\n",
    "        self.feature = feature\n",
    "        self.threshold = threshold\n",
    "        self.left = left\n",
    "        self.right = right\n",
    "        self.value = value\n",
    "        \n",
    "    def is_leaf_node(self):\n",
    "        return self.value is not None # Si existeix un valor, aleshores hi ha al menys un fill, per tant no és --> false\n",
    "        \n",
    "\n",
    "class DecisionTree:\n",
    "    def __init__(self, min_samples_split=2, max_depth=100, n_features=None):\n",
    "        self.min_samples_split=min_samples_split\n",
    "        self.max_depth=max_depth\n",
    "        self.n_features=n_features\n",
    "        self.root=None\n",
    "\n",
    "    def fit(self, X, y):\n",
    "        self.n_features = X.shape[1] if not self.n_features else min(X.shape[1], self.n_features)\n",
    "        self.root = self._grow_tree(X,y)\n",
    "        \n",
    "    def _grow_tree(self, X, y, depth = 0):\n",
    "        n_samples, n_feats = X.shape\n",
    "        n_labels = len(np.unique(y))\n",
    "        \n",
    "        # Check the stopping criteria\n",
    "        if (depth>=self.max_depth or n_labels == 1 or n_samples < self.min_samples_split):\n",
    "            leaf_value = self._most_common_label(y)\n",
    "            return Node(value=leaf_value)\n",
    "        # Si tenim el màxim de profunditat, si tenim un node pur o arribem al mínim de mostres, no crearem més\n",
    "        \n",
    "        feat_idx = np.random.choice(n_feats, self.n_features, replace = False)\n",
    "        \n",
    "        # Find the best split\n",
    "        best_feature, best_thresh = self._best_split(X, y, feat_idx) # Lloc on incloem la part aleatòria dels DT\n",
    "        \n",
    "        # Create child nodes\n",
    "        left_idxs, right_idxs = self._split(X[:,best_feature], best_thresh)\n",
    "        left = self._grow_tree(X[left_idxs,:],y[left_idxs], depth+1)\n",
    "        right = self._grow_tree(X[right_idxs,:],y[right_idxs], depth+1)\n",
    "        return Node(best_feature, best_thresh, left, right)\n",
    "        \n",
    "        \n",
    "    def _best_split(self, X, y, feat_idxs):\n",
    "        best_gain = -1\n",
    "        split_idx, split_threshold = None, None\n",
    "        \n",
    "        for feat_idx in feat_idxs:\n",
    "            X_column = X[:, feat_idx]\n",
    "            thresholds = np.unique(X_column)\n",
    "            \n",
    "            for thr in thresholds:\n",
    "                # Calculate Information gain\n",
    "                gain = self._information_gain(y, X_column, thr)\n",
    "                \n",
    "                if gain > best_gain:\n",
    "                    best_gain = gain\n",
    "                    split_idx = feat_idx\n",
    "                    split_threshold = thr\n",
    "        \n",
    "        return split_idx, split_threshold\n",
    "    \n",
    "    def _information_gain(self, y, X_column, threshold):\n",
    "        # Parent entropy\n",
    "        parent_entropy = self._entropy(y)\n",
    "        \n",
    "        # Create children\n",
    "        left_idxs, right_idxs = self._split(X_column, threshold)\n",
    "        \n",
    "        if(len(left_idxs) == 0 or len(right_idxs) == 0):\n",
    "           return 0\n",
    "        \n",
    "        # Calculate weighted avg. entropy of children\n",
    "        n = len(y)\n",
    "        n_l, n_r = len(left_idxs), len(right_idxs)\n",
    "        e_l, e_r = self._entropy(y[left_idxs]),self._entropy(y[right_idxs])\n",
    "        child_entropy = (n_l/n) * e_l + (n_r/n) * e_r    \n",
    "           \n",
    "        # Calculate IG\n",
    "        information_gain = parent_entropy - child_entropy\n",
    "        return information_gain\n",
    "        \n",
    "    def _entropy(self, y):\n",
    "        uniq, inverse = np.unique(y, return_inverse=True) # Afegit per mi per poder fer el mateix amb floats en comptes d'int\n",
    "        hist = np.bincount(inverse)\n",
    "        ps = hist / len(y)\n",
    "        return -np.sum([p*np.log(p) for p in ps if p > 0])\n",
    "   \n",
    "    def _split(self, X_column, split_thresh):\n",
    "        left_idxs = np.argwhere(X_column <= split_thresh).flatten()\n",
    "        right_idxs = np.argwhere(X_column > split_thresh).flatten()\n",
    "        return left_idxs, right_idxs\n",
    "        \n",
    "        \n",
    "    def _most_common_label(self, y):\n",
    "        counter = Counter(y)\n",
    "        value = counter.most_common(1)[0][0] # Mirar en Logistic Regression\n",
    "        return value\n",
    "                        \n",
    "\n",
    "    def predict(self,X):\n",
    "        return np.array([self._traverse_tree(x, self.root) for x in X])\n",
    "    \n",
    "    def _traverse_tree(self, x, node):\n",
    "        if node.is_leaf_node():\n",
    "           return node.value\n",
    "           \n",
    "        if x[node.feature] <= node.threshold:\n",
    "           return self._traverse_tree(x, node.left)\n",
    "        return self._traverse_tree(x, node.right)\n",
    "\n"
   ]
  },
  {
   "cell_type": "markdown",
   "id": "4a99f854-eb23-4a65-a261-2417eabfc286",
   "metadata": {},
   "source": [
    "Emprem aquest DT *artesanal* amb els datasets proposats al vídeo."
   ]
  },
  {
   "cell_type": "code",
   "execution_count": null,
   "id": "a06e2a41-33f0-4e4a-a25c-6bea38f19345",
   "metadata": {
    "tags": []
   },
   "outputs": [],
   "source": [
    "from sklearn import datasets\n",
    "from sklearn.model_selection import train_test_split\n",
    "import numpy as np\n",
    "\n",
    "# from DecisionTree import DecisionTree\n",
    "\n",
    "data = datasets.load_breast_cancer()\n",
    "X, y = data.data, data.target\n",
    "\n",
    "X_train, X_test, y_train, y_test = train_test_split(\n",
    "    X, y, test_size=0.2, random_state = 1234\n",
    ")\n",
    "\n",
    "clf = DecisionTree()\n",
    "clf.fit(X_train, y_train)\n",
    "predictions = clf.predict(X_test)\n",
    "\n",
    "def accuracy(y_test, y_pred):\n",
    "    return np.sum(y_test == y_pred) / len(y_test)\n",
    "    \n",
    "acc = accuracy(y_test, predictions)\n",
    "print(acc)\n",
    "\n",
    "# Jugar amb més max_depth, diferents paràmetres"
   ]
  },
  {
   "cell_type": "code",
   "execution_count": null,
   "id": "22b950b1-6ea2-450e-aeca-8355b93743b9",
   "metadata": {
    "tags": []
   },
   "outputs": [],
   "source": [
    "print(Xdata)"
   ]
  },
  {
   "cell_type": "markdown",
   "id": "663eefbd-f4e3-4cc0-932f-6a9d2fda3133",
   "metadata": {},
   "source": [
    "Intentem emprar aquest DT amb els nostres datasets. Seleccionem les columnes LL per a Xdata i els índexs per al Ydata"
   ]
  },
  {
   "cell_type": "code",
   "execution_count": null,
   "id": "e17af2f5-af4d-430a-835a-b5c94a111d1e",
   "metadata": {
    "tags": []
   },
   "outputs": [],
   "source": [
    "# Prova 1: trunquem les dades, seleccionem únicamen 10 000\n",
    "Xdata = np.array(miltr.loc[:,[\"f0\",\"f1\",\"f2\",\"f3\",\"f4\",\"f5\",\"f6\",\"f7\",\"f8\",\"f9\",\"f10\",\"f11\",\"f12\",\"f13\",\"f14\",\"f15\",\"f16\",\"f17\",\"f18\",\"f19\",\"f20\",\"f21\"]])\n",
    "# Ydata = np.array(miltr.loc[:,\"# label\"])\n",
    "Ydata = np.array(miltr.index)[1:10001]\n",
    "Xdata = Xdata[0:10000,:]"
   ]
  },
  {
   "cell_type": "code",
   "execution_count": null,
   "id": "82af4e00-ac73-4ac8-a9db-43d3110467d2",
   "metadata": {
    "tags": []
   },
   "outputs": [],
   "source": [
    "# Prova 2: no fem split en test i train,  \n",
    "Xdata = np.array(miltr.loc[:,[\"f0\",\"f1\",\"f2\",\"f3\",\"f4\",\"f5\",\"f6\",\"f7\",\"f8\",\"f9\",\"f10\",\"f11\",\"f12\",\"f13\",\"f14\",\"f15\",\"f16\",\"f17\",\"f18\",\"f19\",\"f20\",\"f21\"]])\n",
    "# Ydata = np.array(miltr.loc[:,\"# label\"])\n",
    "Ydata = np.array(miltr.index)[0:50000]\n",
    "Xdata = Xdata[0:50000,:]"
   ]
  },
  {
   "cell_type": "code",
   "execution_count": null,
   "id": "e858f2f7-943f-4b0a-aadd-beb2d0347558",
   "metadata": {
    "tags": []
   },
   "outputs": [],
   "source": [
    "from sklearn.model_selection import train_test_split\n",
    "import numpy as np\n",
    "\n",
    "startTime = time.time()\n",
    "\n",
    "X, y = Xdata, Ydata\n",
    "\n",
    "X_train, X_test, y_train, y_test = train_test_split(\n",
    "    X, y, test_size=1, random_state = 1234\n",
    ")\n",
    "\n",
    "clf = DecisionTree(min_samples_split = 500, max_depth=4)\n",
    "clf.fit(X_train, y_train)\n",
    "predictions = clf.predict(X_test)\n",
    "\n",
    "def accuracy(y_test, y_pred):\n",
    "    return np.sum(y_test == y_pred) / len(y_test)\n",
    "    \n",
    "acc = accuracy(y_test, predictions)\n",
    "print(acc)\n",
    "\n",
    "endTime = time.time()\n",
    "print(endTime-startTime)\n",
    "\n",
    "# Prova 1 amb 10.000 dades, None, None --> precisió de 1.0, temps d'execució ~ 15 minuts\n",
    "# Prova 2 amb 100.000 dades, min_samples_split = 500, max_depth=4 --> precisió de ; temps d'execució > 4 hores, descartat"
   ]
  },
  {
   "cell_type": "code",
   "execution_count": null,
   "id": "602cb8ff-6b71-4201-82ae-07919f785f86",
   "metadata": {},
   "outputs": [],
   "source": [
    "print(clf.fit)"
   ]
  },
  {
   "cell_type": "markdown",
   "id": "9fca4259-0060-4da5-add8-eec62a1de7ec",
   "metadata": {
    "jp-MarkdownHeadingCollapsed": true,
    "tags": []
   },
   "source": [
    "### Ferramentes sklearn"
   ]
  },
  {
   "cell_type": "markdown",
   "id": "33e14920-1440-4859-bb2b-6492fb08cd01",
   "metadata": {},
   "source": [
    "Una vegada hem replicat el codi bàsic d'un DT i hem interioritzat el procediment, emprem la llibreria sklearn, amb algoritmes més\n",
    "testats i optimitzats, entenc.\n",
    "El mètode anterior és ilustratiu, però inviable en termes de temps d'execució."
   ]
  },
  {
   "cell_type": "code",
   "execution_count": null,
   "id": "ec447480-9cac-4da8-86d4-3403e07059ed",
   "metadata": {
    "tags": []
   },
   "outputs": [],
   "source": [
    "# Prova 3: amb tots els esdeveniments\n",
    "Ydata = np.array(miltr.index)\n",
    "Xdata = np.array(miltr.loc[:,[\"f0\",\"f1\",\"f2\",\"f3\",\"f4\",\"f5\",\"f6\",\"f7\",\"f8\",\"f9\",\"f10\",\"f11\",\"f12\",\"f13\",\"f14\",\"f15\",\"f16\",\"f17\",\"f18\",\"f19\",\"f20\",\"f21\"]])"
   ]
  },
  {
   "cell_type": "code",
   "execution_count": null,
   "id": "c4218918-1a8c-49a5-bc04-9ef037f92055",
   "metadata": {},
   "outputs": [],
   "source": [
    "from sklearn import tree\n",
    "import matplotlib.pyplot as plt\n",
    "startTime = time.time()\n",
    "\n",
    "clf = tree.DecisionTreeClassifier(max_depth = 5)\n",
    "clf = clf.fit(Xdata, Ydata)\n",
    "\n",
    "# tree.plot_tree(clf)\n",
    "\n",
    "endTime = time.time()\n",
    "print(endTime-startTime) \n",
    "\n",
    "# Prova 2: 13 segons!?!?!\n",
    "# Prova 3 (tots els esdeveniments, max_depth = 5): 174 segons?\n",
    "\n",
    "\n",
    "# El plot del tree és un infern quan té massa depth, obviar."
   ]
  },
  {
   "cell_type": "code",
   "execution_count": null,
   "id": "a6eb2084-6956-432b-8253-72348596b6ad",
   "metadata": {
    "tags": []
   },
   "outputs": [],
   "source": [
    "tree.plot_tree(clf)"
   ]
  },
  {
   "cell_type": "markdown",
   "id": "f89f1408-597c-4db5-b55c-f54b2de9643c",
   "metadata": {
    "tags": []
   },
   "source": [
    "Carreguem ara també les dades test per avaluar el Tree"
   ]
  },
  {
   "cell_type": "code",
   "execution_count": null,
   "id": "0f11f8ec-634d-4016-8bf0-7261f7e243a9",
   "metadata": {
    "tags": []
   },
   "outputs": [],
   "source": [
    "miltst = pd.read_csv(r\"D:\\OneDrive\\Universitat\\5. Quart'\\TFG\\RstudioPython\\Dades\\Normal\\1000_test.csv\")"
   ]
  },
  {
   "cell_type": "code",
   "execution_count": null,
   "id": "0282130f-9060-453d-99bb-ede49d4e8482",
   "metadata": {
    "tags": []
   },
   "outputs": [],
   "source": [
    "Ytst = np.array(miltst.iloc[:,0])\n",
    "Xtst = np.array(miltst.loc[:,[\"# label\",\"f0\",\"f1\",\"f2\",\"f3\",\"f4\",\"f5\",\"f6\",\"f7\",\"f8\",\"f9\",\"f10\",\"f11\",\"f12\",\"f13\",\"f14\",\"f15\",\"f16\",\"f17\",\"f18\",\"f19\",\"f20\"]])"
   ]
  },
  {
   "cell_type": "code",
   "execution_count": null,
   "id": "1a525d37-2bca-461e-8e66-5be73f94e222",
   "metadata": {
    "tags": []
   },
   "outputs": [],
   "source": [
    "# print(miltst)\n",
    "# print(Xtst)\n",
    "# print(Ytst)"
   ]
  },
  {
   "cell_type": "markdown",
   "id": "e8f93f70-2414-4ee7-a5f8-6789293c5658",
   "metadata": {},
   "source": [
    "`score` sembla que calcula la precisió mitjana (https://github.com/scikit-learn/scikit-learn/blob/093e0cf14/sklearn/base.py#L680) "
   ]
  },
  {
   "cell_type": "code",
   "execution_count": null,
   "id": "acf47708-efff-4aa3-b5cc-1d14a8cc4f43",
   "metadata": {
    "tags": []
   },
   "outputs": [],
   "source": [
    "acc = clf.score(Xtst, Ytst)\n",
    "print(acc)"
   ]
  },
  {
   "cell_type": "markdown",
   "id": "32c36961-a20a-42aa-a77e-38745d489f1a",
   "metadata": {},
   "source": [
    "Ara, unifiquem totes les parts de l'avaluació:\n",
    "\n",
    "0. Càrrega de dades\n",
    "1. Preparació de les dades i selecció de variables\n",
    "2. Càlcul del DT\n",
    "3. Avaluació del DT"
   ]
  },
  {
   "cell_type": "code",
   "execution_count": null,
   "id": "0884ec5e-e468-459a-82a3-ae7ff6f46a47",
   "metadata": {
    "tags": []
   },
   "outputs": [],
   "source": [
    "Ydata = np.array(alltr.iloc[:,[0]])\n",
    "\n",
    "print(Ydata)"
   ]
  },
  {
   "cell_type": "code",
   "execution_count": null,
   "id": "d91d10db-aa8a-4cae-bbae-17879b875a3c",
   "metadata": {
    "tags": []
   },
   "outputs": [],
   "source": [
    "print(alltr)"
   ]
  },
  {
   "cell_type": "code",
   "execution_count": null,
   "id": "6003d43e-f2d9-4e5a-9655-a1c6fe003bb2",
   "metadata": {
    "tags": []
   },
   "outputs": [],
   "source": [
    "from sklearn import tree\n",
    "import matplotlib.pyplot as plt"
   ]
  },
  {
   "cell_type": "code",
   "execution_count": null,
   "id": "18df63ff-0878-4981-b709-5f8984b5893e",
   "metadata": {
    "tags": []
   },
   "outputs": [],
   "source": [
    "# Part 1: definim Ydata, Ytst per a tots i Xdata, Xtst per a cada cas \n",
    "# Ydata = np.array(miltr.index)\n",
    "# Ytst = np.array(miltst.iloc[:,0])\n",
    "\n",
    "Ydata = np.array(alltr.iloc[:,[0]])\n",
    "Ytst = np.array(alltst.iloc[:,0])\n",
    "\n",
    "\n",
    "# a) LL \n",
    "# Xdata = np.array(miltr.loc[:,[\"# label\",\"f0\",\"f1\",\"f2\",\"f3\",\"f4\",\"f5\",\"f6\",\"f7\",\"f8\",\"f9\",\"f10\",\"f11\",\"f12\",\n",
    "#                               \"f13\",\"f14\",\"f15\",\"f16\",\"f17\",\"f18\",\"f19\",\"f20\"]])\n",
    "# Xtst = np.array(miltst.loc[:,[\"# label\",\"f0\",\"f1\",\"f2\",\"f3\",\"f4\",\"f5\",\"f6\",\"f7\",\"f8\",\"f9\",\"f10\",\"f11\",\"f12\"\n",
    "#                               ,\"f13\",\"f14\",\"f15\",\"f16\",\"f17\",\"f18\",\"f19\",\"f20\"]])\n",
    "\n",
    "# b) LL + HL \n",
    "# Xdata = np.array(miltr.loc[:,[\"# label\",\"f0\",\"f1\",\"f2\",\"f3\",\"f4\",\"f5\",\"f6\",\"f7\",\"f8\",\"f9\",\"f10\",\"f11\",\"f12\",\n",
    "#                               \"f13\",\"f14\",\"f15\",\"f16\",\"f17\",\"f18\",\"f19\",\"f20\",\"f21\",\"f22\",\"f23\",\"f24\",\"f25\"]])\n",
    "# Xtst = np.array(miltst.loc[:,[\"# label\",\"f0\",\"f1\",\"f2\",\"f3\",\"f4\",\"f5\",\"f6\",\"f7\",\"f8\",\"f9\",\"f10\",\"f11\",\"f12\",\n",
    "#                               \"f13\",\"f14\",\"f15\",\"f16\",\"f17\",\"f18\",\"f19\",\"f20\",\"f21\",\"f22\",\"f23\",\"f24\",\"f25\"]])\n",
    "\n",
    "# c) Selecció 1: f6 + HL\n",
    "# Xdata = np.array(miltr.iloc[:,[\"f6\",\"f21\",\"f22\",\"f23\",\"f24\",\"f25\"]])\n",
    "# Xtst = np.array(miltst.iloc[:,[\"f6\",\"f21\",\"f22\",\"f23\",\"f24\",\"f25\"]])\n",
    "\n",
    "# d) Selecció 2\n",
    "# Xdata = np.array(miltr.iloc[:,[0,3,6,26]])\n",
    "# Xtst = np.array(miltst.iloc[:,[1,4,7,27]])\n",
    "\n",
    "\n",
    "# e) Alltr: d + mass\n",
    "# Xdata = np.array(alltr.iloc[:,[1,4,7,27,28]])\n",
    "# Xtst = np.array(alltst.iloc[:,[1,4,7,27,28]])\n",
    "\n",
    "# f) Alltr: LL \n",
    "# Xdata = np.array(alltr.loc[:,[\"f0\",\"f1\",\"f2\",\"f3\",\"f4\",\"f5\",\"f6\",\"f7\",\"f8\",\"f9\",\"f10\",\"f11\",\"f12\",\n",
    "#                               \"f13\",\"f14\",\"f15\",\"f16\",\"f17\",\"f18\",\"f19\",\"f20\",\"f21\"]])\n",
    "# Xtst = np.array(alltst.loc[:,[\"f0\",\"f1\",\"f2\",\"f3\",\"f4\",\"f5\",\"f6\",\"f7\",\"f8\",\"f9\",\"f10\",\"f11\",\"f12\"\n",
    "#                               ,\"f13\",\"f14\",\"f15\",\"f16\",\"f17\",\"f18\",\"f19\",\"f20\",\"f21\"]])\n",
    "\n",
    "# g) Alltr: LL + HL \n",
    "# Xdata = np.array(alltr.loc[:,[\"f0\",\"f1\",\"f2\",\"f3\",\"f4\",\"f5\",\"f6\",\"f7\",\"f8\",\"f9\",\"f10\",\"f11\",\"f12\",\n",
    "#                               \"f13\",\"f14\",\"f15\",\"f16\",\"f17\",\"f18\",\"f19\",\"f20\",\"f21\",\"f22\",\"f23\",\"f24\",\"f25\",\"f26\",\"mass\"]])\n",
    "# Xtst = np.array(alltst.loc[:,[\"f0\",\"f1\",\"f2\",\"f3\",\"f4\",\"f5\",\"f6\",\"f7\",\"f8\",\"f9\",\"f10\",\"f11\",\"f12\",\n",
    "#                               \"f13\",\"f14\",\"f15\",\"f16\",\"f17\",\"f18\",\"f19\",\"f20\",\"f21\",\"f22\",\"f23\",\"f24\",\"f25\",\"f26\",\"mass\"]])\n",
    "\n",
    "# h) Alltr: 3 5 6 26 27\n",
    "# Xdata = np.array(alltr.iloc[:,[3,5,6,26,27]])\n",
    "# Xtst = np.array(alltst.iloc[:,[3,5,6,26,27]])\n",
    "\n",
    "# i) Alltr: 0 26 27\n",
    "Xdata = np.array(alltr.loc[:,[\"f0\",\"f26\",\"mass\"]])\n",
    "Xtst = np.array(alltst.loc[:,[\"f0\",\"f26\",\"mass\"]])\n",
    "\n",
    "\n",
    "\n",
    "# Part 2: Càlcul DT\n",
    "from sklearn import tree\n",
    "import matplotlib.pyplot as plt\n",
    "startTime = time.time()\n",
    "\n",
    "clf = tree.DecisionTreeClassifier(max_depth = 4)\n",
    "clf = clf.fit(Xdata, Ydata)\n",
    "\n",
    "temps = time.time() - startTime\n",
    "\n",
    "print(temps)\n",
    "\n",
    "\n",
    "# Part 3: Avaluació DT\n",
    "acc = clf.score(Xtst, Ytst)\n",
    "print(acc)"
   ]
  },
  {
   "cell_type": "markdown",
   "id": "ef0bf4f8-6beb-426a-8037-1523e268b4f5",
   "metadata": {
    "jp-MarkdownHeadingCollapsed": true,
    "tags": []
   },
   "source": [
    "### Precisions "
   ]
  },
  {
   "cell_type": "markdown",
   "id": "f72043d5-b431-4103-902e-b7fc728ffdf6",
   "metadata": {},
   "source": [
    "- miltr LL, max_depth = 5, miltst:         0.54265\n",
    "\n",
    "- miltr LL+HL, max_depth = 5, miltst:      0.68485 (temps = 202 s)\n",
    "- miltr LL+HL, max_depth = 8, miltst:      0.65410 (temps = 350 s)\n",
    "- miltr LL+HL, max_depth = 4, miltst:      0.72376 (temps = 157 s)\n",
    "- miltr LL+HL, max_depth = 3, miltst:      0.74780 (temps = 115 s) !!\n",
    "- miltr LL+HL, max_depth = 2, miltst:      0.57717 (temps =  75 s)\n",
    "\n",
    "- miltr selecció 1, max_depth = 2, miltst: 0.66136 (temps = 20 s)\n",
    "- miltr selecció 1, max_depth = 3, miltst: 0.66163 (temps = 29 s)\n",
    "- miltr selecció 1, max_depth = 4, miltst: 0.66231 (temps = 39 s)\n",
    "\n",
    "- miltr selecció 2, max_depth = 3, miltst: 0.90009 (temps = 21 s) !! Seleccione aquestes variables pq són les que empra en t = 115 \n",
    "- miltr selecció 2, max_depth = 4, miltst: 0.90504 (temps = 28 s)\n",
    "- miltr selecció 2, max_depth = 2, miltst: 0.89052 (temps = 14 s)\n",
    "- miltr selecció 2, max_depth = 5, miltst: 0.90687 (temps = 36 s)\n",
    "- miltr selecció 2, max_depth = 6, miltst: 0.90724 (temps = 43 s)\n",
    "\n",
    "\n",
    "- alltr d + mass, max_depth = 3, alltst:   0.80764 (temps = 22 s)\n",
    "- alltr d + mass, max_depth = 4, alltst:   0.82198 (temps = 31 s)\n",
    "- alltr d + mass, max_depth = 2, alltst:   0.80764 (temps = 22 s)\n",
    "- alltr d + mass, max_depth = 5, alltst:   0.83335 (temps = 35 s)\n",
    "\n",
    "- alltr LL, max_depth = 8, alltst:         0.81532 (temps = 288 s)\n",
    "- alltr LL + HL, max_depth = 8, alltst:    0.84975 (temps = 360 s)\n",
    "- alltr h, max_depth = 2, alltst:          0.76904 (temps =  16 s)\n",
    "- alltr h, max_depth = 4, alltst:          0.77089 (temps =  31 s)\n",
    "- alltr i, max_depth = 4, alltst:          0.79936 (temps =  17 s)\n",
    "\n",
    "Per calcular l'error de les precisions, potser es podria plantejar dividir la mostra de test i després fer la desviació de la precisió? Quin rigor tindria?"
   ]
  },
  {
   "cell_type": "code",
   "execution_count": null,
   "id": "59fec389-dd04-480e-b691-0fc058e8305a",
   "metadata": {
    "tags": []
   },
   "outputs": [],
   "source": [
    "tree.plot_tree(clf)"
   ]
  },
  {
   "cell_type": "code",
   "execution_count": null,
   "id": "e9b36e7c-66c8-411b-8d30-f88e74e1116a",
   "metadata": {
    "tags": []
   },
   "outputs": [],
   "source": [
    "# print(Xdata)\n",
    "# print(Ydata)\n",
    "# print(Xtst)\n",
    "# print(miltr)\n",
    "# print(miltst)\n",
    "\n",
    "# Xdata = np.array(miltr.iloc[:,[0,3,6,26]])\n",
    "# Xtst = np.array(miltst.iloc[:,[1,4,7,27]])"
   ]
  },
  {
   "cell_type": "markdown",
   "id": "c313a42b-f6fa-4996-8af2-94035f0671a4",
   "metadata": {
    "jp-MarkdownHeadingCollapsed": true,
    "tags": []
   },
   "source": [
    "### Càlcul i avaluació completa amb accuracy + kappa + F1-score"
   ]
  },
  {
   "cell_type": "code",
   "execution_count": null,
   "id": "b47134d7-7b33-44c3-977e-8664c5f5fcc4",
   "metadata": {
    "tags": []
   },
   "outputs": [],
   "source": [
    "import math\n",
    "# Comprovació del mecanisme per a calcular\n",
    "# temp = np.array(alltr.loc[:,[\"f25\",\"f26\"]])\n",
    "# temp[:,0] = temp[:,0]/temp[:,1]"
   ]
  },
  {
   "cell_type": "code",
   "execution_count": 45,
   "id": "c993cc7d-e359-4c24-9d97-5e0e3249660b",
   "metadata": {
    "tags": []
   },
   "outputs": [
    {
     "name": "stdout",
     "output_type": "stream",
     "text": [
      "| j | 7 | 0.821382 | 0.642784 | 0.832045 | 51 |\n"
     ]
    }
   ],
   "source": [
    "# Part 1: definim Ydata, Ytst per a tots i Xdata, Xtst per a cada cas \n",
    "startTime = time.time()\n",
    "\n",
    "# Ydata = np.array(miltr.index)\n",
    "# Ytst = np.array(miltst.iloc[:,0])\n",
    "\n",
    "Ydata = np.array(alltr.iloc[:,[0]])\n",
    "Ytst = np.array(alltst.iloc[:,0])\n",
    "\n",
    "# d) Selecció 2\n",
    "# Xdata = np.array(miltr.iloc[:,[0,3,6,26]])\n",
    "# Xtst = np.array(miltst.iloc[:,[1,4,7,27]])\n",
    "# label = \"d\"\n",
    "\n",
    "# j) Alltr: 0 25 26 27\n",
    "Xdata = np.array(alltr.loc[:,[\"f0\",\"f25\",\"f26\",\"mass\"]])\n",
    "Xtst = np.array(alltst.loc[:,[\"f0\",\"f25\",\"f26\",\"mass\"]])\n",
    "label = \"j\"\n",
    "\n",
    "# k) Alltr: HL + # label  --> Solament selecciona el mateix que j, almenys fins a depth = 5\n",
    "# Xdata = np.array(alltr.loc[:,[\"f0\",\"f22\",\"f23\",\"f24\",\"f25\",\"f26\",\"mass\"]])\n",
    "# Xtst = np.array(alltst.loc[:,[\"f0\",\"f22\",\"f23\",\"f24\",\"f25\",\"f26\",\"mass\"]])\n",
    "# label = \"k\"\n",
    "\n",
    "# l) Altres variables? Masses invariants pseudonormalitzades?\n",
    "# Xdata = np.array(alltr.loc[:,[\"f0\",\"f25\",\"f26\",\"mass\"]])\n",
    "# Xtst = np.array(alltst.loc[:,[\"f0\",\"f25\",\"f26\",\"mass\"]])\n",
    "# Xdata[:,2] = Xdata[:,2] / Xdata[:,3]\n",
    "# Xdata[:,1] = Xdata[:,1] / Xdata[:,3]\n",
    "# Xtst[:,2] = Xtst[:,2] / Xtst[:,3]\n",
    "# Xtst[:,1] = Xtst[:,1] / Xtst[:,3]\n",
    "# label = \"l\"\n",
    "\n",
    "# m) Altres variables? Masses invariants pseudonormalitzades?\n",
    "# Xdata = np.array(alltr.loc[:,[\"f0\",\"f25\",\"f26\",\"mass\"]])\n",
    "# Xtst = np.array(alltst.loc[:,[\"f0\",\"f25\",\"f26\",\"mass\"]])\n",
    "# Xdata[:,2] = Xdata[:,2] / np.log(Xdata[:,3])\n",
    "# Xdata[:,1] = Xdata[:,1] / np.log(Xdata[:,3])\n",
    "# Xtst[:,2] = Xtst[:,2] / np.log(Xtst[:,3])\n",
    "# Xtst[:,1] = Xtst[:,1] / np.log(Xtst[:,3])\n",
    "# label = \"m\"\n",
    "# Sembla que millora molt lleugerament!?\n",
    "\n",
    "\n",
    "\n",
    "# Part 2: Càlcul DT\n",
    "\n",
    "# from sklearn import tree\n",
    "# from sklearn import metrics\n",
    "# import matplotlib.pyplot as plt\n",
    "\n",
    "clf = tree.DecisionTreeClassifier(max_depth = 7)\n",
    "clf = clf.fit(Xdata, Ydata)\n",
    "\n",
    "\n",
    "# Part 3: Avaluació DT\n",
    "Ypred = clf.predict(Xtst)\n",
    "acc = clf.score(Xtst, Ytst)\n",
    "kappa = metrics.cohen_kappa_score(Ypred,Ytst)\n",
    "F1S = metrics.f1_score(Ytst,Ypred)\n",
    "\n",
    "temps = time.time() - startTime\n",
    "\n",
    "# print(\"DT amb profunditat %i.\\nPrecisió = %f; kappa = %f; F1-Score = %f.\\nTemps d'execució = %i segons\" \n",
    "#       % (clf.get_depth(),acc,kappa,F1S,temps)) # Format agradable\n",
    "\n",
    "print(\"| %s | %i | %f | %f | %f | %i |\" % (label,clf.get_depth(),acc,kappa,F1S,temps)) # Format per copiar i pegar a la taula\n",
    "Audio(sound_file, autoplay=True)"
   ]
  },
  {
   "cell_type": "markdown",
   "id": "9d9a7198-bb7e-43c5-83da-aa8ba83285f4",
   "metadata": {
    "jp-MarkdownHeadingCollapsed": true,
    "tags": []
   },
   "source": [
    "### Taula amb els diferents resultats"
   ]
  },
  {
   "cell_type": "markdown",
   "id": "a863e6e6-09ee-4403-925d-103eb3a2f782",
   "metadata": {},
   "source": [
    "| labels | Max_depth |  Acc  | Kappa | F1-S | Temps (s) |\n",
    "|:------:|:---------:|:-----:|:-----:|:----:|-------|\n",
    "| *Proves amb miltr* |\n",
    "| d | 2 | 0.890521 | 0.781038 | 0.887665 | 19 |\n",
    "| d | 3 | 0.900094 | 0.800189 | 0.900821 | 25 |\n",
    "| d | 4 | 0.905037 | 0.810078 | 0.907020 | 33 |\n",
    "| d | 5 | 0.906873 | 0.813750 | 0.908726 | 41 |\n",
    "| d | 6 | 0.907243 | 0.814490 | 0.909205 | 48 |\n",
    "| *Proves amb alltr* |\n",
    "| j | 2 | 0.769049 | 0.538069 | 0.751082 | 17 |\n",
    "| j | 3 | 0.780025 | 0.560112 | 0.811145 | 22 |\n",
    "| j | 4 | 0.799363 | 0.598737 | 0.805066 | 28 |\n",
    "| j | 5 | 0.814112 | 0.628248 | 0.827549 | 35 |\n",
    "| j | 6 | 0.816163 | 0.632358 | 0.832628 | 41 |\n",
    "| j | 7 | 0.821382 | 0.642784 | 0.832045 | 51 |\n",
    "| k | 2 | 0.769049 | 0.538069 | 0.751082 | 25 |\n",
    "| k | 5 | 0.814112 | 0.628248 | 0.827549 | 58 |\n",
    "| l | 5 | 0.669295 | 0.338461 | 0.571760 | 26 |\n",
    "| m | 5 | 0.814721 | 0.629476 | 0.832802 | 39 |\n",
    "\n",
    "\n",
    "Dubtes 02/11:\n",
    "- Com avalue per a diferents masses? Al paper s'empra un únic resultat i s'avalua amb diferents masses per fer la taula 1?\n",
    "- Sembla que l'entrenament amb miltr és més efectiu però potser pq no cal que tinga en compte la massa."
   ]
  },
  {
   "cell_type": "code",
   "execution_count": null,
   "id": "365731b0-72f0-490d-b3c4-d26944036573",
   "metadata": {},
   "outputs": [],
   "source": []
  },
  {
   "cell_type": "markdown",
   "id": "0ddcf58c-f9b2-489d-acde-6af6e87f9d40",
   "metadata": {
    "jp-MarkdownHeadingCollapsed": true,
    "tags": []
   },
   "source": [
    "## RandomForest"
   ]
  },
  {
   "cell_type": "markdown",
   "id": "6d95c04a-c4bf-4d8f-9a5a-90e27ca47026",
   "metadata": {
    "jp-MarkdownHeadingCollapsed": true,
    "tags": []
   },
   "source": [
    "### Repliquem Random Forest"
   ]
  },
  {
   "cell_type": "code",
   "execution_count": null,
   "id": "e3e725e6-b8e9-403f-88cd-e0620412a8fe",
   "metadata": {
    "tags": []
   },
   "outputs": [],
   "source": [
    "# Reemprem\n",
    "import numpy as np\n",
    "from collections import Counter\n",
    "\n",
    "class Node():\n",
    "    def __init__(self, feature=None, threshold=None, left=None, right=None,*,value=None):\n",
    "        self.feature = feature\n",
    "        self.threshold = threshold\n",
    "        self.left = left\n",
    "        self.right = right\n",
    "        self.value = value\n",
    "        \n",
    "    def is_leaf_node(self):\n",
    "        return self.value is not None # Si existeix un valor, aleshores hi ha al menys un fill, per tant no és --> false\n",
    "        \n",
    "\n",
    "class DecisionTree:\n",
    "    def __init__(self, min_samples_split=2, max_depth=100, n_features=None):\n",
    "        self.min_samples_split=min_samples_split\n",
    "        self.max_depth=max_depth\n",
    "        self.n_features=n_features\n",
    "        self.root=None\n",
    "\n",
    "    def fit(self, X, y):\n",
    "        self.n_features = X.shape[1] if not self.n_features else min(X.shape[1], self.n_features)\n",
    "        self.root = self._grow_tree(X,y)\n",
    "        \n",
    "    def _grow_tree(self, X, y, depth = 0):\n",
    "        n_samples, n_feats = X.shape\n",
    "        n_labels = len(np.unique(y))\n",
    "        \n",
    "        # Check the stopping criteria\n",
    "        if (depth>=self.max_depth or n_labels == 1 or n_samples < self.min_samples_split):\n",
    "            leaf_value = self._most_common_label(y)\n",
    "            return Node(value=leaf_value)\n",
    "        # Si tenim el màxim de profunditat, si tenim un node pur o arribem al mínim de mostres, no crearem més\n",
    "        \n",
    "        feat_idx = np.random.choice(n_feats, self.n_features, replace = False)\n",
    "        \n",
    "        # Find the best split\n",
    "        best_feature, best_thresh = self._best_split(X, y, feat_idx) # Lloc on incloem la part aleatòria dels DT\n",
    "        \n",
    "        # Create child nodes\n",
    "        left_idxs, right_idxs = self._split(X[:,best_feature], best_thresh)\n",
    "        left = self._grow_tree(X[left_idxs,:],y[left_idxs], depth+1)\n",
    "        right = self._grow_tree(X[right_idxs,:],y[right_idxs], depth+1)\n",
    "        return Node(best_feature, best_thresh, left, right)\n",
    "        \n",
    "        \n",
    "    def _best_split(self, X, y, feat_idxs):\n",
    "        best_gain = -1\n",
    "        split_idx, split_threshold = None, None\n",
    "        \n",
    "        for feat_idx in feat_idxs:\n",
    "            X_column = X[:, feat_idx]\n",
    "            thresholds = np.unique(X_column)\n",
    "            \n",
    "            for thr in thresholds:\n",
    "                # Calculate Information gain\n",
    "                gain = self._information_gain(y, X_column, thr)\n",
    "                \n",
    "                if gain > best_gain:\n",
    "                    best_gain = gain\n",
    "                    split_idx = feat_idx\n",
    "                    split_threshold = thr\n",
    "        \n",
    "        return split_idx, split_threshold\n",
    "    \n",
    "    def _information_gain(self, y, X_column, threshold):\n",
    "        # Parent entropy\n",
    "        parent_entropy = self._entropy(y)\n",
    "        \n",
    "        # Create children\n",
    "        left_idxs, right_idxs = self._split(X_column, threshold)\n",
    "        \n",
    "        if(len(left_idxs) == 0 or len(right_idxs) == 0):\n",
    "           return 0\n",
    "        \n",
    "        # Calculate weighted avg. entropy of children\n",
    "        n = len(y)\n",
    "        n_l, n_r = len(left_idxs), len(right_idxs)\n",
    "        e_l, e_r = self._entropy(y[left_idxs]),self._entropy(y[right_idxs])\n",
    "        child_entropy = (n_l/n) * e_l + (n_r/n) * e_r    \n",
    "           \n",
    "        # Calculate IG\n",
    "        information_gain = parent_entropy - child_entropy\n",
    "        return information_gain\n",
    "        \n",
    "    def _entropy(self, y):\n",
    "        uniq, inverse = np.unique(y, return_inverse=True) # Afegit per mi per poder fer el mateix amb floats en comptes d'int\n",
    "        hist = np.bincount(inverse)\n",
    "        ps = hist / len(y)\n",
    "        return -np.sum([p*np.log(p) for p in ps if p > 0])\n",
    "   \n",
    "    def _split(self, X_column, split_thresh):\n",
    "        left_idxs = np.argwhere(X_column <= split_thresh).flatten()\n",
    "        right_idxs = np.argwhere(X_column > split_thresh).flatten()\n",
    "        return left_idxs, right_idxs\n",
    "        \n",
    "        \n",
    "    def _most_common_label(self, y):\n",
    "        counter = Counter(y)\n",
    "        value = counter.most_common(1)[0][0] # Mirar en Logistic Regression\n",
    "        return value\n",
    "                        \n",
    "\n",
    "    def predict(self,X):\n",
    "        return np.array([self._traverse_tree(x, self.root) for x in X])\n",
    "    \n",
    "    def _traverse_tree(self, x, node):\n",
    "        if node.is_leaf_node():\n",
    "           return node.value\n",
    "           \n",
    "        if x[node.feature] <= node.threshold:\n",
    "           return self._traverse_tree(x, node.left)\n",
    "        return self._traverse_tree(x, node.right)\n",
    "\n"
   ]
  },
  {
   "cell_type": "code",
   "execution_count": null,
   "id": "8a0cf983-6625-4953-82ce-331d9b72710c",
   "metadata": {
    "tags": []
   },
   "outputs": [],
   "source": [
    "# from DecisionTree import DecisionTree\n",
    "import numpy as np\n",
    "from collections import Counter\n",
    "class RandomForest:\n",
    "    def __init__(self,n_trees=10,max_depth=10,min_samples_split=2,n_feature=None):\n",
    "        self.n_trees = n_trees\n",
    "        self.max_depth = max_depth\n",
    "        self.min_samples_split = min_samples_split\n",
    "        self.n_features = n_feature\n",
    "        self.trees= []\n",
    "    \n",
    "    def fit(self, X, y):\n",
    "        self.trees = []\n",
    "        for _ in range(self.n_trees):\n",
    "            tree = DecisionTree(max_depth = self.max_depth,\n",
    "                         min_samples_split = self.min_samples_split,\n",
    "                         n_features = self.n_features)\n",
    "            X_sample, y_sample = self._bootstrap_samples(X,y)\n",
    "            tree.fit(X_sample, y_sample)\n",
    "            self.trees.append(tree)\n",
    "\n",
    "            \n",
    "    def _bootstrap_samples(self,X,y):\n",
    "        n_samples = X.shape[0]\n",
    "        idxs = np.random.choice(n_samples,n_samples, replace = True)\n",
    "        return X[idxs], y[idxs]\n",
    "    \n",
    "    def _most_common_label(self,y):\n",
    "        counter = Counter(y)\n",
    "        most_common = counter.most_common(1)[0][0]\n",
    "        \n",
    "    def predict(self, X):\n",
    "        predictions = np.array([tree.predict(X) for tree in self.trees]) \n",
    "        # amb açò, tindríem una llista de n llistes, on cada llista és el conjunt de prediccions del n-èsim tree\n",
    "        # volem tindre una llista de n llistes, on la llista n conté les prediccions de cada tree per a l'esdeveniment n-èsim\n",
    "        tree_preds = np.swapaxes(predictions,0,1) # Aquesta funció de np fa precisament açò!\n",
    "        predictions = np.array([self._most_common_label(pred) for pred in tree_preds])\n",
    "        return predictions\n",
    "    \n",
    "# Prou senzill pq es basa en DT"
   ]
  },
  {
   "cell_type": "code",
   "execution_count": null,
   "id": "300152a3-1fd6-4c93-bf21-16ccafe46083",
   "metadata": {
    "tags": []
   },
   "outputs": [],
   "source": [
    "from sklearn import datasets\n",
    "from sklearn.model_selection import train_test_split\n",
    "import numpy as np\n",
    "# from RandomForest import RandomForest\n",
    "\n",
    "data = datasets.load_breast_cancer()\n",
    "X = data.data\n",
    "y = data.target\n",
    "\n",
    "X_train, X_test, y_train, y_test = train_test_split(\n",
    "    X, y, test_size = 0.2, random_state = 1234\n",
    ")\n",
    "\n",
    "def accuracy(y_true,y_pred):\n",
    "    accuracy = np.sum(y_true == y_pred) / len(y_true)\n",
    "    return accuracy\n",
    "\n",
    "clf = RandomForest()\n",
    "clf.fit(X_train,y_train)\n",
    "predictions = clf.predict(X_test)\n",
    "acc = accuracy(y_test,predictions)\n",
    "print(acc)"
   ]
  },
  {
   "cell_type": "code",
   "execution_count": null,
   "id": "508767c7-6e60-48f5-899b-8ec66d60928d",
   "metadata": {
    "tags": []
   },
   "outputs": [],
   "source": [
    "del(acc, predictions, clf, data, X, y, X_train, X_test, y_train, y_test)"
   ]
  },
  {
   "cell_type": "markdown",
   "id": "c6a54aa5-8aba-45a9-a211-5b47e4e297e9",
   "metadata": {
    "jp-MarkdownHeadingCollapsed": true,
    "tags": []
   },
   "source": [
    "### Noves llibreries?"
   ]
  },
  {
   "cell_type": "code",
   "execution_count": null,
   "id": "9e026344-a15f-43eb-9984-8da7994cedd3",
   "metadata": {
    "tags": []
   },
   "outputs": [],
   "source": [
    "import sys\n",
    "print(sys.version)"
   ]
  },
  {
   "cell_type": "code",
   "execution_count": null,
   "id": "046b2fd8-b0c1-4cf3-87fc-6fbddada6d1b",
   "metadata": {
    "tags": []
   },
   "outputs": [],
   "source": [
    "conda update jupyterlab"
   ]
  },
  {
   "cell_type": "code",
   "execution_count": null,
   "id": "0b5775f2-a46c-4c60-add3-9083ec847ea2",
   "metadata": {
    "tags": []
   },
   "outputs": [],
   "source": [
    "# Instal·lem altres paquets (prerequisits)\n",
    "# install -c anaconda python-graphviz\n",
    "# install -c anaconda pydot\n",
    "\n",
    "import sys\n",
    "!conda install --yes --prefix {sys.prefix} python-graphviz"
   ]
  },
  {
   "cell_type": "code",
   "execution_count": null,
   "id": "9575b00e-ce3e-49d2-8c34-01c1c8ab52c6",
   "metadata": {},
   "outputs": [],
   "source": [
    "!pip install graphviz # Sembla haver funcionat"
   ]
  },
  {
   "cell_type": "code",
   "execution_count": null,
   "id": "951aba5f-5630-4518-baed-b84e65596078",
   "metadata": {
    "tags": []
   },
   "outputs": [],
   "source": [
    "!pip list # Comprova la llista de llibreries instal·lades"
   ]
  },
  {
   "cell_type": "markdown",
   "id": "10430fc1-8827-485c-b57f-2d2f2c279e9b",
   "metadata": {
    "jp-MarkdownHeadingCollapsed": true,
    "tags": []
   },
   "source": [
    "### Random Forest - sklearn"
   ]
  },
  {
   "cell_type": "markdown",
   "id": "68a236c1-05f4-4442-95df-7ca3f624a845",
   "metadata": {},
   "source": [
    "Càrrega de llibreries\n",
    "https://www.datacamp.com/tutorial/random-forests-classifier-python\n"
   ]
  },
  {
   "cell_type": "code",
   "execution_count": 15,
   "id": "50e50536-50d1-4664-b324-6e63ab41386b",
   "metadata": {
    "tags": []
   },
   "outputs": [],
   "source": [
    "# Data Processing\n",
    "import pandas as pd\n",
    "import time\n",
    "import numpy as np\n",
    "\n",
    "# Modelling\n",
    "from sklearn.ensemble import RandomForestClassifier\n",
    "from sklearn import tree\n",
    "from sklearn import metrics\n",
    "from sklearn.metrics import accuracy_score, confusion_matrix, precision_score, recall_score, ConfusionMatrixDisplay\n",
    "from sklearn.model_selection import RandomizedSearchCV, train_test_split\n",
    "from scipy.stats import randint\n",
    "\n",
    "# Tree Visualisation\n",
    "from sklearn.tree import export_graphviz\n",
    "from IPython.display import Image\n",
    "import graphviz"
   ]
  },
  {
   "cell_type": "markdown",
   "id": "bdf53c6d-43ae-48ea-9592-359301259281",
   "metadata": {
    "tags": []
   },
   "source": [
    "Repetim ara amb RF"
   ]
  },
  {
   "cell_type": "code",
   "execution_count": 23,
   "id": "3c468741-6b57-4a12-806a-f36108d8dc91",
   "metadata": {
    "tags": []
   },
   "outputs": [
    {
     "name": "stdout",
     "output_type": "stream",
     "text": [
      "| j | 10 | 10 | 0.823783 | 0.647591 | 0.836971 | 331 |\n"
     ]
    }
   ],
   "source": [
    "# Part 1: definim Ydata, Ytst per a tots i Xdata, Xtst per a cada cas \n",
    "startTime = time.time()\n",
    "\n",
    "# Ydata = np.array(miltr.index)\n",
    "# Ytst = np.array(miltst.iloc[:,0])\n",
    "\n",
    "Ydata = np.array(alltr.iloc[:,0])\n",
    "Ytst = np.array(alltst.iloc[:,0])\n",
    "\n",
    "# d) Selecció 2\n",
    "# Xdata = np.array(miltr.iloc[:,[0,3,6,26]])\n",
    "# Xtst = np.array(miltst.iloc[:,[1,4,7,27]])\n",
    "# label = \"d\"\n",
    "\n",
    "# j) Alltr: 0 25 26 27\n",
    "Xdata = np.array(alltr.loc[:,[\"f0\",\"f25\",\"f26\",\"mass\"]])\n",
    "Xtst = np.array(alltst.loc[:,[\"f0\",\"f25\",\"f26\",\"mass\"]])\n",
    "label = \"j\"\n",
    "\n",
    "\n",
    "# Part 2: càlcul RF\n",
    "# Create a random forest classifier\n",
    "max_depth = 10\n",
    "n_estimators = 10\n",
    "rf = RandomForestClassifier(max_depth = max_depth,n_estimators = n_estimators)\n",
    "rf.fit(Xdata, Ydata)\n",
    "\n",
    "       \n",
    "# Part 3: avaluació RF\n",
    "Ypred = rf.predict(Xtst)\n",
    "acc = accuracy_score(Ytst,Ypred)\n",
    "kappa = metrics.cohen_kappa_score(Ypred,Ytst)\n",
    "F1S = metrics.f1_score(Ytst,Ypred)\n",
    "temps = time.time() - startTime\n",
    "\n",
    "# print(\"RT amb profunditat %i.\\nPrecisió = %f; kappa = %f; F1-Score = %f.\\nTemps d'execució = %i segons\" \n",
    "#       % (max_depth,acc,kappa,F1S,temps)) # Format agradable\n",
    "\n",
    "print(\"| %s | %i | %i | %f | %f | %f | %i |\" % (label,max_depth,n_estimators,acc,kappa,F1S,temps)) # Format per copiar i pegar a la taula\n"
   ]
  },
  {
   "cell_type": "markdown",
   "id": "3bdb3aa4-f899-4e99-805f-dca08168e4e1",
   "metadata": {
    "jp-MarkdownHeadingCollapsed": true,
    "tags": []
   },
   "source": [
    "### Resultats Random Forest"
   ]
  },
  {
   "cell_type": "markdown",
   "id": "9a46f0c0-8b46-4271-8451-3b6036c6c15a",
   "metadata": {},
   "source": [
    "| labels | Max_depth | n_estimators |  Acc  | Kappa | F1-S | Temps (s) |\n",
    "|:------:|:---------:|:-----:|:-----:|:----:|:-----:|-------|\n",
    "| *Proves amb miltr* |\n",
    "| d | 5 | 5 | 0.907114 | 0.814232 | 0.908994 | 107 |\n",
    "| d | 3 | 6 | 0.900202 | 0.800404 | 0.900286 | 80 |\n",
    "| d | 3 | 10 | 0.904306 | 0.808612 | 0.904545 | 130 |\n",
    "| *Proves amb alltr* |\n",
    "| j | 10 | 10 | 0.823783 | 0.647591 | 0.836971 | 331 |\n",
    "| j | 7 | 5 | 0.819847 | 0.639717 | 0.832060 | 128 |\n",
    "| j | 5 | 5 | 0.805153 | 0.610320 | 0.812224 | 93 |\n",
    "| j | 3 | 10 | 0.786887 | 0.573767 | 0.782951 | 105 |\n"
   ]
  },
  {
   "cell_type": "markdown",
   "id": "cc594019-a35e-4a0e-8f91-6a89bbab280b",
   "metadata": {
    "jp-MarkdownHeadingCollapsed": true,
    "tags": []
   },
   "source": [
    "### RandomizedSearchCV?"
   ]
  },
  {
   "cell_type": "markdown",
   "id": "e1c7fa03-6074-4c19-be36-6822671175c4",
   "metadata": {},
   "source": [
    "El mateix, però ara amb `RandomizedSearchCV`:"
   ]
  },
  {
   "cell_type": "code",
   "execution_count": null,
   "id": "ca360266-000f-415f-ba85-5f4d05d888f6",
   "metadata": {
    "tags": []
   },
   "outputs": [],
   "source": [
    "# Part 1: definim Ydata, Ytst per a tots i Xdata, Xtst per a cada cas ----------\n",
    "startTime = time.time()\n",
    "\n",
    "# Ydata = np.array(miltr.index)\n",
    "# Ytst = np.array(miltst.iloc[:,0])\n",
    "\n",
    "Ydata = np.array(alltr.iloc[:,0])\n",
    "Ytst = np.array(alltst.iloc[:,0])\n",
    "\n",
    "# d) Selecció 2\n",
    "# Xdata = np.array(miltr.iloc[:,[0,3,6,26]])\n",
    "# Xtst = np.array(miltst.iloc[:,[1,4,7,27]])\n",
    "# label = \"d\"\n",
    "\n",
    "# j) Alltr: 0 25 26 27\n",
    "Xdata = np.array(alltr.loc[:,[\"f0\",\"f25\",\"f26\",\"mass\"]])\n",
    "Xtst = np.array(alltst.loc[:,[\"f0\",\"f25\",\"f26\",\"mass\"]])\n",
    "label = \"j\"\n",
    "\n",
    "\n",
    "\n",
    "# Part 2: càlcul RF aleatoritzat\n",
    "rf = RandomForestClassifier()\n",
    "param_dist = {'n_estimators': randint(1,20),\n",
    "         'max_depth': randint(1,5)} # Paràmetres\n",
    "# Use random search to find the best hyperparameters\n",
    "rand_search = RandomizedSearchCV(rf, \n",
    "                                 param_distributions = param_dist, \n",
    "                                 n_iter=5, \n",
    "                                 cv=5)\n",
    "rand_search.fit(Xdata,Ydata)\n",
    "\n",
    "\n",
    "\n",
    "# Part 3: avaluació RF\n",
    "Ypred = rand_search.predict(Xtst)\n",
    "acc = accuracy_score(Ytst,Ypred)\n",
    "kappa = metrics.cohen_kappa_score(Ypred,Ytst)\n",
    "F1S = metrics.f1_score(Ytst,Ypred)\n",
    "temps = time.time() - startTime\n",
    "\n",
    "# print(\"RT amb profunditat %i.\\nPrecisió = %f; kappa = %f; F1-Score = %f.\\nTemps d'execució = %i segons\" \n",
    "#       % (max_depth,acc,kappa,F1S,temps)) # Format agradable\n",
    "\n",
    "print(\"| %s | %i | %i | %f | %f | %f | %i |\" % (label,param_dist.get(\"max_depth\"),param_dist.get(n_estimators),acc,kappa,F1S,temps)) # Format per copiar i pegar a la taula\n",
    "Audio(sound_file, autoplay=True)"
   ]
  },
  {
   "cell_type": "code",
   "execution_count": null,
   "id": "aec678ae-2f2d-4ade-9cad-acef9ab7e37f",
   "metadata": {
    "tags": []
   },
   "outputs": [],
   "source": [
    "# print(\"| %s | %i | %i | %f | %f | %f | %i |\" % (label,param_dist.get(\"max_depth\"),param_dist.get(n_estimators),acc,kappa,F1S,temps)) # Format per copiar i pegar a la taula\n",
    "print(randint(1,10))"
   ]
  },
  {
   "cell_type": "markdown",
   "id": "4fa8da56-6f29-422a-a4ea-87b8468e9e5f",
   "metadata": {
    "jp-MarkdownHeadingCollapsed": true,
    "tags": []
   },
   "source": [
    "### Resultats Taula RandomizedSearchCV"
   ]
  },
  {
   "cell_type": "markdown",
   "id": "99972c86-18da-403c-9960-2da9b8bb97ca",
   "metadata": {
    "tags": []
   },
   "source": [
    "| labels | Max_depth | n_estimators |  Acc  | Kappa | F1-S | Temps (s) |\n",
    "|:------:|:---------:|:-----:|:-----:|:----:|:-----:|-------|\n",
    "| *Proves amb miltr* |\n",
    "||\n",
    "| *Proves amb alltr* |\n",
    "||"
   ]
  },
  {
   "cell_type": "markdown",
   "id": "b233c599-bea0-4ed0-818d-cc3b892757ba",
   "metadata": {
    "jp-MarkdownHeadingCollapsed": true,
    "tags": []
   },
   "source": [
    "## AdaBoost"
   ]
  },
  {
   "cell_type": "markdown",
   "id": "a7f0483b-2fee-44eb-9d2b-4e1e0ded6c98",
   "metadata": {},
   "source": [
    "Directament amb sklearn"
   ]
  },
  {
   "cell_type": "code",
   "execution_count": 44,
   "id": "f7fe298f-3169-4b89-b448-6b052a55d336",
   "metadata": {
    "tags": []
   },
   "outputs": [],
   "source": [
    "# Load libraries\n",
    "from sklearn.ensemble import AdaBoostClassifier\n",
    "from sklearn import datasets\n",
    "# Import train_test_split function\n",
    "from sklearn.model_selection import train_test_split\n",
    "#Import scikit-learn metrics module for accuracy calculation\n",
    "from sklearn import metrics"
   ]
  },
  {
   "cell_type": "markdown",
   "id": "8dc6bf2c-c0f2-4e78-a94e-2aa565788254",
   "metadata": {},
   "source": [
    "De nou, emprem pràcticament el mateix codi:"
   ]
  },
  {
   "cell_type": "code",
   "execution_count": 50,
   "id": "95c10141-2820-45cb-b137-bb34bca46581",
   "metadata": {
    "tags": []
   },
   "outputs": [
    {
     "name": "stdout",
     "output_type": "stream",
     "text": [
      "| d | 1.00 | 10 | 0.900278 | 0.800557 | 0.901410 | 106 |\n"
     ]
    },
    {
     "data": {
      "text/html": [
       "\n",
       "                <audio  controls=\"controls\" autoplay=\"autoplay\">\n",
       "                    <source src=\"data:audio/wav;base64,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\" type=\"audio/wav\" />\n",
       "                    Your browser does not support the audio element.\n",
       "                </audio>\n",
       "              "
      ],
      "text/plain": [
       "<IPython.lib.display.Audio object>"
      ]
     },
     "execution_count": 50,
     "metadata": {},
     "output_type": "execute_result"
    }
   ],
   "source": [
    "from sklearn.ensemble import AdaBoostClassifier\n",
    "# Part 1: definim Ydata, Ytst per a tots i Xdata, Xtst per a cada cas \n",
    "startTime = time.time()\n",
    "\n",
    "Ydata = np.array(miltr.index)\n",
    "Ytst = np.array(miltst.iloc[:,0])\n",
    "\n",
    "# Ydata = np.array(alltr.iloc[:,0])\n",
    "# Ytst = np.array(alltst.iloc[:,0])\n",
    "\n",
    "# d) Selecció 2\n",
    "Xdata = np.array(miltr.iloc[:,[0,3,6,26]])\n",
    "Xtst = np.array(miltst.iloc[:,[1,4,7,27]])\n",
    "label = \"d\"\n",
    "\n",
    "# j) Alltr: 0 25 26 27\n",
    "# Xdata = np.array(alltr.loc[:,[\"f0\",\"f25\",\"f26\",\"mass\"]])\n",
    "# Xtst = np.array(alltst.loc[:,[\"f0\",\"f25\",\"f26\",\"mass\"]])\n",
    "# label = \"j\"\n",
    "\n",
    "\n",
    "# Part 2: càlcul AdaBoost\n",
    "# Create an AdaBoost classifier\n",
    "n_estimators = 10\n",
    "learning_rate = 1\n",
    "rf = AdaBoostClassifier(n_estimators = n_estimators, learning_rate = learning_rate)\n",
    "rf.fit(Xdata, Ydata)\n",
    "\n",
    "       \n",
    "# Part 3: avaluació AdaBoost\n",
    "Ypred = rf.predict(Xtst)\n",
    "acc = accuracy_score(Ytst,Ypred)\n",
    "kappa = metrics.cohen_kappa_score(Ypred,Ytst)\n",
    "F1S = metrics.f1_score(Ytst,Ypred)\n",
    "temps = time.time() - startTime\n",
    "\n",
    "# print(\"RT amb profunditat %i.\\nPrecisió = %f; kappa = %f; F1-Score = %f.\\nTemps d'execució = %i segons\" \n",
    "#       % (max_depth,acc,kappa,F1S,temps)) # Format agradable\n",
    "\n",
    "print(\"| %s | %.2f | %i | %f | %f | %f | %i |\" % (label,learning_rate,n_estimators,acc,kappa,F1S,temps)) # Format per copiar i pegar a la taula\n",
    "Audio(sound_file, autoplay=True)"
   ]
  },
  {
   "cell_type": "markdown",
   "id": "d8d9ad3d-8b31-4a5b-a951-ff4f6b11b541",
   "metadata": {},
   "source": [
    "### Resultats Taula AdaBoost"
   ]
  },
  {
   "cell_type": "markdown",
   "id": "622e3073-bb39-4355-8ccd-d9cc0ed105ae",
   "metadata": {},
   "source": [
    "| labels | learning_rate | n_estimators |  Acc  | Kappa | F1-S | Temps (s) |\n",
    "|:------:|:---------:|:-----:|:-----:|:----:|:-----:|-------|\n",
    "| *Proves amb miltr* |\n",
    "| d | 1.00 | 10 | 0.900278 | 0.800557 | 0.901410 | 106 |\n",
    "| *Proves amb alltr* |\n",
    "| j | 1.000 | 10 | 0.786525 | 0.573037 | 0.779163 | 97 |\n",
    "| j | 2.000 | 10 | 0.230951 | -0.538002 | 0.282435 | 93 |\n",
    "| j | 0.500 | 10 | 0.782417 | 0.564828 | 0.778332 | 100 |\n",
    "| j | 0.500 | 20 | 0.788068 | 0.576123 | 0.780117 | 241 |\n",
    "| j | 1.000 | 100 | 0.792516 | 0.585020 | 0.785506 | 962 |\n"
   ]
  },
  {
   "cell_type": "code",
   "execution_count": null,
   "id": "0e31ed49-1d0c-41bb-8ba3-8d52c0e7f613",
   "metadata": {},
   "outputs": [],
   "source": []
  }
 ],
 "metadata": {
  "kernelspec": {
   "display_name": "Python 3 (ipykernel)",
   "language": "python",
   "name": "python3"
  },
  "language_info": {
   "codemirror_mode": {
    "name": "ipython",
    "version": 3
   },
   "file_extension": ".py",
   "mimetype": "text/x-python",
   "name": "python",
   "nbconvert_exporter": "python",
   "pygments_lexer": "ipython3",
   "version": "3.11.6"
  }
 },
 "nbformat": 4,
 "nbformat_minor": 5
}
