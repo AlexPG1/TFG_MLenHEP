{
 "cells": [
  {
   "cell_type": "markdown",
   "id": "5e703fe2-f414-447d-a6b6-6b5881df9853",
   "metadata": {},
   "source": [
    "We will consider the following initial premises:\n",
    "1) The column variables are ordered as follows: [\"l_pt\",\"l_eta\",\"l_phi\",\"MET\",\"M_phi\",\"njets\",\"pt1\",\"eta1\",\"phi1\",\"b1\",\"pt2\",\"eta2\",\"phi2\",\"b2\",\n",
    "                 \"pt3\",\"eta3\",\"phi3\",\"b3\",\"pt4\",\"eta4\",\"phi4\",\"b4\",\"m_jj\",\"m_jjj\",\"m_lv\",\"m_jlv\",\"m_wwbb\"]\n",
    "2) We will only use those events where at least two of the selected four are btagged.\n",
    "3) We will only use those events where there are only 4 jets so they most resemble (feynman_xtt).\n",
    "4) We will calculate m_jj considering the not b-tagged jets.\n",
    "5) Eta is calculated from pseudorapidity by 2*arctan((exp(-eta)).\n",
    "6) Energy of the jet ~ pt (mass is negligible) --> m_jj = 2·pt1·pt2·(1 - sin(phi1)·sin(phi2)·cos(theta1-theta2) - cos(phi1)cos(phi2)."
   ]
  },
  {
   "cell_type": "markdown",
   "id": "1dc5399f-a96e-43ba-8204-2303c7fdaba4",
   "metadata": {},
   "source": [
    "We load the datasets generated with mass 1000 and we rename the columns."
   ]
  },
  {
   "cell_type": "code",
   "execution_count": 3,
   "id": "abe74a1a-ccc0-4fe7-b32a-e2afe660cea8",
   "metadata": {
    "tags": []
   },
   "outputs": [],
   "source": [
    "import pandas as pd\n",
    "import numpy as np\n",
    "nonorm1 = pd.DataFrame(np.loadtxt(\"D:/OneDrive/Universitat/5. Quint/TFG/RstudioPython/Dades/NoNormalTrue/xttbar_m1000_aug17.txt\"))\n",
    "nonorm2 = pd.DataFrame(np.loadtxt(\"D:/OneDrive/Universitat/5. Quint/TFG/RstudioPython/Dades/NoNormalTrue/xttbar_m1000_aug4.txt\"))\n",
    "nonorm = pd.concat([nonorm1,nonorm2])\n",
    "del(nonorm1,nonorm2)\n",
    "nonorm.columns = [\"l_pt\",\"l_eta\",\"l_phi\",\"MET\",\"M_phi\",\"njets\",\"pt1\",\"eta1\",\"phi1\",\"b1\",\"pt2\",\"eta2\",\"phi2\",\"b2\",\n",
    "                 \"pt3\",\"eta3\",\"phi3\",\"b3\",\"pt4\",\"eta4\",\"phi4\",\"b4\",\"m_jj\",\"m_jjj\",\"m_lv\",\"m_jlv\",\"m_wwbb\"]\n",
    "nonorm.insert(0,\"btotal\",pd.DataFrame(np.zeros(len(nonorm))),True)\n",
    "nonorm.iloc[:,0] = (nonorm.iloc[:,10]+nonorm.iloc[:,14]+nonorm.iloc[:,18]+nonorm.iloc[:,22])\n",
    "nonorm.to_csv(\"nonorm1000.csv\", sep=',', index=False)"
   ]
  },
  {
   "cell_type": "markdown",
   "id": "6de735f6-be1f-4e92-8e36-e5cbfaa63f62",
   "metadata": {},
   "source": [
    "As steps took increasingly more computation time, I sometimes saved the datasets to reload them another day."
   ]
  },
  {
   "cell_type": "code",
   "execution_count": null,
   "id": "e1b92d88-bca1-4aa7-8640-032e7168d2e0",
   "metadata": {},
   "outputs": [],
   "source": [
    "# nonorm.to_csv(\"nonorm1000.csv\", sep=',', index=False)\n",
    "# nonorm = pd.read_csv(r\"D:\\OneDrive\\Universitat\\5. Quint\\TFG\\RstudioPython\\nonorm.csv\")"
   ]
  },
  {
   "cell_type": "markdown",
   "id": "be6ec7b8-ac59-4517-ae6f-484fa6ac4acd",
   "metadata": {},
   "source": [
    "We select only those events where at least two of the events are btagged and njets = 4."
   ]
  },
  {
   "cell_type": "code",
   "execution_count": 19,
   "id": "da0b2342-7f13-4968-8d3a-df0f8a1fed3c",
   "metadata": {
    "tags": []
   },
   "outputs": [],
   "source": [
    "someTr = nonorm[nonorm[\"btotal\"] == 2]\n",
    "someTr = someTr[someTr[\"njets\"] == 4]\n",
    "n_esdev = len(someTr)"
   ]
  },
  {
   "cell_type": "markdown",
   "id": "0b370808-8f52-4f52-b812-925f7c8f1b99",
   "metadata": {},
   "source": [
    "Now we select only the cinematic information of the non-btagged jets. "
   ]
  },
  {
   "cell_type": "code",
   "execution_count": null,
   "id": "c760baf6-bdeb-4a71-b827-fa020951f986",
   "metadata": {
    "tags": []
   },
   "outputs": [],
   "source": [
    "vectors = pd.DataFrame(np.zeros([n_esdev,6]))\n",
    "vectors.columns = [\"p1\",\"eta1\",\"phi1\",\"p2\",\"eta2\",\"phi2\"]\n",
    "\n",
    "for i in range(n_esdev):\n",
    "    if someTr.iloc[i,10]:\n",
    "        if someTr.iloc[i,14]:\n",
    "            vectors = someTr.iloc[i,[15,16,17,19,20,21]]\n",
    "        elif someTr.iloc[i,18]:\n",
    "            vectors = someTr.iloc[i,[11,12,13,19,20,21]]\n",
    "        elif someTr.iloc[i,22]:\n",
    "            vectors = someTr.iloc[i,[11,12,13,15,16,17]]\n",
    "    elif someTr.iloc[i,14]:\n",
    "        if someTr.iloc[i,18]:\n",
    "            vectors = someTr.iloc[i,[7,8,9,19,20,21]]\n",
    "        if someTr.iloc[i,22]:\n",
    "            vectors = someTr.iloc[i,[7,8,9,15,16,17]]\n",
    "    else:\n",
    "        vectors = someTr.iloc[i,[7,8,9,11,12,13]]\n"
   ]
  },
  {
   "cell_type": "markdown",
   "id": "3a5ae348-9024-46a7-be4f-caac9defe092",
   "metadata": {},
   "source": [
    "Now we transform pseudorapidity back into theta, rename columns and save into a file."
   ]
  },
  {
   "cell_type": "code",
   "execution_count": null,
   "id": "8c18981f-bc1b-4c88-b213-8d87052c4f51",
   "metadata": {
    "tags": []
   },
   "outputs": [],
   "source": [
    "vectors.loc[:,[\"eta1\",\"eta2\"]] = 2*(((-1*vectors.loc[:,[\"eta1\",\"eta2\"]]).apply(np.exp)).apply(np.arctan))\n",
    "vectors.columns = [\"p1\",\"theta1\",\"phi1\",\"p2\",\"theta2\",\"phi2\"]\n",
    "# vectors.to_csv(\"jets4nob.csv\", sep=',', index=False)"
   ]
  },
  {
   "cell_type": "markdown",
   "id": "a9868ef0-7361-4077-a6ab-bad3dca3db45",
   "metadata": {},
   "source": [
    "We calculate m_jj considering E_j ~ |pt| so m_jj = 2·pt1·pt2·(1 - sin(phi1)·sin(phi2)·cos(theta1-theta2) - cos(phi1)cos(phi2)."
   ]
  },
  {
   "cell_type": "code",
   "execution_count": null,
   "id": "59696bbb-9e91-4367-a40b-3461847db755",
   "metadata": {
    "tags": []
   },
   "outputs": [],
   "source": [
    "m_jj = pd.DataFrame(np.zeros([len(vectors),0]))\n",
    "m_jj = 1 - ( vectors.loc[:,\"phi1\"].apply(np.sin) * vectors.loc[:,\"phi2\"].apply(np.sin) * (vectors.loc[:,\"theta1\"] - vectors.loc[:,\"theta2\"]).apply(np.cos) )\n",
    "m_jj = m_jj - ( vectors.loc[:,\"phi1\"].apply(np.cos) * vectors.loc[:,\"phi2\"].apply(np.cos) )\n",
    "m_jj = np.sqrt( 2 * vectors.loc[:,\"p1\"] * vectors.loc[:,\"p2\"] * m_jj )"
   ]
  },
  {
   "cell_type": "markdown",
   "id": "2e918f3b-f905-46c5-a790-fd3d6c493c0f",
   "metadata": {},
   "source": [
    "We plot m_jj from the dataset alongside our calculated m_jj."
   ]
  },
  {
   "cell_type": "code",
   "execution_count": null,
   "id": "79399afb-9310-4f21-b088-de7e3b600848",
   "metadata": {
    "tags": []
   },
   "outputs": [],
   "source": [
    "bins1 = np.linspace(0, 1000, 100)\n",
    "bins2 = np.linspace(0, 1000, 100)\n",
    "\n",
    "# nonorm = pd.read_csv(r\"D:\\OneDrive\\Universitat\\5. Quint\\TFG\\RstudioPython\\nonorm1000.csv\")\n",
    "someTr = nonorm[nonorm[\"btotal\"] == 2]\n",
    "someTr = someTr[someTr[\"njets\"] == 4]\n",
    "\n",
    "plt.hist(m_jj, bins1, alpha=0.5, label='Calculated')\n",
    "plt.hist(someTr[someTr[\"btotal\"] == 2].loc[:,\"m_jj\"], bins2, alpha=0.5, label='Dataset')\n",
    "plt.legend(loc='upper right')\n",
    "plt.xlabel('m_jj')\n",
    "plt.ylabel('Frequency')\n",
    "plt.title('Histogram of invariant mass_jj')\n",
    "plt.savefig(\"D:/OneDrive/Universitat/5. Quint/TFG/RstudioPython/Figures/prova.png\")\n",
    "plt.show()"
   ]
  },
  {
   "cell_type": "code",
   "execution_count": 6,
   "id": "e0391ca4-519b-491c-ada3-ee1ae9ccb891",
   "metadata": {},
   "outputs": [],
   "source": [
    "import pandas as pd\n",
    "vectors = pd.read_csv(r\"C:\\Users\\alexp\\OneDrive\\Universitat\\5. Quint\\TFG\\RstudioPython\\jets4nob.csv\")\n"
   ]
  },
  {
   "cell_type": "code",
   "execution_count": 7,
   "id": "05a1bacd-051e-4894-a726-5d50c939d457",
   "metadata": {},
   "outputs": [
    {
     "name": "stdout",
     "output_type": "stream",
     "text": [
      "               p1    theta1      phi1        p2    theta2     phi2\n",
      "0        146.0610  1.650466  0.655341   22.6698  1.782233  2.90245\n",
      "1         87.9534  2.150995 -1.450480   43.3677  2.526081  1.26638\n",
      "2        247.6320  0.151866 -0.090815   27.8114  2.230994 -1.86307\n",
      "3         81.1532  1.226633 -1.056190   30.1326  2.468603  2.75392\n",
      "4         26.5728  1.709639  3.081610   23.8286  2.831420 -2.14982\n",
      "...           ...       ...       ...       ...       ...      ...\n",
      "2206918  210.7280  0.465240  2.658820   21.6742  0.969785 -1.97697\n",
      "2206919  299.8570  2.316131 -1.295000  153.9110  2.478840  2.95115\n",
      "2206920  112.7170  2.518459 -1.242190   42.1538  2.304945  1.52918\n",
      "2206921   37.2781  2.787560  2.989910   35.6245  0.263479 -1.87100\n",
      "2206922  244.3510  2.676586  2.371790   98.8464  0.546129  1.18589\n",
      "\n",
      "[2206923 rows x 6 columns]\n"
     ]
    }
   ],
   "source": [
    "print(vectors)"
   ]
  },
  {
   "cell_type": "code",
   "execution_count": 15,
   "id": "c860d083-d3bb-4948-a4b0-3320e2a43de2",
   "metadata": {},
   "outputs": [
    {
     "data": {
      "text/plain": [
       "(array([    0.,     0.,     0., 15062., 19084., 19727., 21227., 22419.,\n",
       "        22999., 23989., 24579., 25386., 25958., 25959., 27133., 26422.,\n",
       "        26564., 27022., 25408., 26100., 25031., 25565., 25420., 25137.,\n",
       "        24438., 25105., 24013., 24756., 23927., 24002., 24319., 22790.,\n",
       "        24391., 24012., 22775., 24042., 23199., 22595., 24115., 22894.,\n",
       "        22288., 23540., 22632., 22151., 23252., 23068., 21948., 23197.,\n",
       "        22818., 21936., 23208., 22952., 22128., 22797., 23210., 22363.,\n",
       "        23115., 23528., 22722., 22794., 23808., 22968., 23413., 24002.,\n",
       "        22803., 23724., 24088., 23149., 24242., 23954., 23702., 24631.,\n",
       "        23826., 25091., 24422., 24936., 24995., 25162., 25137., 25787.,\n",
       "        25725., 26988., 26522., 26494., 26889., 26119., 25998., 25435.,\n",
       "        24908., 24296., 23237., 22314., 21088., 19927., 18940., 14992.,\n",
       "            0.,     0.,     0.]),\n",
       " array([0.        , 0.03173326, 0.06346652, 0.09519978, 0.12693304,\n",
       "        0.1586663 , 0.19039955, 0.22213281, 0.25386607, 0.28559933,\n",
       "        0.31733259, 0.34906585, 0.38079911, 0.41253237, 0.44426563,\n",
       "        0.47599889, 0.50773215, 0.53946541, 0.57119866, 0.60293192,\n",
       "        0.63466518, 0.66639844, 0.6981317 , 0.72986496, 0.76159822,\n",
       "        0.79333148, 0.82506474, 0.856798  , 0.88853126, 0.92026451,\n",
       "        0.95199777, 0.98373103, 1.01546429, 1.04719755, 1.07893081,\n",
       "        1.11066407, 1.14239733, 1.17413059, 1.20586385, 1.23759711,\n",
       "        1.26933037, 1.30106362, 1.33279688, 1.36453014, 1.3962634 ,\n",
       "        1.42799666, 1.45972992, 1.49146318, 1.52319644, 1.5549297 ,\n",
       "        1.58666296, 1.61839622, 1.65012947, 1.68186273, 1.71359599,\n",
       "        1.74532925, 1.77706251, 1.80879577, 1.84052903, 1.87226229,\n",
       "        1.90399555, 1.93572881, 1.96746207, 1.99919533, 2.03092858,\n",
       "        2.06266184, 2.0943951 , 2.12612836, 2.15786162, 2.18959488,\n",
       "        2.22132814, 2.2530614 , 2.28479466, 2.31652792, 2.34826118,\n",
       "        2.37999443, 2.41172769, 2.44346095, 2.47519421, 2.50692747,\n",
       "        2.53866073, 2.57039399, 2.60212725, 2.63386051, 2.66559377,\n",
       "        2.69732703, 2.72906028, 2.76079354, 2.7925268 , 2.82426006,\n",
       "        2.85599332, 2.88772658, 2.91945984, 2.9511931 , 2.98292636,\n",
       "        3.01465962, 3.04639288, 3.07812614, 3.10985939, 3.14159265]),\n",
       " <BarContainer object of 99 artists>)"
      ]
     },
     "execution_count": 15,
     "metadata": {},
     "output_type": "execute_result"
    },
    {
     "data": {
      "image/png": "[encoded data removed]",
      "text/plain": [
       "<Figure size 640x480 with 1 Axes>"
      ]
     },
     "metadata": {},
     "output_type": "display_data"
    }
   ],
   "source": [
    "import numpy as np\n",
    "import matplotlib.pyplot as plt\n",
    "bins1 = np.linspace(0, np.pi, 100)\n",
    "plt.hist(vectors.iloc[:,1], bins1, alpha=0.5, label='Calculated')"
   ]
  },
  {
   "cell_type": "code",
   "execution_count": 16,
   "id": "067fa117-62d2-4d92-9c28-82d3c85753cc",
   "metadata": {},
   "outputs": [
    {
     "ename": "NameError",
     "evalue": "name 'tre' is not defined",
     "output_type": "error",
     "traceback": [
      "\u001b[1;31m---------------------------------------------------------------------------\u001b[0m",
      "\u001b[1;31mNameError\u001b[0m                                 Traceback (most recent call last)",
      "Cell \u001b[1;32mIn[16], line 1\u001b[0m\n\u001b[1;32m----> 1\u001b[0m Ydata \u001b[38;5;241m=\u001b[39m np\u001b[38;5;241m.\u001b[39marray(tre\u001b[38;5;241m.\u001b[39miloc[:,\u001b[38;5;241m0\u001b[39m])\n\u001b[0;32m      2\u001b[0m Xdata \u001b[38;5;241m=\u001b[39m tre\u001b[38;5;241m.\u001b[39mloc[:,[\u001b[38;5;124m\"\u001b[39m\u001b[38;5;124mpt1\u001b[39m\u001b[38;5;124m\"\u001b[39m,\u001b[38;5;124m\"\u001b[39m\u001b[38;5;124mpt2\u001b[39m\u001b[38;5;124m\"\u001b[39m,\u001b[38;5;124m\"\u001b[39m\u001b[38;5;124ml_pt\u001b[39m\u001b[38;5;124m\"\u001b[39m,\u001b[38;5;124m\"\u001b[39m\u001b[38;5;124mm_jlv\u001b[39m\u001b[38;5;124m\"\u001b[39m,\u001b[38;5;124m\"\u001b[39m\u001b[38;5;124mm_wwbb\u001b[39m\u001b[38;5;124m\"\u001b[39m,\u001b[38;5;124m\"\u001b[39m\u001b[38;5;124mMET\u001b[39m\u001b[38;5;124m\"\u001b[39m]]\n\u001b[0;32m      3\u001b[0m Ytst \u001b[38;5;241m=\u001b[39m np\u001b[38;5;241m.\u001b[39marray(tste\u001b[38;5;241m.\u001b[39miloc[:,\u001b[38;5;241m0\u001b[39m])\n",
      "\u001b[1;31mNameError\u001b[0m: name 'tre' is not defined"
     ]
    }
   ],
   "source": [
    "Ydata = np.array(tre.iloc[:,0])\n",
    "Xdata = tre.loc[:,[\"pt1\",\"pt2\",\"l_pt\",\"m_jlv\",\"m_wwbb\",\"MET\"]]\n",
    "Ytst = np.array(tste.iloc[:,0])\n",
    "Xtst = tste.loc[:,[\"pt1\",\"pt2\",\"l_pt\",\"m_jlv\",\"m_wwbb\",\"MET\"]]\n",
    "\n",
    "bdt = ensemble.AdaBoostClassifier(n_estimators = 10)\n",
    "bdt = bdt.fit(Xdata, Ydata)\n",
    "\n",
    "Ypred = bdt.predict(Xdata)\n",
    "acc[i] = bdt.score(Xdata, Ydata)"
   ]
  }
 ],
 "metadata": {
  "kernelspec": {
   "display_name": "Python 3 (ipykernel)",
   "language": "python",
   "name": "python3"
  },
  "language_info": {
   "codemirror_mode": {
    "name": "ipython",
    "version": 3
   },
   "file_extension": ".py",
   "mimetype": "text/x-python",
   "name": "python",
   "nbconvert_exporter": "python",
   "pygments_lexer": "ipython3",
   "version": "3.11.5"
  }
 },
 "nbformat": 4,
 "nbformat_minor": 5
}
